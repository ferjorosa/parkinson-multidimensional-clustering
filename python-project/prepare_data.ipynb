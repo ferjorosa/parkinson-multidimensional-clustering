{
 "cells": [
  {
   "cell_type": "markdown",
   "metadata": {},
   "source": [
    "# Prepare data\n",
    "\n",
    "#### Purpose\n",
    "\n",
    "In this notebook, we are going to prepare the data for analysis, generating an ARFF file that can be read by our Java project. More especifically, we are going to:\n",
    "* Generate the attributes that will be considered by the clustering algorithms. Combining MDS-NMS items to generate non-motor symptoms and combining MDS-UPDRS items to generate motor symptoms.\n",
    "* Select socio-demographic, clinical and H&Y stage for the posterior comparative cluster analysis.\n",
    "\n",
    "----\n",
    "#### Load data"
   ]
  },
  {
   "cell_type": "code",
   "execution_count": 3,
   "metadata": {},
   "outputs": [
    {
     "data": {
      "text/plain": [
       "(402, 412)"
      ]
     },
     "execution_count": 3,
     "metadata": {},
     "output_type": "execute_result"
    }
   ],
   "source": [
    "import pandas as pd\n",
    "import numpy as np\n",
    "\n",
    "# Load original data\n",
    "original_data = pd.read_csv(\"../data/original_data.csv\", sep=\";\")\n",
    "# Replace ? with NaN\n",
    "original_data = original_data.replace(\"?\", np.nan)\n",
    "original_data.shape"
   ]
  },
  {
   "cell_type": "markdown",
   "metadata": {},
   "source": [
    "## 1 - Select original attributes"
   ]
  },
  {
   "cell_type": "markdown",
   "metadata": {},
   "source": [
    "### 1.1 - Socio-demographic and clinical"
   ]
  },
  {
   "cell_type": "code",
   "execution_count": 4,
   "metadata": {},
   "outputs": [],
   "source": [
    "original_socio_demographic_cols = [\"patnum\", \"age\", \"sex\", \"pdonset\", \"durat_pd\"]\n",
    "original_socio_demographic = original_data[original_socio_demographic_cols]"
   ]
  },
  {
   "cell_type": "markdown",
   "metadata": {},
   "source": [
    "### 1.2 - Hoehn-Yahr"
   ]
  },
  {
   "cell_type": "code",
   "execution_count": 5,
   "metadata": {},
   "outputs": [],
   "source": [
    "original_hoehn_yahr_cols = [\"hy\"]\n",
    "original_hoehn_yahr = original_data[original_hoehn_yahr_cols]"
   ]
  },
  {
   "cell_type": "markdown",
   "metadata": {},
   "source": [
    "### 1.3 - MDS - NMS\n",
    "\n",
    "Select the combination of severity and frequency attributes."
   ]
  },
  {
   "cell_type": "code",
   "execution_count": 6,
   "metadata": {},
   "outputs": [
    {
     "name": "stderr",
     "output_type": "stream",
     "text": [
      "C:\\Users\\Fer\\Anaconda3\\lib\\site-packages\\ipykernel_launcher.py:4: SettingWithCopyWarning: \n",
      "A value is trying to be set on a copy of a slice from a DataFrame.\n",
      "Try using .loc[row_indexer,col_indexer] = value instead\n",
      "\n",
      "See the caveats in the documentation: https://pandas.pydata.org/pandas-docs/stable/user_guide/indexing.html#returning-a-view-versus-a-copy\n",
      "  after removing the cwd from sys.path.\n",
      "C:\\Users\\Fer\\Anaconda3\\lib\\site-packages\\ipykernel_launcher.py:7: SettingWithCopyWarning: \n",
      "A value is trying to be set on a copy of a slice from a DataFrame.\n",
      "Try using .loc[row_indexer,col_indexer] = value instead\n",
      "\n",
      "See the caveats in the documentation: https://pandas.pydata.org/pandas-docs/stable/user_guide/indexing.html#returning-a-view-versus-a-copy\n",
      "  import sys\n"
     ]
    }
   ],
   "source": [
    "original_mds_nms_cols = [col for col in original_data.columns if col.startswith(\"mdsnms_\") and not col.endswith(\"f\") and not col.endswith(\"s\")]\n",
    "original_mds_nms = original_data[original_mds_nms_cols]\n",
    "for col in original_mds_nms.columns:\n",
    "    original_mds_nms[col] = pd.to_numeric(original_mds_nms[col])\n",
    "\n",
    "for col in original_mds_nms.columns:\n",
    "    original_mds_nms[col] = original_mds_nms[col].astype(\"float64\")\n",
    "\n",
    "#original_mds_nms.dtypes\n",
    "#original_mds_nms.shape"
   ]
  },
  {
   "cell_type": "markdown",
   "metadata": {},
   "source": [
    "### 1.4 - UPDRS - Motor\n",
    "\n",
    "Manually select those variables that represent motor symptoms corresponding to the \"Part 2: Part II: Motor Aspects of Experiences of Daily Living (M-EDL)\", \"Part 3: Motor examination\", and \"Part 4: Motor complications\" domains."
   ]
  },
  {
   "cell_type": "code",
   "execution_count": 7,
   "metadata": {},
   "outputs": [
    {
     "name": "stderr",
     "output_type": "stream",
     "text": [
      "C:\\Users\\Fer\\Anaconda3\\lib\\site-packages\\ipykernel_launcher.py:16: SettingWithCopyWarning: \n",
      "A value is trying to be set on a copy of a slice from a DataFrame.\n",
      "Try using .loc[row_indexer,col_indexer] = value instead\n",
      "\n",
      "See the caveats in the documentation: https://pandas.pydata.org/pandas-docs/stable/user_guide/indexing.html#returning-a-view-versus-a-copy\n",
      "  app.launch_new_instance()\n",
      "C:\\Users\\Fer\\Anaconda3\\lib\\site-packages\\ipykernel_launcher.py:19: SettingWithCopyWarning: \n",
      "A value is trying to be set on a copy of a slice from a DataFrame.\n",
      "Try using .loc[row_indexer,col_indexer] = value instead\n",
      "\n",
      "See the caveats in the documentation: https://pandas.pydata.org/pandas-docs/stable/user_guide/indexing.html#returning-a-view-versus-a-copy\n"
     ]
    }
   ],
   "source": [
    "original_updrs_motor_cols = [\n",
    "    # M-EDL\n",
    "    \"mdsupdrs2_1\", \"mdsupdrs2_2\", \"mdsupdrs2_3\", \"mdsupdrs2_4\", \"mdsupdrs2_5\", \"mdsupdrs2_6\", \"mdsupdrs2_7\", \"mdsupdrs2_8\", \"mdsupdrs2_9\",\n",
    "    \"mdsupdrs2_10\", \"mdsupdrs2_11\", \"mdsupdrs2_12\", \"mdsupdrs2_13\",\n",
    "    # Motor examination\n",
    "    \"mdsupdrs3_1\",\"mdsupdrs3_2\",\"mdsupdrs3_3a\",\"mdsupdrs3_3b\",\"mdsupdrs3_3c\",\"mdsupdrs3_3d\",\"mdsupdrs3_3e\",\"mdsupdrs3_4a\",\"mdsupdrs3_4b\",\n",
    "    \"mdsupdrs3_5a\",\"mdsupdrs3_5b\",\"mdsupdrs3_6a\",\"mdsupdrs3_6b\",\"mdsupdrs3_7a\",\"mdsupdrs3_7b\",\"mdsupdrs3_8a\",\"mdsupdrs3_8b\",\"mdsupdrs3_9\",\n",
    "    \"mdsupdrs3_10\",\"mdsupdrs3_11\",\"mdsupdrs3_12\",\"mdsupdrs3_13\",\"mdsupdrs3_14\",\"mdsupdrs3_15a\",\"mdsupdrs3_15b\",\"mdsupdrs3_16a\",\"mdsupdrs3_16b\",\n",
    "    \"mdsupdrs3_17a\",\"mdsupdrs3_17b\",\"mdsupdrs3_17c\",\"mdsupdrs3_17d\",\"mdsupdrs3_17e\",\"mdsupdrs3_18\",\n",
    "    # Motor complications\n",
    "    \"mdsupdrs4_1\",\"mdsupdrs4_2\",\"mdsupdrs4_3\",\"mdsupdrs4_4\",\"mdsupdrs4_5\",\"mdsupdrs4_6\"\n",
    "]\n",
    "original_updrs_motor = original_data[original_updrs_motor_cols]\n",
    "\n",
    "for col in original_updrs_motor.columns:\n",
    "    original_updrs_motor[col] = pd.to_numeric(original_updrs_motor[col])\n",
    "    \n",
    "for col in original_updrs_motor.columns:\n",
    "    original_updrs_motor[col] = original_updrs_motor[col].astype(\"float64\")\n",
    "\n",
    "#original_updrs_motor.dtypes\n",
    "#original_updrs_motor.shape"
   ]
  },
  {
   "cell_type": "markdown",
   "metadata": {},
   "source": [
    "### 1.5 - Combine them all\n",
    "\n",
    "Once selected, combine all data frames in a single one, which we are going to use to locate missing values"
   ]
  },
  {
   "cell_type": "code",
   "execution_count": 8,
   "metadata": {},
   "outputs": [],
   "source": [
    "data_combined = pd.concat([original_socio_demographic, original_hoehn_yahr, original_mds_nms, original_updrs_motor], axis = 1)"
   ]
  },
  {
   "cell_type": "markdown",
   "metadata": {},
   "source": [
    "## 2 - Missing data\n",
    "\n",
    "Count missing values in each column, then filter those rows with misssing"
   ]
  },
  {
   "cell_type": "code",
   "execution_count": 9,
   "metadata": {},
   "outputs": [],
   "source": [
    "missing_data = data_combined.isnull()\n",
    "true_counts = [(column, missing_data[column].values.sum()) for column in missing_data.columns]\n",
    "false_counts = [(column, (~missing_data[column].values).sum()) for column in missing_data.columns]\n",
    "true_counts.sort(key=lambda x:x[1], reverse = True)"
   ]
  },
  {
   "cell_type": "markdown",
   "metadata": {},
   "source": [
    "We observe a concentration of missing values on certain variables of the MDS-NMS and MDS-UPDRS scales"
   ]
  },
  {
   "cell_type": "code",
   "execution_count": 10,
   "metadata": {},
   "outputs": [
    {
     "data": {
      "text/plain": [
       "(350, 110)"
      ]
     },
     "execution_count": 10,
     "metadata": {},
     "output_type": "execute_result"
    }
   ],
   "source": [
    "data_no_missing = data_combined.dropna()\n",
    "data_no_missing.shape"
   ]
  },
  {
   "cell_type": "markdown",
   "metadata": {},
   "source": [
    "## 4 - Generate final attributes\n",
    "We have two datasets: \n",
    "* One with missing values <code>data_combined</code> (402, 96)\n",
    "* One without them <code>data_no_missing</code> (352, 96)\n",
    "\n",
    "By default we are going to select the dataset with missing values because our multidimensional clustering method can deal with them."
   ]
  },
  {
   "cell_type": "code",
   "execution_count": 11,
   "metadata": {},
   "outputs": [
    {
     "data": {
      "text/plain": [
       "(402, 110)"
      ]
     },
     "execution_count": 11,
     "metadata": {},
     "output_type": "execute_result"
    }
   ],
   "source": [
    "data = data_combined\n",
    "#data = data_no_missing\n",
    "data.shape"
   ]
  },
  {
   "cell_type": "markdown",
   "metadata": {},
   "source": [
    "### 4.1 - MDS-NMS\n",
    "\n",
    "For this, we are going to combine all the attributes of the same subscale (A, B, C, etc) into a single attribute, following the work of [1].\n",
    "\n",
    "* **A:** Depression (5 attributes)\n",
    "* **B:** Anxiety (4 attributes)\n",
    "* **C:** Apathy (3 attributes)\n",
    "* **D:** Psychosis (4 attributes)\n",
    "* **E:** Impulse control and related disorders (4 attributes)\n",
    "* **F:** Cognition (6 attributes)\n",
    "* **G:** Orthostatic hypotension (2 attributes)\n",
    "* **H:** Urinary (3 attributes)\n",
    "* **I:** Sexual (2 attributes)\n",
    "* **J:** Gastrointestinal (4 attributes)\n",
    "* **K:** Sleep and wakefulness (6 attributes)\n",
    "* **L:** Pain (4 attributes)\n",
    "* **M:** Other (5 attributes)\n",
    "    * **M1:** Weight loss\n",
    "    * **M2:** Sense of smell\n",
    "    * **M3:** Physical tiredness\n",
    "    * **M4:** Mental fatigue\n",
    "    * **M5:** Excessive sweating\n",
    "\n",
    "For the subscale M, instead of grouping all its attributes, we are going to consider each of them separately. Reason being, each one of them represent a different aspect."
   ]
  },
  {
   "cell_type": "code",
   "execution_count": 12,
   "metadata": {},
   "outputs": [],
   "source": [
    "mds_nms_names=[\"depression\", \"anxiety\", \"apathy\", \"psychosis\", \"impulse_control\", \"cognition\", \"hypotension\",\n",
    "               \"urinary\", \"sexual\", \"gastrointestinal\", \"sleep\", \"pain\", \"weight_loss\", \"smell\", \n",
    "               \"physical_tiredness\", \"mental_fatigue\", \"sweating\"]\n",
    "\n",
    "mds_nms = pd.DataFrame(columns=mds_nms_names)\n",
    "\n",
    "mds_nms[\"depression\"] = data[\"mdsnms_A1\"].values + data[\"mdsnms_A2\"].values + data[\"mdsnms_A3\"].values + data[\"mdsnms_A4\"].values + data[\"mdsnms_A5\"].values\n",
    "mds_nms[\"anxiety\"] = data[\"mdsnms_B1\"].values + data[\"mdsnms_B2\"].values + data[\"mdsnms_B3\"].values + data[\"mdsnms_B4\"].values\n",
    "mds_nms[\"apathy\"] = data[\"mdsnms_C1\"].values + data[\"mdsnms_C2\"].values + data[\"mdsnms_C3\"].values\n",
    "mds_nms[\"psychosis\"] = data[\"mdsnms_D1\"].values + data[\"mdsnms_D2\"].values + data[\"mdsnms_D3\"].values + data[\"mdsnms_D4\"].values\n",
    "mds_nms[\"impulse_control\"] = data[\"mdsnms_E1\"].values + data[\"mdsnms_E2\"].values + data[\"mdsnms_E3\"].values + data[\"mdsnms_E4\"].values\n",
    "mds_nms[\"cognition\"] = data[\"mdsnms_F1\"].values + data[\"mdsnms_F2\"].values + data[\"mdsnms_F3\"].values + data[\"mdsnms_F4\"].values + data[\"mdsnms_F5\"].values + data[\"mdsnms_F6\"].values\n",
    "mds_nms[\"hypotension\"] = data[\"mdsnms_G1\"].values + data[\"mdsnms_G2\"].values\n",
    "mds_nms[\"urinary\"] = data[\"mdsnms_H1\"].values + data[\"mdsnms_H2\"].values + data[\"mdsnms_H3\"].values\n",
    "mds_nms[\"sexual\"] = data[\"mdsnms_I1\"].values + data[\"mdsnms_I2\"].values\n",
    "mds_nms[\"gastrointestinal\"] = data[\"mdsnms_J1\"].values + data[\"mdsnms_J2\"].values + data[\"mdsnms_J3\"].values + data[\"mdsnms_J4\"].values\n",
    "mds_nms[\"sleep\"] = data[\"mdsnms_K1\"].values + data[\"mdsnms_K2\"].values + data[\"mdsnms_K3\"].values + data[\"mdsnms_K4\"].values + data[\"mdsnms_K5\"].values + data[\"mdsnms_K6\"].values\n",
    "mds_nms[\"pain\"] = data[\"mdsnms_L1\"].values + data[\"mdsnms_L2\"].values + data[\"mdsnms_L3\"].values + data[\"mdsnms_L4\"].values\n",
    "mds_nms[\"weight_loss\"] = data[\"mdsnms_M1\"].values\n",
    "mds_nms[\"smell\"] = data[\"mdsnms_M2\"].values\n",
    "mds_nms[\"physical_tiredness\"] = data[\"mdsnms_M3\"].values\n",
    "mds_nms[\"mental_fatigue\"] = data[\"mdsnms_M4\"].values\n",
    "mds_nms[\"sweating\"] = data[\"mdsnms_M5\"].values"
   ]
  },
  {
   "cell_type": "markdown",
   "metadata": {},
   "source": [
    "Once we have generated them, we would like to normalize them in the range [0.0, 1.0] (for an easier analysis and comparison), thankfully we have the maximum and minimum values of each column, so the process is pretty much straightforward. \n",
    "* The minimum value is 0.\n",
    "* The maximum value is obtained by multiplying the number of items in each domain by 16, which is the maximum value of an attribute that has severity of 4 and frequency of 4.\n",
    "\n",
    "Therefore we simply have to divide each column by its maximum possible value and it will be normalized in the [0.0, 1.0] range."
   ]
  },
  {
   "cell_type": "code",
   "execution_count": 13,
   "metadata": {},
   "outputs": [
    {
     "data": {
      "text/plain": [
       "(402, 17)"
      ]
     },
     "execution_count": 13,
     "metadata": {},
     "output_type": "execute_result"
    }
   ],
   "source": [
    "mds_nms[\"depression\"] = mds_nms[\"depression\"] / (5 * 16)\n",
    "mds_nms[\"anxiety\"] = mds_nms[\"anxiety\"] / (4 * 16)\n",
    "mds_nms[\"apathy\"] = mds_nms[\"apathy\"] / (3 * 16)\n",
    "mds_nms[\"psychosis\"] = mds_nms[\"psychosis\"] / (4 * 16)\n",
    "mds_nms[\"impulse_control\"] = mds_nms[\"impulse_control\"] / (4 * 16)\n",
    "mds_nms[\"cognition\"] = mds_nms[\"cognition\"] / (6 * 16)\n",
    "mds_nms[\"hypotension\"] = mds_nms[\"hypotension\"] / (2 * 16)\n",
    "mds_nms[\"urinary\"] = mds_nms[\"urinary\"] / (3 * 16)\n",
    "mds_nms[\"sexual\"] = mds_nms[\"sexual\"] / (2 * 16)\n",
    "mds_nms[\"gastrointestinal\"] = mds_nms[\"gastrointestinal\"] / (4 * 16)\n",
    "mds_nms[\"sleep\"] = mds_nms[\"sleep\"] / (6 * 16)\n",
    "mds_nms[\"pain\"] = mds_nms[\"pain\"] / (4 * 16)\n",
    "mds_nms[\"weight_loss\"] = data[\"mdsnms_M1\"].values / (1 * 16)\n",
    "mds_nms[\"smell\"] = data[\"mdsnms_M2\"].values / (1 * 16)\n",
    "mds_nms[\"physical_tiredness\"] = data[\"mdsnms_M3\"].values / (1 * 16)\n",
    "mds_nms[\"mental_fatigue\"] = data[\"mdsnms_M4\"].values / (1 * 16)\n",
    "mds_nms[\"sweating\"] = data[\"mdsnms_M5\"].values / (1 * 16)\n",
    "\n",
    "mds_nms.shape"
   ]
  },
  {
   "cell_type": "code",
   "execution_count": 14,
   "metadata": {},
   "outputs": [
    {
     "data": {
      "text/plain": [
       "depression            0.900000\n",
       "anxiety               0.843750\n",
       "apathy                0.750000\n",
       "psychosis             0.562500\n",
       "impulse_control       0.390625\n",
       "cognition             0.687500\n",
       "hypotension           0.750000\n",
       "urinary               1.000000\n",
       "sexual                1.000000\n",
       "gastrointestinal      0.734375\n",
       "sleep                 0.791667\n",
       "pain                  0.828125\n",
       "weight_loss           1.000000\n",
       "smell                 1.000000\n",
       "physical_tiredness    1.000000\n",
       "mental_fatigue        1.000000\n",
       "sweating              1.000000\n",
       "dtype: float64"
      ]
     },
     "execution_count": 14,
     "metadata": {},
     "output_type": "execute_result"
    }
   ],
   "source": [
    "mds_nms.max()"
   ]
  },
  {
   "cell_type": "markdown",
   "metadata": {},
   "source": [
    "### 4.2 - MDS-UPDRS\n",
    "\n",
    "There are multiple motor variables, in this case we are going to group them according to the cardinal signs and motor subtypes, as explained by \"documentation/MDS-UPDRS item groups.docx\". While the MDS-UPDRS variables can be intrepreted as categorical or numerical, we are going to consider them numerical because of their groups, which are obtained by summing their values.\n",
    "* Tremor: 11 variables\n",
    "* Rigidity: 5 variables\n",
    "* Dyskinesias: 2 variables\n",
    "* Fluctuations: 4 variables\n",
    "* Bradykinesia: 11 variables\n",
    "* Axial no PIGD: 7 variables\n",
    "* PIGD: 5 variables"
   ]
  },
  {
   "cell_type": "code",
   "execution_count": 15,
   "metadata": {},
   "outputs": [
    {
     "data": {
      "text/html": [
       "<div>\n",
       "<style scoped>\n",
       "    .dataframe tbody tr th:only-of-type {\n",
       "        vertical-align: middle;\n",
       "    }\n",
       "\n",
       "    .dataframe tbody tr th {\n",
       "        vertical-align: top;\n",
       "    }\n",
       "\n",
       "    .dataframe thead th {\n",
       "        text-align: right;\n",
       "    }\n",
       "</style>\n",
       "<table border=\"1\" class=\"dataframe\">\n",
       "  <thead>\n",
       "    <tr style=\"text-align: right;\">\n",
       "      <th></th>\n",
       "      <th>tremor</th>\n",
       "      <th>rigidity</th>\n",
       "      <th>dyskinesias</th>\n",
       "      <th>fluctuations</th>\n",
       "      <th>bradykinesia</th>\n",
       "      <th>axial_no_pigd</th>\n",
       "      <th>pigd</th>\n",
       "    </tr>\n",
       "  </thead>\n",
       "  <tbody>\n",
       "    <tr>\n",
       "      <th>0</th>\n",
       "      <td>2.0</td>\n",
       "      <td>8.0</td>\n",
       "      <td>2.0</td>\n",
       "      <td>3.0</td>\n",
       "      <td>22.0</td>\n",
       "      <td>18.0</td>\n",
       "      <td>4.0</td>\n",
       "    </tr>\n",
       "    <tr>\n",
       "      <th>1</th>\n",
       "      <td>3.0</td>\n",
       "      <td>10.0</td>\n",
       "      <td>1.0</td>\n",
       "      <td>1.0</td>\n",
       "      <td>6.0</td>\n",
       "      <td>8.0</td>\n",
       "      <td>3.0</td>\n",
       "    </tr>\n",
       "    <tr>\n",
       "      <th>2</th>\n",
       "      <td>3.0</td>\n",
       "      <td>6.0</td>\n",
       "      <td>1.0</td>\n",
       "      <td>0.0</td>\n",
       "      <td>5.0</td>\n",
       "      <td>7.0</td>\n",
       "      <td>3.0</td>\n",
       "    </tr>\n",
       "    <tr>\n",
       "      <th>3</th>\n",
       "      <td>5.0</td>\n",
       "      <td>7.0</td>\n",
       "      <td>0.0</td>\n",
       "      <td>6.0</td>\n",
       "      <td>10.0</td>\n",
       "      <td>13.0</td>\n",
       "      <td>3.0</td>\n",
       "    </tr>\n",
       "    <tr>\n",
       "      <th>4</th>\n",
       "      <td>11.0</td>\n",
       "      <td>2.0</td>\n",
       "      <td>1.0</td>\n",
       "      <td>4.0</td>\n",
       "      <td>8.0</td>\n",
       "      <td>8.0</td>\n",
       "      <td>6.0</td>\n",
       "    </tr>\n",
       "  </tbody>\n",
       "</table>\n",
       "</div>"
      ],
      "text/plain": [
       "   tremor  rigidity  dyskinesias  fluctuations  bradykinesia  axial_no_pigd  \\\n",
       "0     2.0       8.0          2.0           3.0          22.0           18.0   \n",
       "1     3.0      10.0          1.0           1.0           6.0            8.0   \n",
       "2     3.0       6.0          1.0           0.0           5.0            7.0   \n",
       "3     5.0       7.0          0.0           6.0          10.0           13.0   \n",
       "4    11.0       2.0          1.0           4.0           8.0            8.0   \n",
       "\n",
       "   pigd  \n",
       "0   4.0  \n",
       "1   3.0  \n",
       "2   3.0  \n",
       "3   3.0  \n",
       "4   6.0  "
      ]
     },
     "execution_count": 15,
     "metadata": {},
     "output_type": "execute_result"
    }
   ],
   "source": [
    "mds_updrs_names=[\"tremor\", \"rigidity\", \"dyskinesias\", \"fluctuations\", \"bradykinesia\", \"axial_no_pigd\", \"pigd\"]\n",
    "\n",
    "mds_updrs= pd.DataFrame(columns=mds_updrs_names)\n",
    "\n",
    "mds_updrs[\"tremor\"] = data[\"mdsupdrs2_10\"].values + data[\"mdsupdrs3_15a\"].values + data[\"mdsupdrs3_15b\"].values + data[\"mdsupdrs3_16a\"].values + data[\"mdsupdrs3_16b\"].values+ data[\"mdsupdrs3_17a\"].values + data[\"mdsupdrs3_17b\"].values + data[\"mdsupdrs3_17c\"].values + data[\"mdsupdrs3_17d\"].values + data[\"mdsupdrs3_17e\"].values + data[\"mdsupdrs3_18\"].values\n",
    "mds_updrs[\"rigidity\"] = data[\"mdsupdrs3_3a\"].values + data[\"mdsupdrs3_3b\"].values + data[\"mdsupdrs3_3c\"].values + data[\"mdsupdrs3_3d\"].values + data[\"mdsupdrs3_3e\"].values\n",
    "mds_updrs[\"dyskinesias\"] = data[\"mdsupdrs4_1\"].values + data[\"mdsupdrs4_2\"].values\n",
    "mds_updrs[\"fluctuations\"] = data[\"mdsupdrs4_3\"].values + data[\"mdsupdrs4_4\"].values + data[\"mdsupdrs4_5\"].values + data[\"mdsupdrs4_6\"].values\n",
    "mds_updrs[\"bradykinesia\"] = data[\"mdsupdrs3_4a\"].values + data[\"mdsupdrs3_4b\"].values + data[\"mdsupdrs3_5a\"].values + data[\"mdsupdrs3_5b\"].values + data[\"mdsupdrs3_6a\"].values + data[\"mdsupdrs3_6b\"].values + data[\"mdsupdrs3_7a\"].values + data[\"mdsupdrs3_7b\"].values + data[\"mdsupdrs3_8a\"].values + data[\"mdsupdrs3_8b\"].values + data[\"mdsupdrs3_14\"].values\n",
    "mds_updrs[\"axial_no_pigd\"] = data[\"mdsupdrs2_1\"].values + data[\"mdsupdrs2_2\"].values + data[\"mdsupdrs2_3\"].values + data[\"mdsupdrs3_1\"].values + data[\"mdsupdrs3_2\"].values + data[\"mdsupdrs3_9\"].values + data[\"mdsupdrs3_13\"].values\n",
    "mds_updrs[\"pigd\"] = data[\"mdsupdrs2_12\"].values + data[\"mdsupdrs2_13\"].values + data[\"mdsupdrs3_10\"].values + data[\"mdsupdrs3_11\"].values + data[\"mdsupdrs3_12\"].values\n",
    "\n",
    "mds_updrs.head()"
   ]
  },
  {
   "cell_type": "markdown",
   "metadata": {},
   "source": [
    "Identical to the MDS-NMS case, we can normalize MDS-UPDRS variables in the [0,1] range because we know the maximum values. This will allow us to compare variables and clusters more effectively."
   ]
  },
  {
   "cell_type": "code",
   "execution_count": 16,
   "metadata": {},
   "outputs": [],
   "source": [
    "mds_updrs[\"tremor\"] = mds_updrs[\"tremor\"] / (4 * 11)\n",
    "mds_updrs[\"rigidity\"] = mds_updrs[\"rigidity\"] / (4 * 5)\n",
    "mds_updrs[\"dyskinesias\"] = mds_updrs[\"dyskinesias\"] / (4 * 2)\n",
    "mds_updrs[\"fluctuations\"] = mds_updrs[\"fluctuations\"] / (4 * 4)\n",
    "mds_updrs[\"bradykinesia\"] = mds_updrs[\"bradykinesia\"] / (4 * 11)\n",
    "mds_updrs[\"axial_no_pigd\"] = mds_updrs[\"axial_no_pigd\"] / (4 * 7)\n",
    "mds_updrs[\"pigd\"] = mds_updrs[\"pigd\"] / (4 * 5)"
   ]
  },
  {
   "cell_type": "code",
   "execution_count": 17,
   "metadata": {},
   "outputs": [
    {
     "data": {
      "text/plain": [
       "tremor           0.568182\n",
       "rigidity         1.000000\n",
       "dyskinesias      1.000000\n",
       "fluctuations     0.812500\n",
       "bradykinesia     0.886364\n",
       "axial_no_pigd    0.857143\n",
       "pigd             0.850000\n",
       "dtype: float64"
      ]
     },
     "execution_count": 17,
     "metadata": {},
     "output_type": "execute_result"
    }
   ],
   "source": [
    "mds_updrs.max()"
   ]
  },
  {
   "cell_type": "markdown",
   "metadata": {},
   "source": [
    "### 4.3 - Socio-demographic"
   ]
  },
  {
   "cell_type": "code",
   "execution_count": 18,
   "metadata": {},
   "outputs": [
    {
     "data": {
      "text/plain": [
       "(402, 5)"
      ]
     },
     "execution_count": 18,
     "metadata": {},
     "output_type": "execute_result"
    }
   ],
   "source": [
    "socio_demographic = pd.DataFrame(columns=original_socio_demographic_cols)\n",
    "socio_demographic[\"patnum\"] = data[\"patnum\"].values\n",
    "socio_demographic[\"age\"] = data[\"age\"].values\n",
    "socio_demographic[\"sex\"] = data[\"sex\"].values\n",
    "socio_demographic[\"pdonset\"] = data[\"pdonset\"].values\n",
    "socio_demographic[\"durat_pd\"] = data[\"durat_pd\"].values\n",
    "\n",
    "# Change sex codes from (0,1) to (male, female)\n",
    "socio_demographic[\"sex\"] = socio_demographic[\"sex\"].astype(\"category\")\n",
    "socio_demographic[\"sex\"].cat.categories = [\"male\", \"female\"]\n",
    "\n",
    "socio_demographic.shape"
   ]
  },
  {
   "cell_type": "markdown",
   "metadata": {},
   "source": [
    "### 4.4 - Hoehn-Yahr"
   ]
  },
  {
   "cell_type": "code",
   "execution_count": 19,
   "metadata": {},
   "outputs": [
    {
     "data": {
      "text/plain": [
       "(402,)"
      ]
     },
     "execution_count": 19,
     "metadata": {},
     "output_type": "execute_result"
    }
   ],
   "source": [
    "hoehn_yahr = pd.DataFrame(columns=original_hoehn_yahr_cols)\n",
    "hoehn_yahr = data[\"hy\"]\n",
    "hoehn_yahr.shape"
   ]
  },
  {
   "cell_type": "markdown",
   "metadata": {},
   "source": [
    "## 5 - Combine and generate the final data frame"
   ]
  },
  {
   "cell_type": "code",
   "execution_count": 20,
   "metadata": {},
   "outputs": [
    {
     "data": {
      "text/plain": [
       "(402, 30)"
      ]
     },
     "execution_count": 20,
     "metadata": {},
     "output_type": "execute_result"
    }
   ],
   "source": [
    "final_df = pd.concat([socio_demographic, hoehn_yahr, mds_nms, mds_updrs], axis = 1)\n",
    "final_df.to_csv(\"../data/data_numerical.csv\", index=False, na_rep=\"?\")\n",
    "final_df.shape"
   ]
  }
 ],
 "metadata": {
  "kernelspec": {
   "display_name": "Python 3",
   "language": "python",
   "name": "python3"
  },
  "language_info": {
   "codemirror_mode": {
    "name": "ipython",
    "version": 3
   },
   "file_extension": ".py",
   "mimetype": "text/x-python",
   "name": "python",
   "nbconvert_exporter": "python",
   "pygments_lexer": "ipython3",
   "version": "3.7.7"
  }
 },
 "nbformat": 4,
 "nbformat_minor": 4
}
