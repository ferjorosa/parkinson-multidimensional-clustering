{
 "cells": [
  {
   "cell_type": "markdown",
   "metadata": {},
   "source": [
    "# Comparative cluster analysis\n",
    "\n",
    "Our greedy latent structure learner (GLSL) method has produced a model with 9 latent variables. Each latent variable groups a series of motor/non-motor symptoms. In addition, each latent variable follows a categorical distribution that can be analyzed from a clustering perspective, where a state represents a cluster.\n",
    "\n",
    "#### Purpose\n",
    "\n",
    "In this notebook we are going to analyze the age, sex, pd_onset, pd_durat of each cluster of each partition to observe if there are significant differences.\n",
    "\n",
    "#### Notes\n",
    "\n",
    "To improve the analysis we are going to rename the states of latent variables (we will also do the same on the XDSL models) and order them according to their respective symptoms intensity. This way, it will be easier to analyze the resulting plots. Once renamed we can observe that patients may belong to \"low-intensity\" clusters in certain partitions and to \"high-intensity\" clusters in other partitions.\n",
    "\n",
    "**IMPORTANT:** While in the article we refer to tclustering \"I\" as the auxiliary latent variable, in the original experiments it was named \"H\". So take this small lack of consistency into consideration .\n",
    "\n",
    "#### Hypothesis tests\n",
    "* In the case of two clusters, we will do a Mann-Whitney U-test.\n",
    "* In the case of three or more clusters, we will first do a Kruskal-Wallis test, followed by a post-hoc analysis of Tukey-HSD.\n",
    "\n",
    "We use a significance value of 0.01. Therefore p-value should be < 0.01 for the difference between clusters to be significant.\n",
    "\n",
    "-----"
   ]
  },
  {
   "cell_type": "markdown",
   "metadata": {},
   "source": [
    "#### Load data"
   ]
  },
  {
   "cell_type": "code",
   "execution_count": 1,
   "metadata": {},
   "outputs": [
    {
     "name": "stdout",
     "output_type": "stream",
     "text": [
      "(402, 30)\n",
      "(402, 33)\n"
     ]
    }
   ],
   "source": [
    "from scipy.io import arff\n",
    "import pandas as pd\n",
    "import numpy as np\n",
    "\n",
    "# Load original data with socio-demographic data, the patient number and the Hoehn Yahr scale\n",
    "# 24 + 6 attributes\n",
    "original_data = arff.loadarff(\"../data/data_numerical.arff\")\n",
    "original_data = pd.DataFrame(original_data[0])\n",
    "print(original_data.shape)\n",
    "\n",
    "# Load partition data (data with completed partitions)\n",
    "# This data has 9 extra attributes (one for each latent variable), but doesnt have socio-demographic columns because they weren't \n",
    "# used during the learning process\n",
    "# 24 + 9 attributes\n",
    "partitions_data = arff.loadarff(\"../results/glsl_cil_1_64.arff\")\n",
    "partitions_data = pd.DataFrame(partitions_data[0])\n",
    "print(partitions_data.shape)"
   ]
  },
  {
   "cell_type": "code",
   "execution_count": 2,
   "metadata": {},
   "outputs": [
    {
     "data": {
      "text/plain": [
       "9.959031972900155"
      ]
     },
     "execution_count": 2,
     "metadata": {},
     "output_type": "execute_result"
    }
   ],
   "source": [
    "original_data[\"age\"].std()"
   ]
  },
  {
   "cell_type": "markdown",
   "metadata": {},
   "source": [
    "#### Object data types in UTF-8 format \n",
    "\n",
    "Object data types are in binary form (b'), we need to pass them to UTF-8"
   ]
  },
  {
   "cell_type": "code",
   "execution_count": 3,
   "metadata": {},
   "outputs": [],
   "source": [
    "# Object data types are in binary form, we need to pass them to utf-8\n",
    "object_columns = original_data.select_dtypes(\"object\").columns\n",
    "original_data[object_columns] = original_data[object_columns].stack().str.decode('utf-8').unstack()\n",
    "#original_data.head()"
   ]
  },
  {
   "cell_type": "code",
   "execution_count": 4,
   "metadata": {},
   "outputs": [],
   "source": [
    "# Object data types are in binary form, we need to pass them to utf-8\n",
    "object_columns = partitions_data.select_dtypes(\"object\").columns\n",
    "partitions_data[object_columns] = partitions_data[object_columns].stack().str.decode('utf-8').unstack()\n",
    "#partitions_data.head()"
   ]
  },
  {
   "cell_type": "markdown",
   "metadata": {},
   "source": [
    "#### Subset data for analysis"
   ]
  },
  {
   "cell_type": "code",
   "execution_count": 5,
   "metadata": {},
   "outputs": [
    {
     "name": "stdout",
     "output_type": "stream",
     "text": [
      "(402, 14)\n"
     ]
    }
   ],
   "source": [
    "analysis_columns = [\"sex\", \"age\", \"pdonset\", \"durat_pd\", \"hy\"]\n",
    "data = pd.DataFrame()\n",
    "\n",
    "data[analysis_columns] = original_data[analysis_columns]\n",
    "\n",
    "data[\"A\"] = partitions_data[\"LV_60178\"]\n",
    "data[\"B\"] = partitions_data[\"LV_120174\"]\n",
    "data[\"C\"] = partitions_data[\"LV_60059\"]\n",
    "data[\"D\"] = partitions_data[\"LV_60492\"]\n",
    "data[\"E\"] = partitions_data[\"LV_60373\"]\n",
    "data[\"F\"] = partitions_data[\"LV_60213\"]\n",
    "data[\"G\"] = partitions_data[\"LV_12\"]\n",
    "data[\"H\"] = partitions_data[\"LV_120258\"]\n",
    "data[\"I\"] = partitions_data[\"LV_34\"]\n",
    "\n",
    "# Sex as categorical data\n",
    "data[\"sex\"] = data[\"sex\"].astype(\"category\")\n",
    "\n",
    "print(data.shape)"
   ]
  },
  {
   "cell_type": "markdown",
   "metadata": {},
   "source": [
    "#### Hoehn Yahr"
   ]
  },
  {
   "cell_type": "code",
   "execution_count": 6,
   "metadata": {},
   "outputs": [
    {
     "data": {
      "text/plain": [
       "count    402.000000\n",
       "mean       2.253731\n",
       "std        0.740896\n",
       "min        1.000000\n",
       "25%        2.000000\n",
       "50%        2.000000\n",
       "75%        3.000000\n",
       "max        4.000000\n",
       "Name: hy, dtype: float64"
      ]
     },
     "execution_count": 6,
     "metadata": {},
     "output_type": "execute_result"
    }
   ],
   "source": [
    "data[\"hy\"].describe()"
   ]
  },
  {
   "cell_type": "code",
   "execution_count": 7,
   "metadata": {},
   "outputs": [
    {
     "data": {
      "text/plain": [
       "2.0"
      ]
     },
     "execution_count": 7,
     "metadata": {},
     "output_type": "execute_result"
    }
   ],
   "source": [
    "data[\"hy\"].median()"
   ]
  },
  {
   "cell_type": "code",
   "execution_count": 8,
   "metadata": {},
   "outputs": [],
   "source": [
    "hy_cat = pd.DataFrame()\n",
    "hy_cat[\"hy\"] = data[\"hy\"].astype(\"category\")"
   ]
  },
  {
   "cell_type": "code",
   "execution_count": 9,
   "metadata": {},
   "outputs": [
    {
     "data": {
      "image/png": "[encoded data removed]",
      "text/plain": [
       "<Figure size 432x288 with 1 Axes>"
      ]
     },
     "metadata": {
      "needs_background": "light"
     },
     "output_type": "display_data"
    }
   ],
   "source": [
    "import matplotlib.pyplot as plt\n",
    "import seaborn as sns\n",
    "\n",
    "fig, (ax1) = plt.subplots(ncols=1, figsize=(6, 4))\n",
    "sns.countplot(x=\"hy\", data=hy_cat, order=[1,2,3,4,5])\n",
    "ax1.set_ylabel('HY count', fontsize=12)\n",
    "\n",
    "plt.savefig(\"figures/hy_dist_base.pdf\", format=\"pdf\", bbox_inches='tight')"
   ]
  },
  {
   "cell_type": "code",
   "execution_count": 10,
   "metadata": {},
   "outputs": [
    {
     "data": {
      "text/plain": [
       "2.0    219\n",
       "3.0    111\n",
       "1.0     51\n",
       "4.0     21\n",
       "Name: hy, dtype: int64"
      ]
     },
     "execution_count": 10,
     "metadata": {},
     "output_type": "execute_result"
    }
   ],
   "source": [
    "data[\"hy\"].value_counts()"
   ]
  },
  {
   "cell_type": "markdown",
   "metadata": {},
   "source": [
    "----"
   ]
  },
  {
   "cell_type": "markdown",
   "metadata": {},
   "source": [
    "## 1 - Clustering A\n",
    "\n",
    "* **Attributes:** impulse\\_control, pigd"
   ]
  },
  {
   "cell_type": "markdown",
   "metadata": {},
   "source": [
    "#### 1.1 - Prepare data analysis"
   ]
  },
  {
   "cell_type": "code",
   "execution_count": 11,
   "metadata": {},
   "outputs": [],
   "source": [
    "# First, we make this variable categorical so Pandas can order its states in the plot. Then we rename its categories accordingly (and reorder them if necessary)\n",
    "data[\"A\"] = data[\"A\"].astype(\"category\")\n",
    "data[\"A\"] = data[\"A\"].cat.rename_categories({\"0\":\"C1\", \"1\": \"C2\"})\n",
    "data[\"A\"] = data[\"A\"].cat.reorder_categories(['C1', 'C2'])"
   ]
  },
  {
   "cell_type": "markdown",
   "metadata": {},
   "source": [
    "#### 1.2 - Hoehn Yahr"
   ]
  },
  {
   "cell_type": "markdown",
   "metadata": {},
   "source": [
    "##### Plot"
   ]
  },
  {
   "cell_type": "code",
   "execution_count": 12,
   "metadata": {},
   "outputs": [
    {
     "data": {
      "image/png": "[encoded data removed]",
      "text/plain": [
       "<Figure size 360x288 with 1 Axes>"
      ]
     },
     "metadata": {
      "needs_background": "light"
     },
     "output_type": "display_data"
    }
   ],
   "source": [
    "import matplotlib.pyplot as plt\n",
    "import seaborn as sns\n",
    "\n",
    "sex_colors = [\"#00A6D6\", \"#FF69B4\"]\n",
    "\n",
    "fig, axs = plt.subplots(ncols=1, nrows=1, figsize=(5, 4))\n",
    "\n",
    "sns.boxplot(x=\"A\", y=\"hy\", data=data, showmeans=True, meanprops={\"marker\":\"o\",\n",
    "                       \"markerfacecolor\":\"white\", \n",
    "                       \"markeredgecolor\":\"black\",\n",
    "                      \"markersize\":\"10\"})\n",
    "axs.set_ylabel('HY', fontsize=12)\n",
    "axs.set_xlabel(\"cluster\", fontsize=12)\n",
    "\n",
    "plt.savefig(\"figures/hy_A_boxplot.pdf\", format=\"pdf\", bbox_inches='tight')"
   ]
  },
  {
   "cell_type": "code",
   "execution_count": 13,
   "metadata": {},
   "outputs": [
    {
     "data": {
      "image/png": "[encoded data removed]",
      "text/plain": [
       "<Figure size 720x288 with 2 Axes>"
      ]
     },
     "metadata": {
      "needs_background": "light"
     },
     "output_type": "display_data"
    }
   ],
   "source": [
    "import matplotlib.pyplot as plt\n",
    "import seaborn as sns\n",
    "\n",
    "fig, axs = plt.subplots(ncols=2, nrows=1, figsize=(10, 4))\n",
    "\n",
    "sns.countplot(data.loc[data[\"A\"] == \"C1\", \"hy\"], ax = axs[0], order=[1,2,3,4,5])\n",
    "axs[0].set_xlabel(\"Cluster 1\", fontsize=12)\n",
    "axs[0].set_ylabel(\"HY count\", fontsize=12)\n",
    "\n",
    "sns.countplot(data.loc[data[\"A\"] == \"C2\", \"hy\"], ax = axs[1], order=[1,2,3,4,5])\n",
    "axs[1].set_xlabel(\"Cluster 2\", fontsize=12)\n",
    "axs[1].set_ylabel(\"HY count\", fontsize=12)\n",
    "\n",
    "plt.savefig(\"figures/hy_dists_B.pdf\", format=\"pdf\", bbox_inches='tight')"
   ]
  },
  {
   "cell_type": "markdown",
   "metadata": {},
   "source": [
    "##### Table"
   ]
  },
  {
   "cell_type": "code",
   "execution_count": 14,
   "metadata": {},
   "outputs": [
    {
     "data": {
      "text/html": [
       "<div>\n",
       "<style scoped>\n",
       "    .dataframe tbody tr th:only-of-type {\n",
       "        vertical-align: middle;\n",
       "    }\n",
       "\n",
       "    .dataframe tbody tr th {\n",
       "        vertical-align: top;\n",
       "    }\n",
       "\n",
       "    .dataframe thead th {\n",
       "        text-align: right;\n",
       "    }\n",
       "</style>\n",
       "<table border=\"1\" class=\"dataframe\">\n",
       "  <thead>\n",
       "    <tr style=\"text-align: right;\">\n",
       "      <th></th>\n",
       "      <th>hy</th>\n",
       "    </tr>\n",
       "    <tr>\n",
       "      <th>A</th>\n",
       "      <th></th>\n",
       "    </tr>\n",
       "  </thead>\n",
       "  <tbody>\n",
       "    <tr>\n",
       "      <th>C1</th>\n",
       "      <td>0.76</td>\n",
       "    </tr>\n",
       "    <tr>\n",
       "      <th>C2</th>\n",
       "      <td>0.62</td>\n",
       "    </tr>\n",
       "  </tbody>\n",
       "</table>\n",
       "</div>"
      ],
      "text/plain": [
       "      hy\n",
       "A       \n",
       "C1  0.76\n",
       "C2  0.62"
      ]
     },
     "execution_count": 14,
     "metadata": {},
     "output_type": "execute_result"
    }
   ],
   "source": [
    "partition = \"A\"\n",
    "columns_1 = [\"hy\", partition]\n",
    "\n",
    "data[columns_1].groupby([partition]).mean().round(2)\n",
    "data[columns_1].groupby([partition]).std().round(2)"
   ]
  },
  {
   "cell_type": "markdown",
   "metadata": {},
   "source": [
    "##### Hypothesis test (continuous)"
   ]
  },
  {
   "cell_type": "code",
   "execution_count": 15,
   "metadata": {},
   "outputs": [
    {
     "data": {
      "text/plain": [
       "0.15768002352950788"
      ]
     },
     "execution_count": 15,
     "metadata": {},
     "output_type": "execute_result"
    }
   ],
   "source": [
    "from scipy.stats import mannwhitneyu as mw\n",
    "\n",
    "cluster_1_data = data.loc[data[\"A\"] == \"C1\", \"hy\"]\n",
    "cluster_2_data = data.loc[data[\"A\"] == \"C2\", \"hy\"]\n",
    "\n",
    "mw(cluster_1_data, cluster_2_data).pvalue"
   ]
  },
  {
   "cell_type": "markdown",
   "metadata": {},
   "source": [
    "##### Hypothesis test (discrete)"
   ]
  },
  {
   "cell_type": "code",
   "execution_count": 16,
   "metadata": {},
   "outputs": [
    {
     "data": {
      "text/plain": [
       "0.23521753962087613"
      ]
     },
     "execution_count": 16,
     "metadata": {},
     "output_type": "execute_result"
    }
   ],
   "source": [
    "from scipy.stats import chi2_contingency \n",
    "\n",
    "cluster_1_data = data.loc[data[\"A\"] == \"C1\", \"hy\"].value_counts()\n",
    "cluster_2_data = data.loc[data[\"A\"] == \"C2\", \"hy\"].value_counts()\n",
    "\n",
    "# Given that in this dataset there are no HY values of 5, we consider only 4\n",
    "cluster_1_data_array = [cluster_1_data.iloc[0], cluster_1_data.iloc[1], cluster_1_data.iloc[2], cluster_1_data.iloc[3]]\n",
    "cluster_2_data_array = [cluster_2_data.iloc[0], cluster_2_data.iloc[1], cluster_2_data.iloc[2], cluster_2_data.iloc[3]]\n",
    "\n",
    "contingency_table = [cluster_1_data_array, cluster_2_data_array]\n",
    "\n",
    "tat, p, dof, expected = chi2_contingency(contingency_table)\n",
    "p"
   ]
  },
  {
   "cell_type": "markdown",
   "metadata": {},
   "source": [
    "#### 1.3 - Age"
   ]
  },
  {
   "cell_type": "markdown",
   "metadata": {},
   "source": [
    "##### Plot"
   ]
  },
  {
   "cell_type": "code",
   "execution_count": 17,
   "metadata": {},
   "outputs": [
    {
     "data": {
      "image/png": "[encoded data removed]",
      "text/plain": [
       "<Figure size 360x288 with 1 Axes>"
      ]
     },
     "metadata": {
      "needs_background": "light"
     },
     "output_type": "display_data"
    }
   ],
   "source": [
    "import matplotlib.pyplot as plt\n",
    "import seaborn as sns\n",
    "\n",
    "sex_colors = [\"#00A6D6\", \"#FF69B4\"]\n",
    "\n",
    "fig, axs = plt.subplots(ncols=1, nrows=1, figsize=(5, 4))\n",
    "\n",
    "sns.boxplot(x=\"A\", y=\"age\", data=data, showmeans=True, meanprops={\"marker\":\"o\",\n",
    "                       \"markerfacecolor\":\"white\", \n",
    "                       \"markeredgecolor\":\"black\",\n",
    "                      \"markersize\":\"10\"})\n",
    "axs.set_ylabel('Age', fontsize=12)\n",
    "axs.set_xlabel(\"cluster\", fontsize=12)\n",
    "\n",
    "plt.savefig(\"figures/age_A_boxplot.pdf\", format=\"pdf\", bbox_inches='tight')"
   ]
  },
  {
   "cell_type": "markdown",
   "metadata": {},
   "source": [
    "##### Table"
   ]
  },
  {
   "cell_type": "code",
   "execution_count": 18,
   "metadata": {},
   "outputs": [
    {
     "data": {
      "text/html": [
       "<div>\n",
       "<style scoped>\n",
       "    .dataframe tbody tr th:only-of-type {\n",
       "        vertical-align: middle;\n",
       "    }\n",
       "\n",
       "    .dataframe tbody tr th {\n",
       "        vertical-align: top;\n",
       "    }\n",
       "\n",
       "    .dataframe thead th {\n",
       "        text-align: right;\n",
       "    }\n",
       "</style>\n",
       "<table border=\"1\" class=\"dataframe\">\n",
       "  <thead>\n",
       "    <tr style=\"text-align: right;\">\n",
       "      <th></th>\n",
       "      <th>age</th>\n",
       "    </tr>\n",
       "    <tr>\n",
       "      <th>A</th>\n",
       "      <th></th>\n",
       "    </tr>\n",
       "  </thead>\n",
       "  <tbody>\n",
       "    <tr>\n",
       "      <th>C1</th>\n",
       "      <td>9.85</td>\n",
       "    </tr>\n",
       "    <tr>\n",
       "      <th>C2</th>\n",
       "      <td>10.02</td>\n",
       "    </tr>\n",
       "  </tbody>\n",
       "</table>\n",
       "</div>"
      ],
      "text/plain": [
       "      age\n",
       "A        \n",
       "C1   9.85\n",
       "C2  10.02"
      ]
     },
     "execution_count": 18,
     "metadata": {},
     "output_type": "execute_result"
    }
   ],
   "source": [
    "partition = \"A\"\n",
    "columns_1 = [\"age\", partition]\n",
    "\n",
    "data[columns_1].groupby([partition]).mean().round(2)\n",
    "data[columns_1].groupby([partition]).std().round(2)"
   ]
  },
  {
   "cell_type": "markdown",
   "metadata": {},
   "source": [
    "##### Hypothesis test"
   ]
  },
  {
   "cell_type": "code",
   "execution_count": 19,
   "metadata": {},
   "outputs": [
    {
     "data": {
      "text/plain": [
       "0.007186457448389278"
      ]
     },
     "execution_count": 19,
     "metadata": {},
     "output_type": "execute_result"
    }
   ],
   "source": [
    "from scipy.stats import mannwhitneyu as mw\n",
    "\n",
    "cluster_1_data = data.loc[data[\"A\"] == \"C1\", \"age\"]\n",
    "cluster_2_data = data.loc[data[\"A\"] == \"C2\", \"age\"]\n",
    "\n",
    "mw(cluster_1_data, cluster_2_data).pvalue"
   ]
  },
  {
   "cell_type": "markdown",
   "metadata": {},
   "source": [
    "#### 1.4 - PD Onset"
   ]
  },
  {
   "cell_type": "markdown",
   "metadata": {},
   "source": [
    "##### Plot"
   ]
  },
  {
   "cell_type": "code",
   "execution_count": 20,
   "metadata": {
    "pycharm": {
     "name": "#%%\n"
    }
   },
   "outputs": [
    {
     "data": {
      "image/png": "[encoded data removed]",
      "text/plain": [
       "<Figure size 360x288 with 1 Axes>"
      ]
     },
     "metadata": {
      "needs_background": "light"
     },
     "output_type": "display_data"
    }
   ],
   "source": [
    "import matplotlib.pyplot as plt\n",
    "import seaborn as sns\n",
    "\n",
    "sex_colors = [\"#00A6D6\", \"#FF69B4\"]\n",
    "\n",
    "fig, axs = plt.subplots(ncols=1, nrows=1, figsize=(5, 4))\n",
    "\n",
    "sns.boxplot(x=\"A\", y=\"pdonset\", data=data, showmeans=True, meanprops={\"marker\":\"o\",\n",
    "                       \"markerfacecolor\":\"white\",\n",
    "                       \"markeredgecolor\":\"black\",\n",
    "                      \"markersize\":\"10\"})\n",
    "axs.set_ylabel('PD onset', fontsize=12)\n",
    "axs.set_xlabel(\"cluster\", fontsize=12)\n",
    "\n",
    "plt.savefig(\"figures/pdonset_A_boxplot.pdf\", format=\"pdf\", bbox_inches='tight')"
   ]
  },
  {
   "cell_type": "markdown",
   "metadata": {},
   "source": [
    "##### Table"
   ]
  },
  {
   "cell_type": "code",
   "execution_count": 21,
   "metadata": {
    "collapsed": false,
    "jupyter": {
     "outputs_hidden": false
    },
    "pycharm": {
     "name": "#%%\n"
    }
   },
   "outputs": [
    {
     "data": {
      "text/html": [
       "<div>\n",
       "<style scoped>\n",
       "    .dataframe tbody tr th:only-of-type {\n",
       "        vertical-align: middle;\n",
       "    }\n",
       "\n",
       "    .dataframe tbody tr th {\n",
       "        vertical-align: top;\n",
       "    }\n",
       "\n",
       "    .dataframe thead th {\n",
       "        text-align: right;\n",
       "    }\n",
       "</style>\n",
       "<table border=\"1\" class=\"dataframe\">\n",
       "  <thead>\n",
       "    <tr style=\"text-align: right;\">\n",
       "      <th></th>\n",
       "      <th>pdonset</th>\n",
       "    </tr>\n",
       "    <tr>\n",
       "      <th>A</th>\n",
       "      <th></th>\n",
       "    </tr>\n",
       "  </thead>\n",
       "  <tbody>\n",
       "    <tr>\n",
       "      <th>C1</th>\n",
       "      <td>10.82</td>\n",
       "    </tr>\n",
       "    <tr>\n",
       "      <th>C2</th>\n",
       "      <td>9.06</td>\n",
       "    </tr>\n",
       "  </tbody>\n",
       "</table>\n",
       "</div>"
      ],
      "text/plain": [
       "    pdonset\n",
       "A          \n",
       "C1    10.82\n",
       "C2     9.06"
      ]
     },
     "execution_count": 21,
     "metadata": {},
     "output_type": "execute_result"
    }
   ],
   "source": [
    "partition = \"A\"\n",
    "columns_1 = [\"pdonset\", partition]\n",
    "\n",
    "data[columns_1].groupby([partition]).mean().round(2)\n",
    "data[columns_1].groupby([partition]).std().round(2)"
   ]
  },
  {
   "cell_type": "markdown",
   "metadata": {},
   "source": [
    "##### Hypothesis test"
   ]
  },
  {
   "cell_type": "code",
   "execution_count": 22,
   "metadata": {
    "collapsed": false,
    "jupyter": {
     "outputs_hidden": false
    },
    "pycharm": {
     "name": "#%%\n"
    }
   },
   "outputs": [
    {
     "data": {
      "text/plain": [
       "0.000505233912728712"
      ]
     },
     "execution_count": 22,
     "metadata": {},
     "output_type": "execute_result"
    }
   ],
   "source": [
    "from scipy.stats import mannwhitneyu as mw\n",
    "\n",
    "cluster_1_data = data.loc[data[\"A\"] == \"C1\", \"pdonset\"]\n",
    "cluster_2_data = data.loc[data[\"A\"] == \"C2\", \"pdonset\"]\n",
    "\n",
    "mw(cluster_1_data, cluster_2_data).pvalue"
   ]
  },
  {
   "cell_type": "markdown",
   "metadata": {},
   "source": [
    "#### 1.5 - PD duration"
   ]
  },
  {
   "cell_type": "markdown",
   "metadata": {},
   "source": [
    "##### Plot"
   ]
  },
  {
   "cell_type": "code",
   "execution_count": 23,
   "metadata": {
    "collapsed": false,
    "jupyter": {
     "outputs_hidden": false
    },
    "pycharm": {
     "name": "#%%\n"
    }
   },
   "outputs": [
    {
     "data": {
      "image/png": "[encoded data removed]",
      "text/plain": [
       "<Figure size 360x288 with 1 Axes>"
      ]
     },
     "metadata": {
      "needs_background": "light"
     },
     "output_type": "display_data"
    }
   ],
   "source": [
    "import matplotlib.pyplot as plt\n",
    "import seaborn as sns\n",
    "\n",
    "sex_colors = [\"#00A6D6\", \"#FF69B4\"]\n",
    "\n",
    "fig, axs = plt.subplots(ncols=1, nrows=1, figsize=(5, 4))\n",
    "\n",
    "sns.boxplot(x=\"A\", y=\"durat_pd\", data=data, showmeans=True, meanprops={\"marker\":\"o\",\n",
    "                       \"markerfacecolor\":\"white\",\n",
    "                       \"markeredgecolor\":\"black\",\n",
    "                      \"markersize\":\"10\"})\n",
    "axs.set_ylabel('PD duration', fontsize=12)\n",
    "axs.set_xlabel(\"cluster\", fontsize=12)\n",
    "\n",
    "plt.savefig(\"figures/durat_pd_A_boxplot.pdf\", format=\"pdf\", bbox_inches='tight')"
   ]
  },
  {
   "cell_type": "markdown",
   "metadata": {},
   "source": [
    "##### Table"
   ]
  },
  {
   "cell_type": "code",
   "execution_count": 24,
   "metadata": {
    "collapsed": false,
    "jupyter": {
     "outputs_hidden": false
    },
    "pycharm": {
     "name": "#%%\n"
    }
   },
   "outputs": [
    {
     "data": {
      "text/html": [
       "<div>\n",
       "<style scoped>\n",
       "    .dataframe tbody tr th:only-of-type {\n",
       "        vertical-align: middle;\n",
       "    }\n",
       "\n",
       "    .dataframe tbody tr th {\n",
       "        vertical-align: top;\n",
       "    }\n",
       "\n",
       "    .dataframe thead th {\n",
       "        text-align: right;\n",
       "    }\n",
       "</style>\n",
       "<table border=\"1\" class=\"dataframe\">\n",
       "  <thead>\n",
       "    <tr style=\"text-align: right;\">\n",
       "      <th></th>\n",
       "      <th>durat_pd</th>\n",
       "    </tr>\n",
       "    <tr>\n",
       "      <th>A</th>\n",
       "      <th></th>\n",
       "    </tr>\n",
       "  </thead>\n",
       "  <tbody>\n",
       "    <tr>\n",
       "      <th>C1</th>\n",
       "      <td>5.95</td>\n",
       "    </tr>\n",
       "    <tr>\n",
       "      <th>C2</th>\n",
       "      <td>5.79</td>\n",
       "    </tr>\n",
       "  </tbody>\n",
       "</table>\n",
       "</div>"
      ],
      "text/plain": [
       "    durat_pd\n",
       "A           \n",
       "C1      5.95\n",
       "C2      5.79"
      ]
     },
     "execution_count": 24,
     "metadata": {},
     "output_type": "execute_result"
    }
   ],
   "source": [
    "partition = \"A\"\n",
    "columns_1 = [\"durat_pd\", partition]\n",
    "\n",
    "data[columns_1].groupby([partition]).mean().round(2)\n",
    "data[columns_1].groupby([partition]).std().round(2)"
   ]
  },
  {
   "cell_type": "markdown",
   "metadata": {},
   "source": [
    "##### Hypothesis test"
   ]
  },
  {
   "cell_type": "code",
   "execution_count": 25,
   "metadata": {
    "collapsed": false,
    "jupyter": {
     "outputs_hidden": false
    },
    "pycharm": {
     "name": "#%%\n"
    }
   },
   "outputs": [
    {
     "data": {
      "text/plain": [
       "0.05761890926700898"
      ]
     },
     "execution_count": 25,
     "metadata": {},
     "output_type": "execute_result"
    }
   ],
   "source": [
    "from scipy.stats import mannwhitneyu as mw\n",
    "\n",
    "cluster_1_data = data.loc[data[\"A\"] == \"C1\", \"durat_pd\"]\n",
    "cluster_2_data = data.loc[data[\"A\"] == \"C2\", \"durat_pd\"]\n",
    "\n",
    "mw(cluster_1_data, cluster_2_data).pvalue"
   ]
  },
  {
   "cell_type": "markdown",
   "metadata": {},
   "source": [
    "#### 1.6 - Sex"
   ]
  },
  {
   "cell_type": "markdown",
   "metadata": {},
   "source": [
    "##### Proporion table\n",
    "\n",
    "Estimate the proportion of males and females in each cluster. The idea is to see if there are big proportional differences. This is not a hypothesis test."
   ]
  },
  {
   "cell_type": "code",
   "execution_count": 26,
   "metadata": {},
   "outputs": [
    {
     "data": {
      "text/plain": [
       "A   sex   \n",
       "C1  male      83.60\n",
       "    female    82.89\n",
       "C2  male      16.40\n",
       "    female    17.11\n",
       "Name: sex, dtype: float64"
      ]
     },
     "execution_count": 26,
     "metadata": {},
     "output_type": "execute_result"
    }
   ],
   "source": [
    "import numpy as np\n",
    "\n",
    "partition = \"A\"\n",
    "columns_1 = [\"sex\", partition]\n",
    "\n",
    "total_males = data[\"sex\"].value_counts()[0]\n",
    "total_females = data[\"sex\"].value_counts()[1]\n",
    "total = np.array([total_males, total_females, total_males, total_females])\n",
    "\n",
    "(data[columns_1].groupby([partition]).sex.value_counts()/total * 100).round(2)"
   ]
  },
  {
   "cell_type": "markdown",
   "metadata": {},
   "source": [
    "##### Table"
   ]
  },
  {
   "cell_type": "code",
   "execution_count": 27,
   "metadata": {},
   "outputs": [
    {
     "data": {
      "text/plain": [
       "A   sex   \n",
       "C1  male      62.39\n",
       "    female    37.61\n",
       "C2  male      61.19\n",
       "    female    38.81\n",
       "Name: sex, dtype: float64"
      ]
     },
     "execution_count": 27,
     "metadata": {},
     "output_type": "execute_result"
    }
   ],
   "source": [
    "import numpy as np\n",
    "\n",
    "partition = \"A\"\n",
    "columns_1 = [\"sex\", partition]\n",
    "\n",
    "cluster_1_total = data[columns_1].groupby([partition]).count().iloc[0,0]\n",
    "cluster_2_total = data[columns_1].groupby([partition]).count().iloc[1,0]\n",
    "total = np.array([cluster_1_total, cluster_1_total, cluster_2_total, cluster_2_total])\n",
    "\n",
    "# Percentage\n",
    "(data[columns_1].groupby([partition]).sex.value_counts()/total * 100).round(2) \n",
    "# Counts\n",
    "#data[columns_1].groupby([partition]).sex.value_counts()"
   ]
  },
  {
   "cell_type": "markdown",
   "metadata": {},
   "source": [
    "##### Hypothesis test\n",
    "\n",
    "Note: see https://stats.stackexchange.com/questions/110718/chi-squared-test-with-scipy-whats-the-difference-between-chi2-contingency-and"
   ]
  },
  {
   "cell_type": "code",
   "execution_count": 28,
   "metadata": {},
   "outputs": [
    {
     "data": {
      "text/plain": [
       "Power_divergenceResult(statistic=0.0006003752345215773, pvalue=0.9804517451956672)"
      ]
     },
     "execution_count": 28,
     "metadata": {},
     "output_type": "execute_result"
    }
   ],
   "source": [
    "from scipy.stats import chisquare \n",
    "\n",
    "cluster_1_data = data.loc[data[\"A\"] == \"C1\", \"sex\"].value_counts()\n",
    "cluster_2_data = data.loc[data[\"A\"] == \"C2\", \"sex\"].value_counts()\n",
    "\n",
    "cluster_1_data_array = [cluster_1_data[0], cluster_1_data[1]] / (cluster_1_data[0] + cluster_1_data[1])\n",
    "cluster_2_data_array = [cluster_2_data[0], cluster_2_data[1]] / (cluster_2_data[0] + cluster_2_data[1])\n",
    "\n",
    "chisquare(cluster_1_data_array, cluster_2_data_array)"
   ]
  },
  {
   "cell_type": "code",
   "execution_count": 29,
   "metadata": {},
   "outputs": [
    {
     "data": {
      "text/plain": [
       "0.9633120738485631"
      ]
     },
     "execution_count": 29,
     "metadata": {},
     "output_type": "execute_result"
    }
   ],
   "source": [
    "from scipy.stats import chi2_contingency \n",
    "\n",
    "cluster_1_data = data.loc[data[\"A\"] == \"C1\", \"sex\"].value_counts()\n",
    "cluster_2_data = data.loc[data[\"A\"] == \"C2\", \"sex\"].value_counts()\n",
    "\n",
    "cluster_1_data_array = [cluster_1_data[0], cluster_1_data[1]]\n",
    "cluster_2_data_array = [cluster_2_data[0], cluster_2_data[1]]\n",
    "contingency_table = [cluster_1_data_array, cluster_2_data_array]\n",
    "\n",
    "tat, p, dof, expected = chi2_contingency(contingency_table)\n",
    "p"
   ]
  },
  {
   "cell_type": "markdown",
   "metadata": {},
   "source": [
    "----\n",
    "\n",
    "## 2 - Clustering B\n",
    "\n",
    "* **Attributes:** apathy, cognition, urinary, gastrointestinal, sleep, pain"
   ]
  },
  {
   "cell_type": "markdown",
   "metadata": {},
   "source": [
    "#### 2.1 - Prepare data for analysis"
   ]
  },
  {
   "cell_type": "code",
   "execution_count": 30,
   "metadata": {
    "collapsed": false,
    "jupyter": {
     "outputs_hidden": false
    },
    "pycharm": {
     "name": "#%%\n"
    }
   },
   "outputs": [],
   "source": [
    "# First, we make this variable categorical so Pandas can order its states in the plot. Then we rename its categories accordingly (and reorder them if necessary)\n",
    "data[\"B\"] = data[\"B\"].astype(\"category\")\n",
    "data[\"B\"] = data[\"B\"].cat.rename_categories({\"0\":\"C1\", \"1\": \"C2\"})\n",
    "data[\"B\"] = data[\"B\"].cat.reorder_categories(['C1', 'C2'])"
   ]
  },
  {
   "cell_type": "markdown",
   "metadata": {},
   "source": [
    "#### 2.2 - Hoehn Yahr"
   ]
  },
  {
   "cell_type": "markdown",
   "metadata": {},
   "source": [
    "##### Plot"
   ]
  },
  {
   "cell_type": "code",
   "execution_count": 31,
   "metadata": {
    "collapsed": false,
    "jupyter": {
     "outputs_hidden": false
    },
    "pycharm": {
     "name": "#%%\n"
    }
   },
   "outputs": [
    {
     "data": {
      "image/png": "[encoded data removed]",
      "text/plain": [
       "<Figure size 360x288 with 1 Axes>"
      ]
     },
     "metadata": {
      "needs_background": "light"
     },
     "output_type": "display_data"
    }
   ],
   "source": [
    "import matplotlib.pyplot as plt\n",
    "import seaborn as sns\n",
    "\n",
    "sex_colors = [\"#00A6D6\", \"#FF69B4\"]\n",
    "\n",
    "fig, axs = plt.subplots(ncols=1, nrows=1, figsize=(5, 4))\n",
    "\n",
    "sns.boxplot(x=\"B\", y=\"hy\", data=data, showmeans=True, meanprops={\"marker\":\"o\",\n",
    "                       \"markerfacecolor\":\"white\", \n",
    "                       \"markeredgecolor\":\"black\",\n",
    "                      \"markersize\":\"8\"})\n",
    "axs.set_ylabel('HY', fontsize=12)\n",
    "axs.set_xlabel(\"cluster\", fontsize=12)\n",
    "\n",
    "plt.savefig(\"figures/hy_B.pdf\", format=\"pdf\", bbox_inches='tight')"
   ]
  },
  {
   "cell_type": "code",
   "execution_count": 32,
   "metadata": {},
   "outputs": [
    {
     "data": {
      "image/png": "[encoded data removed]",
      "text/plain": [
       "<Figure size 720x288 with 2 Axes>"
      ]
     },
     "metadata": {
      "needs_background": "light"
     },
     "output_type": "display_data"
    }
   ],
   "source": [
    "import matplotlib.pyplot as plt\n",
    "import seaborn as sns\n",
    "\n",
    "fig, axs = plt.subplots(ncols=2, nrows=1, figsize=(10, 4))\n",
    "\n",
    "sns.countplot(data.loc[data[\"B\"] == \"C1\", \"hy\"], ax = axs[0], order=[1,2,3,4,5])\n",
    "axs[0].set_xlabel(\"Cluster 1\", fontsize=12)\n",
    "axs[0].set_ylabel(\"HY count\", fontsize=12)\n",
    "\n",
    "sns.countplot(data.loc[data[\"B\"] == \"C2\", \"hy\"], ax = axs[1], order=[1,2,3,4,5])\n",
    "axs[1].set_xlabel(\"Cluster 2\", fontsize=12)\n",
    "axs[1].set_ylabel(\"HY count\", fontsize=12)\n",
    "\n",
    "plt.savefig(\"figures/hy_dists_B.pdf\", format=\"pdf\", bbox_inches='tight')"
   ]
  },
  {
   "cell_type": "markdown",
   "metadata": {},
   "source": [
    "##### Table"
   ]
  },
  {
   "cell_type": "code",
   "execution_count": 33,
   "metadata": {
    "collapsed": false,
    "jupyter": {
     "outputs_hidden": false
    },
    "pycharm": {
     "name": "#%%\n"
    }
   },
   "outputs": [
    {
     "data": {
      "text/html": [
       "<div>\n",
       "<style scoped>\n",
       "    .dataframe tbody tr th:only-of-type {\n",
       "        vertical-align: middle;\n",
       "    }\n",
       "\n",
       "    .dataframe tbody tr th {\n",
       "        vertical-align: top;\n",
       "    }\n",
       "\n",
       "    .dataframe thead th {\n",
       "        text-align: right;\n",
       "    }\n",
       "</style>\n",
       "<table border=\"1\" class=\"dataframe\">\n",
       "  <thead>\n",
       "    <tr style=\"text-align: right;\">\n",
       "      <th></th>\n",
       "      <th>hy</th>\n",
       "    </tr>\n",
       "    <tr>\n",
       "      <th>B</th>\n",
       "      <th></th>\n",
       "    </tr>\n",
       "  </thead>\n",
       "  <tbody>\n",
       "    <tr>\n",
       "      <th>C1</th>\n",
       "      <td>0.71</td>\n",
       "    </tr>\n",
       "    <tr>\n",
       "      <th>C2</th>\n",
       "      <td>0.72</td>\n",
       "    </tr>\n",
       "  </tbody>\n",
       "</table>\n",
       "</div>"
      ],
      "text/plain": [
       "      hy\n",
       "B       \n",
       "C1  0.71\n",
       "C2  0.72"
      ]
     },
     "execution_count": 33,
     "metadata": {},
     "output_type": "execute_result"
    }
   ],
   "source": [
    "partition = \"B\"\n",
    "columns_1 = [\"hy\", partition]\n",
    "\n",
    "data[columns_1].groupby([partition]).mean().round(2)\n",
    "data[columns_1].groupby([partition]).std().round(2)"
   ]
  },
  {
   "cell_type": "markdown",
   "metadata": {},
   "source": [
    "##### Hypothesis test (continuous)"
   ]
  },
  {
   "cell_type": "code",
   "execution_count": 34,
   "metadata": {
    "collapsed": false,
    "jupyter": {
     "outputs_hidden": false
    },
    "pycharm": {
     "name": "#%%\n"
    }
   },
   "outputs": [
    {
     "data": {
      "text/plain": [
       "5.740065992465602e-08"
      ]
     },
     "execution_count": 34,
     "metadata": {},
     "output_type": "execute_result"
    }
   ],
   "source": [
    "from scipy.stats import mannwhitneyu as mw\n",
    "\n",
    "cluster_1_data = data.loc[data[\"B\"] == \"C1\", \"hy\"]\n",
    "cluster_2_data = data.loc[data[\"B\"] == \"C2\", \"hy\"]\n",
    "\n",
    "mw(cluster_1_data, cluster_2_data).pvalue"
   ]
  },
  {
   "cell_type": "markdown",
   "metadata": {},
   "source": [
    "##### Hypothesis test (discrete)"
   ]
  },
  {
   "cell_type": "code",
   "execution_count": 35,
   "metadata": {},
   "outputs": [
    {
     "data": {
      "text/plain": [
       "0.000412299060838859"
      ]
     },
     "execution_count": 35,
     "metadata": {},
     "output_type": "execute_result"
    }
   ],
   "source": [
    "from scipy.stats import chi2_contingency \n",
    "\n",
    "cluster_1_data = data.loc[data[\"B\"] == \"C1\", \"hy\"].value_counts()\n",
    "cluster_2_data = data.loc[data[\"B\"] == \"C2\", \"hy\"].value_counts()\n",
    "\n",
    "# Given that in this dataset there are no HY values of 5, we consider only 4\n",
    "cluster_1_data_array = [cluster_1_data.iloc[0], cluster_1_data.iloc[1], cluster_1_data.iloc[2], cluster_1_data.iloc[3]]\n",
    "cluster_2_data_array = [cluster_2_data.iloc[0], cluster_2_data.iloc[1], cluster_2_data.iloc[2], cluster_2_data.iloc[3]]\n",
    "\n",
    "contingency_table = [cluster_1_data_array, cluster_2_data_array]\n",
    "\n",
    "tat, p, dof, expected = chi2_contingency(contingency_table)\n",
    "p"
   ]
  },
  {
   "cell_type": "markdown",
   "metadata": {},
   "source": [
    "#### 2.3 - Age"
   ]
  },
  {
   "cell_type": "markdown",
   "metadata": {},
   "source": [
    "##### Plot"
   ]
  },
  {
   "cell_type": "code",
   "execution_count": 36,
   "metadata": {},
   "outputs": [
    {
     "data": {
      "image/png": "[encoded data removed]",
      "text/plain": [
       "<Figure size 360x288 with 1 Axes>"
      ]
     },
     "metadata": {
      "needs_background": "light"
     },
     "output_type": "display_data"
    }
   ],
   "source": [
    "import matplotlib.pyplot as plt\n",
    "import seaborn as sns\n",
    "\n",
    "sex_colors = [\"#00A6D6\", \"#FF69B4\"]\n",
    "\n",
    "fig, axs = plt.subplots(ncols=1, nrows=1, figsize=(5, 4))\n",
    "\n",
    "sns.boxplot(x=\"B\", y=\"age\", data=data, showmeans=True, meanprops={\"marker\":\"o\",\n",
    "                       \"markerfacecolor\":\"white\", \n",
    "                       \"markeredgecolor\":\"black\",\n",
    "                      \"markersize\":\"8\"})\n",
    "axs.set_ylabel('Age', fontsize=12)\n",
    "axs.set_xlabel(\"cluster\", fontsize=12)\n",
    "\n",
    "plt.savefig(\"figures/age_B.pdf\", format=\"pdf\", bbox_inches='tight')"
   ]
  },
  {
   "cell_type": "markdown",
   "metadata": {},
   "source": [
    "##### Table"
   ]
  },
  {
   "cell_type": "code",
   "execution_count": 37,
   "metadata": {},
   "outputs": [
    {
     "data": {
      "text/html": [
       "<div>\n",
       "<style scoped>\n",
       "    .dataframe tbody tr th:only-of-type {\n",
       "        vertical-align: middle;\n",
       "    }\n",
       "\n",
       "    .dataframe tbody tr th {\n",
       "        vertical-align: top;\n",
       "    }\n",
       "\n",
       "    .dataframe thead th {\n",
       "        text-align: right;\n",
       "    }\n",
       "</style>\n",
       "<table border=\"1\" class=\"dataframe\">\n",
       "  <thead>\n",
       "    <tr style=\"text-align: right;\">\n",
       "      <th></th>\n",
       "      <th>age</th>\n",
       "    </tr>\n",
       "    <tr>\n",
       "      <th>B</th>\n",
       "      <th></th>\n",
       "    </tr>\n",
       "  </thead>\n",
       "  <tbody>\n",
       "    <tr>\n",
       "      <th>C1</th>\n",
       "      <td>10.18</td>\n",
       "    </tr>\n",
       "    <tr>\n",
       "      <th>C2</th>\n",
       "      <td>9.58</td>\n",
       "    </tr>\n",
       "  </tbody>\n",
       "</table>\n",
       "</div>"
      ],
      "text/plain": [
       "      age\n",
       "B        \n",
       "C1  10.18\n",
       "C2   9.58"
      ]
     },
     "execution_count": 37,
     "metadata": {},
     "output_type": "execute_result"
    }
   ],
   "source": [
    "partition = \"B\"\n",
    "columns_1 = [\"age\", partition]\n",
    "\n",
    "data[columns_1].groupby([partition]).mean().round(2)\n",
    "data[columns_1].groupby([partition]).std().round(2)"
   ]
  },
  {
   "cell_type": "markdown",
   "metadata": {},
   "source": [
    "##### Hypothesis test"
   ]
  },
  {
   "cell_type": "code",
   "execution_count": 38,
   "metadata": {},
   "outputs": [
    {
     "data": {
      "text/plain": [
       "0.003396764364209456"
      ]
     },
     "execution_count": 38,
     "metadata": {},
     "output_type": "execute_result"
    }
   ],
   "source": [
    "from scipy.stats import mannwhitneyu as mw\n",
    "\n",
    "cluster_1_data = data.loc[data[\"B\"] == \"C1\", \"age\"]\n",
    "cluster_2_data = data.loc[data[\"B\"] == \"C2\", \"age\"]\n",
    "\n",
    "mw(cluster_1_data, cluster_2_data).pvalue"
   ]
  },
  {
   "cell_type": "markdown",
   "metadata": {},
   "source": [
    "#### 2.4 - PD onset"
   ]
  },
  {
   "cell_type": "markdown",
   "metadata": {},
   "source": [
    "##### Plot"
   ]
  },
  {
   "cell_type": "code",
   "execution_count": 39,
   "metadata": {},
   "outputs": [
    {
     "data": {
      "image/png": "[encoded data removed]",
      "text/plain": [
       "<Figure size 360x288 with 1 Axes>"
      ]
     },
     "metadata": {
      "needs_background": "light"
     },
     "output_type": "display_data"
    }
   ],
   "source": [
    "import matplotlib.pyplot as plt\n",
    "import seaborn as sns\n",
    "\n",
    "sex_colors = [\"#00A6D6\", \"#FF69B4\"]\n",
    "\n",
    "fig, axs = plt.subplots(ncols=1, nrows=1, figsize=(5, 4))\n",
    "\n",
    "sns.boxplot(x=\"B\", y=\"pdonset\", data=data, showmeans=True, meanprops={\"marker\":\"o\",\n",
    "                       \"markerfacecolor\":\"white\", \n",
    "                       \"markeredgecolor\":\"black\",\n",
    "                      \"markersize\":\"8\"})\n",
    "axs.set_ylabel('PD onset', fontsize=12)\n",
    "axs.set_xlabel(\"cluster\", fontsize=12)\n",
    "\n",
    "plt.savefig(\"figures/pdonset_B.pdf\", format=\"pdf\", bbox_inches='tight')"
   ]
  },
  {
   "cell_type": "markdown",
   "metadata": {},
   "source": [
    "##### Table"
   ]
  },
  {
   "cell_type": "code",
   "execution_count": 40,
   "metadata": {},
   "outputs": [
    {
     "data": {
      "text/html": [
       "<div>\n",
       "<style scoped>\n",
       "    .dataframe tbody tr th:only-of-type {\n",
       "        vertical-align: middle;\n",
       "    }\n",
       "\n",
       "    .dataframe tbody tr th {\n",
       "        vertical-align: top;\n",
       "    }\n",
       "\n",
       "    .dataframe thead th {\n",
       "        text-align: right;\n",
       "    }\n",
       "</style>\n",
       "<table border=\"1\" class=\"dataframe\">\n",
       "  <thead>\n",
       "    <tr style=\"text-align: right;\">\n",
       "      <th></th>\n",
       "      <th>pdonset</th>\n",
       "    </tr>\n",
       "    <tr>\n",
       "      <th>B</th>\n",
       "      <th></th>\n",
       "    </tr>\n",
       "  </thead>\n",
       "  <tbody>\n",
       "    <tr>\n",
       "      <th>C1</th>\n",
       "      <td>10.79</td>\n",
       "    </tr>\n",
       "    <tr>\n",
       "      <th>C2</th>\n",
       "      <td>10.59</td>\n",
       "    </tr>\n",
       "  </tbody>\n",
       "</table>\n",
       "</div>"
      ],
      "text/plain": [
       "    pdonset\n",
       "B          \n",
       "C1    10.79\n",
       "C2    10.59"
      ]
     },
     "execution_count": 40,
     "metadata": {},
     "output_type": "execute_result"
    }
   ],
   "source": [
    "partition = \"B\"\n",
    "columns_1 = [\"pdonset\", partition]\n",
    "\n",
    "data[columns_1].groupby([partition]).mean().round(2)\n",
    "data[columns_1].groupby([partition]).std().round(2)"
   ]
  },
  {
   "cell_type": "markdown",
   "metadata": {},
   "source": [
    "##### Hypothesis test"
   ]
  },
  {
   "cell_type": "code",
   "execution_count": 41,
   "metadata": {},
   "outputs": [
    {
     "data": {
      "text/plain": [
       "0.4024755021048099"
      ]
     },
     "execution_count": 41,
     "metadata": {},
     "output_type": "execute_result"
    }
   ],
   "source": [
    "from scipy.stats import mannwhitneyu as mw\n",
    "\n",
    "cluster_1_data = data.loc[data[\"B\"] == \"C1\", \"pdonset\"]\n",
    "cluster_2_data = data.loc[data[\"B\"] == \"C2\", \"pdonset\"]\n",
    "\n",
    "mw(cluster_1_data, cluster_2_data).pvalue"
   ]
  },
  {
   "cell_type": "markdown",
   "metadata": {},
   "source": [
    "#### 2.5 - PD duration"
   ]
  },
  {
   "cell_type": "markdown",
   "metadata": {},
   "source": [
    "##### Plot"
   ]
  },
  {
   "cell_type": "code",
   "execution_count": 42,
   "metadata": {},
   "outputs": [
    {
     "data": {
      "image/png": "[encoded data removed]",
      "text/plain": [
       "<Figure size 360x288 with 1 Axes>"
      ]
     },
     "metadata": {
      "needs_background": "light"
     },
     "output_type": "display_data"
    }
   ],
   "source": [
    "import matplotlib.pyplot as plt\n",
    "import seaborn as sns\n",
    "\n",
    "sex_colors = [\"#00A6D6\", \"#FF69B4\"]\n",
    "\n",
    "fig, axs = plt.subplots(ncols=1, nrows=1, figsize=(5, 4))\n",
    "\n",
    "sns.boxplot(x=\"B\", y=\"durat_pd\", data=data, showmeans=True, meanprops={\"marker\":\"o\",\n",
    "                       \"markerfacecolor\":\"white\", \n",
    "                       \"markeredgecolor\":\"black\",\n",
    "                      \"markersize\":\"8\"})\n",
    "axs.set_ylabel('PD duration', fontsize=12)\n",
    "axs.set_xlabel(\"cluster\", fontsize=12)\n",
    "\n",
    "plt.savefig(\"figures/durat_pd_B.pdf\", format=\"pdf\", bbox_inches='tight')"
   ]
  },
  {
   "cell_type": "markdown",
   "metadata": {},
   "source": [
    "##### Table"
   ]
  },
  {
   "cell_type": "code",
   "execution_count": 43,
   "metadata": {},
   "outputs": [
    {
     "data": {
      "text/html": [
       "<div>\n",
       "<style scoped>\n",
       "    .dataframe tbody tr th:only-of-type {\n",
       "        vertical-align: middle;\n",
       "    }\n",
       "\n",
       "    .dataframe tbody tr th {\n",
       "        vertical-align: top;\n",
       "    }\n",
       "\n",
       "    .dataframe thead th {\n",
       "        text-align: right;\n",
       "    }\n",
       "</style>\n",
       "<table border=\"1\" class=\"dataframe\">\n",
       "  <thead>\n",
       "    <tr style=\"text-align: right;\">\n",
       "      <th></th>\n",
       "      <th>durat_pd</th>\n",
       "    </tr>\n",
       "    <tr>\n",
       "      <th>B</th>\n",
       "      <th></th>\n",
       "    </tr>\n",
       "  </thead>\n",
       "  <tbody>\n",
       "    <tr>\n",
       "      <th>C1</th>\n",
       "      <td>5.15</td>\n",
       "    </tr>\n",
       "    <tr>\n",
       "      <th>C2</th>\n",
       "      <td>6.36</td>\n",
       "    </tr>\n",
       "  </tbody>\n",
       "</table>\n",
       "</div>"
      ],
      "text/plain": [
       "    durat_pd\n",
       "B           \n",
       "C1      5.15\n",
       "C2      6.36"
      ]
     },
     "execution_count": 43,
     "metadata": {},
     "output_type": "execute_result"
    }
   ],
   "source": [
    "partition = \"B\"\n",
    "columns_1 = [\"durat_pd\", partition]\n",
    "\n",
    "data[columns_1].groupby([partition]).mean().round(2)\n",
    "data[columns_1].groupby([partition]).std().round(2)"
   ]
  },
  {
   "cell_type": "markdown",
   "metadata": {},
   "source": [
    "##### Hypothesis test"
   ]
  },
  {
   "cell_type": "code",
   "execution_count": 44,
   "metadata": {},
   "outputs": [
    {
     "data": {
      "text/plain": [
       "1.1244105169208302e-05"
      ]
     },
     "execution_count": 44,
     "metadata": {},
     "output_type": "execute_result"
    }
   ],
   "source": [
    "from scipy.stats import mannwhitneyu as mw\n",
    "\n",
    "cluster_1_data = data.loc[data[\"B\"] == \"C1\", \"durat_pd\"]\n",
    "cluster_2_data = data.loc[data[\"B\"] == \"C2\", \"durat_pd\"]\n",
    "\n",
    "mw(cluster_1_data, cluster_2_data).pvalue"
   ]
  },
  {
   "cell_type": "markdown",
   "metadata": {},
   "source": [
    "#### 2.6 - Sex"
   ]
  },
  {
   "cell_type": "markdown",
   "metadata": {},
   "source": [
    "##### Proporion table\n",
    "\n",
    "Estimate the proportion of males and females in each cluster. The idea is to see if there are big proportional differences. This is not a hypothesis test."
   ]
  },
  {
   "cell_type": "code",
   "execution_count": 45,
   "metadata": {},
   "outputs": [
    {
     "data": {
      "text/plain": [
       "B   sex   \n",
       "C1  male      48.40\n",
       "    female    51.32\n",
       "C2  male      51.60\n",
       "    female    48.68\n",
       "Name: sex, dtype: float64"
      ]
     },
     "execution_count": 45,
     "metadata": {},
     "output_type": "execute_result"
    }
   ],
   "source": [
    "import numpy as np\n",
    "\n",
    "partition = \"B\"\n",
    "columns_1 = [\"sex\", partition]\n",
    "\n",
    "total_males = data[\"sex\"].value_counts()[0]\n",
    "total_females = data[\"sex\"].value_counts()[1]\n",
    "total = np.array([total_males, total_females, total_males, total_females])\n",
    "\n",
    "(data[columns_1].groupby([partition]).sex.value_counts()/total * 100).round(2)"
   ]
  },
  {
   "cell_type": "markdown",
   "metadata": {},
   "source": [
    "##### Table"
   ]
  },
  {
   "cell_type": "code",
   "execution_count": 46,
   "metadata": {},
   "outputs": [
    {
     "data": {
      "text/plain": [
       "B   sex   \n",
       "C1  male      60.80\n",
       "    female    39.20\n",
       "C2  male      63.55\n",
       "    female    36.45\n",
       "Name: sex, dtype: float64"
      ]
     },
     "execution_count": 46,
     "metadata": {},
     "output_type": "execute_result"
    }
   ],
   "source": [
    "import numpy as np\n",
    "\n",
    "partition = \"B\"\n",
    "columns_1 = [\"sex\", partition]\n",
    "\n",
    "cluster_1_total = data[columns_1].groupby([partition]).count().iloc[0,0]\n",
    "cluster_2_total = data[columns_1].groupby([partition]).count().iloc[1,0]\n",
    "total = np.array([cluster_1_total, cluster_1_total, cluster_2_total, cluster_2_total])\n",
    "\n",
    "# Percentage\n",
    "(data[columns_1].groupby([partition]).sex.value_counts()/total * 100).round(2) \n",
    "# Counts\n",
    "#data[columns_1].groupby([partition]).sex.value_counts()"
   ]
  },
  {
   "cell_type": "markdown",
   "metadata": {},
   "source": [
    "##### Hypothesis test\n",
    "\n",
    "Note: see https://stats.stackexchange.com/questions/110718/chi-squared-test-with-scipy-whats-the-difference-between-chi2-contingency-and"
   ]
  },
  {
   "cell_type": "code",
   "execution_count": 47,
   "metadata": {},
   "outputs": [
    {
     "data": {
      "text/plain": [
       "0.642543647376864"
      ]
     },
     "execution_count": 47,
     "metadata": {},
     "output_type": "execute_result"
    }
   ],
   "source": [
    "from scipy.stats import chi2_contingency \n",
    "\n",
    "cluster_1_data = data.loc[data[\"B\"] == \"C1\", \"sex\"].value_counts()\n",
    "cluster_2_data = data.loc[data[\"B\"] == \"C2\", \"sex\"].value_counts()\n",
    "\n",
    "cluster_1_data_array = [cluster_1_data[0], cluster_1_data[1]]\n",
    "cluster_2_data_array = [cluster_2_data[0], cluster_2_data[1]]\n",
    "contingency_table = [cluster_1_data_array, cluster_2_data_array]\n",
    "\n",
    "tat, p, dof, expected = chi2_contingency(contingency_table)\n",
    "p"
   ]
  },
  {
   "cell_type": "markdown",
   "metadata": {},
   "source": [
    "----\n",
    "\n",
    "## 3 - Clustering C\n",
    "\n",
    "* **Attributes:** dyskinesias, psychosis"
   ]
  },
  {
   "cell_type": "markdown",
   "metadata": {
    "pycharm": {
     "name": "#%% md\n"
    }
   },
   "source": [
    "#### 3.1 - Prepare data for analysis"
   ]
  },
  {
   "cell_type": "code",
   "execution_count": 48,
   "metadata": {
    "collapsed": false,
    "jupyter": {
     "outputs_hidden": false
    },
    "pycharm": {
     "name": "#%%\n"
    }
   },
   "outputs": [],
   "source": [
    "# First, we make this variable categorical so Pandas can order its states in the plot. Then we rename its categories accordingly (and reorder them if necessary)\n",
    "data[\"C\"] = data[\"C\"].astype(\"category\")\n",
    "data[\"C\"] = data[\"C\"].cat.rename_categories({\"0\":\"C1\", \"1\": \"C3\", \"2\": \"C2\"})\n",
    "data[\"C\"] = data[\"C\"].cat.reorder_categories(['C1', 'C2', 'C3'])"
   ]
  },
  {
   "cell_type": "markdown",
   "metadata": {},
   "source": [
    "#### 3.2 - Hoehn Yahr"
   ]
  },
  {
   "cell_type": "markdown",
   "metadata": {},
   "source": [
    "##### Plot"
   ]
  },
  {
   "cell_type": "code",
   "execution_count": 49,
   "metadata": {
    "collapsed": false,
    "jupyter": {
     "outputs_hidden": false
    },
    "pycharm": {
     "name": "#%%\n"
    }
   },
   "outputs": [
    {
     "data": {
      "image/png": "[encoded data removed]",
      "text/plain": [
       "<Figure size 360x288 with 1 Axes>"
      ]
     },
     "metadata": {
      "needs_background": "light"
     },
     "output_type": "display_data"
    }
   ],
   "source": [
    "import matplotlib.pyplot as plt\n",
    "import seaborn as sns\n",
    "\n",
    "sex_colors = [\"#00A6D6\", \"#FF69B4\"]\n",
    "\n",
    "fig, axs = plt.subplots(ncols=1, nrows=1, figsize=(5, 4))\n",
    "\n",
    "sns.boxplot(x=\"C\", y=\"hy\", data=data, showmeans= True, meanprops={\"marker\":\"o\",\n",
    "                       \"markerfacecolor\":\"white\", \n",
    "                       \"markeredgecolor\":\"black\",\n",
    "                      \"markersize\":\"8\"})\n",
    "axs.set_ylabel('hy', fontsize=12)\n",
    "axs.set_xlabel(\"cluster\", fontsize=12)\n",
    "\n",
    "plt.savefig(\"figures/hy_C.pdf\", format=\"pdf\", bbox_inches='tight')"
   ]
  },
  {
   "cell_type": "code",
   "execution_count": 50,
   "metadata": {},
   "outputs": [
    {
     "data": {
      "image/png": "[encoded data removed]",
      "text/plain": [
       "<Figure size 1080x288 with 3 Axes>"
      ]
     },
     "metadata": {
      "needs_background": "light"
     },
     "output_type": "display_data"
    }
   ],
   "source": [
    "import matplotlib.pyplot as plt\n",
    "import seaborn as sns\n",
    "\n",
    "fig, axs = plt.subplots(ncols=3, nrows=1, figsize=(15, 4))\n",
    "\n",
    "sns.countplot(data.loc[data[\"C\"] == \"C1\", \"hy\"], ax = axs[0], order=[1,2,3,4,5])\n",
    "axs[0].set_xlabel(\"Cluster 1\", fontsize=12)\n",
    "axs[0].set_ylabel(\"HY count\", fontsize=12)\n",
    "\n",
    "sns.countplot(data.loc[data[\"C\"] == \"C2\", \"hy\"], ax = axs[1], order=[1,2,3,4,5])\n",
    "axs[1].set_xlabel(\"Cluster 2\", fontsize=12)\n",
    "axs[1].set_ylabel(\"HY count\", fontsize=12)\n",
    "\n",
    "sns.countplot(data.loc[data[\"C\"] == \"C3\", \"hy\"], ax = axs[2], order=[1,2,3,4,5])\n",
    "axs[2].set_xlabel(\"Cluster 3\", fontsize=12)\n",
    "axs[2].set_ylabel(\"HY count\", fontsize=12)\n",
    "\n",
    "plt.savefig(\"figures/hy_dists_C.pdf\", format=\"pdf\", bbox_inches='tight')"
   ]
  },
  {
   "cell_type": "markdown",
   "metadata": {},
   "source": [
    "##### Table"
   ]
  },
  {
   "cell_type": "code",
   "execution_count": 51,
   "metadata": {
    "collapsed": false,
    "jupyter": {
     "outputs_hidden": false
    },
    "pycharm": {
     "name": "#%%\n"
    }
   },
   "outputs": [
    {
     "data": {
      "text/html": [
       "<div>\n",
       "<style scoped>\n",
       "    .dataframe tbody tr th:only-of-type {\n",
       "        vertical-align: middle;\n",
       "    }\n",
       "\n",
       "    .dataframe tbody tr th {\n",
       "        vertical-align: top;\n",
       "    }\n",
       "\n",
       "    .dataframe thead th {\n",
       "        text-align: right;\n",
       "    }\n",
       "</style>\n",
       "<table border=\"1\" class=\"dataframe\">\n",
       "  <thead>\n",
       "    <tr style=\"text-align: right;\">\n",
       "      <th></th>\n",
       "      <th>hy</th>\n",
       "    </tr>\n",
       "    <tr>\n",
       "      <th>C</th>\n",
       "      <th></th>\n",
       "    </tr>\n",
       "  </thead>\n",
       "  <tbody>\n",
       "    <tr>\n",
       "      <th>C1</th>\n",
       "      <td>0.73</td>\n",
       "    </tr>\n",
       "    <tr>\n",
       "      <th>C2</th>\n",
       "      <td>0.70</td>\n",
       "    </tr>\n",
       "    <tr>\n",
       "      <th>C3</th>\n",
       "      <td>0.71</td>\n",
       "    </tr>\n",
       "  </tbody>\n",
       "</table>\n",
       "</div>"
      ],
      "text/plain": [
       "      hy\n",
       "C       \n",
       "C1  0.73\n",
       "C2  0.70\n",
       "C3  0.71"
      ]
     },
     "execution_count": 51,
     "metadata": {},
     "output_type": "execute_result"
    }
   ],
   "source": [
    "partition = \"C\"\n",
    "columns_1 = [\"hy\", partition]\n",
    "\n",
    "data[columns_1].groupby([partition]).mean().round(2)\n",
    "data[columns_1].groupby([partition]).std().round(2)"
   ]
  },
  {
   "cell_type": "markdown",
   "metadata": {},
   "source": [
    "##### Hypothesis test (continuous)\n",
    "In the case of three or more clusters, we will first do a Kruskal-Wallis test, followed by a post-hoc analysis of Tukey-HSD."
   ]
  },
  {
   "cell_type": "code",
   "execution_count": 52,
   "metadata": {},
   "outputs": [
    {
     "data": {
      "text/plain": [
       "1.2887261067688169e-05"
      ]
     },
     "execution_count": 52,
     "metadata": {},
     "output_type": "execute_result"
    }
   ],
   "source": [
    "from scipy.stats import kruskal\n",
    "\n",
    "cluster_1_data = data.loc[data[\"C\"] == \"C1\", \"hy\"]\n",
    "cluster_2_data = data.loc[data[\"C\"] == \"C2\", \"hy\"]\n",
    "cluster_3_data = data.loc[data[\"C\"] == \"C3\", \"hy\"]\n",
    "\n",
    "kruskal(cluster_1_data, cluster_2_data, cluster_3_data).pvalue"
   ]
  },
  {
   "cell_type": "markdown",
   "metadata": {},
   "source": [
    "Given that the Kruskal-Wallis test returns a p-value < 0.01, we can now apply the Tukey-HSD post-hoc"
   ]
  },
  {
   "cell_type": "code",
   "execution_count": 53,
   "metadata": {},
   "outputs": [
    {
     "name": "stdout",
     "output_type": "stream",
     "text": [
      "Multiple Comparison of Means - Tukey HSD, FWER=0.05\n",
      "===================================================\n",
      "group1 group2 meandiff p-adj   lower  upper  reject\n",
      "---------------------------------------------------\n",
      "    C1     C2   0.3521  0.001  0.1588 0.5453   True\n",
      "    C1     C3   0.4384  0.001  0.1712 0.7055   True\n",
      "    C2     C3   0.0863 0.7458 -0.2054  0.378  False\n",
      "---------------------------------------------------\n"
     ]
    }
   ],
   "source": [
    "from statsmodels.stats.multicomp import pairwise_tukeyhsd\n",
    "\n",
    "print(pairwise_tukeyhsd(endog=data[\"hy\"], groups=data[\"C\"]))"
   ]
  },
  {
   "cell_type": "markdown",
   "metadata": {},
   "source": [
    "##### Hypothesis test (discrete)"
   ]
  },
  {
   "cell_type": "code",
   "execution_count": 54,
   "metadata": {},
   "outputs": [
    {
     "data": {
      "text/plain": [
       "0.0009114308888094949"
      ]
     },
     "execution_count": 54,
     "metadata": {},
     "output_type": "execute_result"
    }
   ],
   "source": [
    "from scipy.stats import chi2_contingency \n",
    "\n",
    "cluster_1_data = data.loc[data[\"B\"] == \"C1\", \"hy\"].value_counts()\n",
    "cluster_2_data = data.loc[data[\"B\"] == \"C2\", \"hy\"].value_counts()\n",
    "cluster_3_data = data.loc[data[\"C\"] == \"C2\", \"hy\"].value_counts()\n",
    "\n",
    "# Given that in this dataset there are no HY values of 5, we consider only 4\n",
    "cluster_1_data_array = [cluster_1_data.iloc[0], cluster_1_data.iloc[1], cluster_1_data.iloc[2], cluster_1_data.iloc[3]]\n",
    "cluster_2_data_array = [cluster_2_data.iloc[0], cluster_2_data.iloc[1], cluster_2_data.iloc[2], cluster_2_data.iloc[3]]\n",
    "cluster_3_data_array = [cluster_3_data.iloc[0], cluster_3_data.iloc[1], cluster_3_data.iloc[2], cluster_3_data.iloc[3]]\n",
    "\n",
    "contingency_table = [cluster_1_data_array, cluster_2_data_array, cluster_3_data_array]\n",
    "\n",
    "tat, p, dof, expected = chi2_contingency(contingency_table)\n",
    "p"
   ]
  },
  {
   "cell_type": "markdown",
   "metadata": {},
   "source": [
    "Given that the $\\chi^{2}$ test with 3 groups is less than the signifcant value (0.01), we can now compare pairs of clusters"
   ]
  },
  {
   "cell_type": "code",
   "execution_count": 55,
   "metadata": {},
   "outputs": [
    {
     "data": {
      "text/plain": [
       "0.000412299060838859"
      ]
     },
     "execution_count": 55,
     "metadata": {},
     "output_type": "execute_result"
    }
   ],
   "source": [
    "# Cluster 1 vs Cluster 2\n",
    "contingency_table = [cluster_1_data_array, cluster_2_data_array]\n",
    "\n",
    "tat, p, dof, expected = chi2_contingency(contingency_table)\n",
    "p"
   ]
  },
  {
   "cell_type": "code",
   "execution_count": 56,
   "metadata": {},
   "outputs": [
    {
     "data": {
      "text/plain": [
       "0.009930396344205339"
      ]
     },
     "execution_count": 56,
     "metadata": {},
     "output_type": "execute_result"
    }
   ],
   "source": [
    "# Cluster 1 vs Cluster 3\n",
    "contingency_table = [cluster_1_data_array, cluster_3_data_array]\n",
    "\n",
    "tat, p, dof, expected = chi2_contingency(contingency_table)\n",
    "p"
   ]
  },
  {
   "cell_type": "code",
   "execution_count": 57,
   "metadata": {},
   "outputs": [
    {
     "data": {
      "text/plain": [
       "0.9453981342224083"
      ]
     },
     "execution_count": 57,
     "metadata": {},
     "output_type": "execute_result"
    }
   ],
   "source": [
    "# Cluster 2 vs Cluster 3\n",
    "contingency_table = [cluster_2_data_array, cluster_3_data_array]\n",
    "\n",
    "tat, p, dof, expected = chi2_contingency(contingency_table)\n",
    "p"
   ]
  },
  {
   "cell_type": "markdown",
   "metadata": {},
   "source": [
    "#### 3.3 - Age"
   ]
  },
  {
   "cell_type": "markdown",
   "metadata": {},
   "source": [
    "##### Plot"
   ]
  },
  {
   "cell_type": "code",
   "execution_count": 58,
   "metadata": {},
   "outputs": [
    {
     "data": {
      "image/png": "[encoded data removed]",
      "text/plain": [
       "<Figure size 360x288 with 1 Axes>"
      ]
     },
     "metadata": {
      "needs_background": "light"
     },
     "output_type": "display_data"
    }
   ],
   "source": [
    "import matplotlib.pyplot as plt\n",
    "import seaborn as sns\n",
    "\n",
    "sex_colors = [\"#00A6D6\", \"#FF69B4\"]\n",
    "\n",
    "fig, axs = plt.subplots(ncols=1, nrows=1, figsize=(5, 4))\n",
    "\n",
    "sns.boxplot(x=\"C\", y=\"age\", data=data, showmeans= True, meanprops={\"marker\":\"o\",\n",
    "                       \"markerfacecolor\":\"white\", \n",
    "                       \"markeredgecolor\":\"black\",\n",
    "                      \"markersize\":\"8\"})\n",
    "axs.set_ylabel('Age', fontsize=12)\n",
    "axs.set_xlabel(\"cluster\", fontsize=12)\n",
    "\n",
    "plt.savefig(\"figures/age_C.pdf\", format=\"pdf\", bbox_inches='tight')"
   ]
  },
  {
   "cell_type": "markdown",
   "metadata": {},
   "source": [
    "##### Table"
   ]
  },
  {
   "cell_type": "code",
   "execution_count": 59,
   "metadata": {},
   "outputs": [
    {
     "data": {
      "text/html": [
       "<div>\n",
       "<style scoped>\n",
       "    .dataframe tbody tr th:only-of-type {\n",
       "        vertical-align: middle;\n",
       "    }\n",
       "\n",
       "    .dataframe tbody tr th {\n",
       "        vertical-align: top;\n",
       "    }\n",
       "\n",
       "    .dataframe thead th {\n",
       "        text-align: right;\n",
       "    }\n",
       "</style>\n",
       "<table border=\"1\" class=\"dataframe\">\n",
       "  <thead>\n",
       "    <tr style=\"text-align: right;\">\n",
       "      <th></th>\n",
       "      <th>age</th>\n",
       "    </tr>\n",
       "    <tr>\n",
       "      <th>C</th>\n",
       "      <th></th>\n",
       "    </tr>\n",
       "  </thead>\n",
       "  <tbody>\n",
       "    <tr>\n",
       "      <th>C1</th>\n",
       "      <td>10.19</td>\n",
       "    </tr>\n",
       "    <tr>\n",
       "      <th>C2</th>\n",
       "      <td>9.83</td>\n",
       "    </tr>\n",
       "    <tr>\n",
       "      <th>C3</th>\n",
       "      <td>9.22</td>\n",
       "    </tr>\n",
       "  </tbody>\n",
       "</table>\n",
       "</div>"
      ],
      "text/plain": [
       "      age\n",
       "C        \n",
       "C1  10.19\n",
       "C2   9.83\n",
       "C3   9.22"
      ]
     },
     "execution_count": 59,
     "metadata": {},
     "output_type": "execute_result"
    }
   ],
   "source": [
    "partition = \"C\"\n",
    "columns_1 = [\"age\", partition]\n",
    "\n",
    "data[columns_1].groupby([partition]).mean().round(2)\n",
    "data[columns_1].groupby([partition]).std().round(2)"
   ]
  },
  {
   "cell_type": "markdown",
   "metadata": {},
   "source": [
    "##### Hypothesis test\n",
    "In the case of three or more clusters, we will first do a Kruskal-Wallis test, followed by a post-hoc analysis of Tukey-HSD."
   ]
  },
  {
   "cell_type": "code",
   "execution_count": 60,
   "metadata": {},
   "outputs": [
    {
     "data": {
      "text/plain": [
       "0.9021428945108091"
      ]
     },
     "execution_count": 60,
     "metadata": {},
     "output_type": "execute_result"
    }
   ],
   "source": [
    "from scipy.stats import kruskal\n",
    "\n",
    "cluster_1_data = data.loc[data[\"C\"] == \"C1\", \"age\"]\n",
    "cluster_2_data = data.loc[data[\"C\"] == \"C2\", \"age\"]\n",
    "cluster_3_data = data.loc[data[\"C\"] == \"C3\", \"age\"]\n",
    "\n",
    "kruskal(cluster_1_data, cluster_2_data, cluster_3_data).pvalue"
   ]
  },
  {
   "cell_type": "markdown",
   "metadata": {},
   "source": [
    "Given that the Kruskal Wallis test returns a value that is >= 0.05, we cannot apply the post-hoc analysis."
   ]
  },
  {
   "cell_type": "markdown",
   "metadata": {},
   "source": [
    "#### 3.4 - PD onset"
   ]
  },
  {
   "cell_type": "markdown",
   "metadata": {},
   "source": [
    "##### Plot"
   ]
  },
  {
   "cell_type": "code",
   "execution_count": 61,
   "metadata": {},
   "outputs": [
    {
     "data": {
      "image/png": "[encoded data removed]",
      "text/plain": [
       "<Figure size 360x288 with 1 Axes>"
      ]
     },
     "metadata": {
      "needs_background": "light"
     },
     "output_type": "display_data"
    }
   ],
   "source": [
    "import matplotlib.pyplot as plt\n",
    "import seaborn as sns\n",
    "\n",
    "sex_colors = [\"#00A6D6\", \"#FF69B4\"]\n",
    "\n",
    "fig, axs = plt.subplots(ncols=1, nrows=1, figsize=(5, 4))\n",
    "\n",
    "sns.boxplot(x=\"C\", y=\"pdonset\", data=data, showmeans= True, meanprops={\"marker\":\"o\",\n",
    "                       \"markerfacecolor\":\"white\", \n",
    "                       \"markeredgecolor\":\"black\",\n",
    "                      \"markersize\":\"8\"})\n",
    "axs.set_ylabel('pdonset', fontsize=12)\n",
    "axs.set_xlabel(\"cluster\", fontsize=12)\n",
    "\n",
    "plt.savefig(\"figures/pdonset_C.pdf\", format=\"pdf\", bbox_inches='tight')"
   ]
  },
  {
   "cell_type": "markdown",
   "metadata": {},
   "source": [
    "##### Table"
   ]
  },
  {
   "cell_type": "code",
   "execution_count": 62,
   "metadata": {},
   "outputs": [
    {
     "data": {
      "text/html": [
       "<div>\n",
       "<style scoped>\n",
       "    .dataframe tbody tr th:only-of-type {\n",
       "        vertical-align: middle;\n",
       "    }\n",
       "\n",
       "    .dataframe tbody tr th {\n",
       "        vertical-align: top;\n",
       "    }\n",
       "\n",
       "    .dataframe thead th {\n",
       "        text-align: right;\n",
       "    }\n",
       "</style>\n",
       "<table border=\"1\" class=\"dataframe\">\n",
       "  <thead>\n",
       "    <tr style=\"text-align: right;\">\n",
       "      <th></th>\n",
       "      <th>pdonset</th>\n",
       "    </tr>\n",
       "    <tr>\n",
       "      <th>C</th>\n",
       "      <th></th>\n",
       "    </tr>\n",
       "  </thead>\n",
       "  <tbody>\n",
       "    <tr>\n",
       "      <th>C1</th>\n",
       "      <td>10.70</td>\n",
       "    </tr>\n",
       "    <tr>\n",
       "      <th>C2</th>\n",
       "      <td>11.00</td>\n",
       "    </tr>\n",
       "    <tr>\n",
       "      <th>C3</th>\n",
       "      <td>8.37</td>\n",
       "    </tr>\n",
       "  </tbody>\n",
       "</table>\n",
       "</div>"
      ],
      "text/plain": [
       "    pdonset\n",
       "C          \n",
       "C1    10.70\n",
       "C2    11.00\n",
       "C3     8.37"
      ]
     },
     "execution_count": 62,
     "metadata": {},
     "output_type": "execute_result"
    }
   ],
   "source": [
    "partition = \"C\"\n",
    "columns_1 = [\"pdonset\", partition]\n",
    "\n",
    "data[columns_1].groupby([partition]).mean().round(2)\n",
    "data[columns_1].groupby([partition]).std().round(2)"
   ]
  },
  {
   "cell_type": "markdown",
   "metadata": {},
   "source": [
    "##### Hypothesis test"
   ]
  },
  {
   "cell_type": "code",
   "execution_count": 63,
   "metadata": {},
   "outputs": [
    {
     "data": {
      "text/plain": [
       "0.003629922435567138"
      ]
     },
     "execution_count": 63,
     "metadata": {},
     "output_type": "execute_result"
    }
   ],
   "source": [
    "from scipy.stats import kruskal\n",
    "\n",
    "cluster_1_data = data.loc[data[\"C\"] == \"C1\", \"pdonset\"]\n",
    "cluster_2_data = data.loc[data[\"C\"] == \"C2\", \"pdonset\"]\n",
    "cluster_3_data = data.loc[data[\"C\"] == \"C3\", \"pdonset\"]\n",
    "\n",
    "kruskal(cluster_1_data, cluster_2_data, cluster_3_data).pvalue"
   ]
  },
  {
   "cell_type": "markdown",
   "metadata": {},
   "source": [
    "Given that the Kruskal-Wallis test returns a p-value < 0.05, we can now apply the Tukey-HSD post-hoc"
   ]
  },
  {
   "cell_type": "code",
   "execution_count": 64,
   "metadata": {},
   "outputs": [
    {
     "name": "stdout",
     "output_type": "stream",
     "text": [
      "Multiple Comparison of Means - Tukey HSD, FWER=0.05 \n",
      "====================================================\n",
      "group1 group2 meandiff p-adj   lower   upper  reject\n",
      "----------------------------------------------------\n",
      "    C1     C2   -3.741 0.0058 -6.5749 -0.9071   True\n",
      "    C1     C3  -3.8065  0.059 -7.7245  0.1116  False\n",
      "    C2     C3  -0.0655    0.9 -4.3434  4.2124  False\n",
      "----------------------------------------------------\n"
     ]
    }
   ],
   "source": [
    "from statsmodels.stats.multicomp import pairwise_tukeyhsd\n",
    "\n",
    "print(pairwise_tukeyhsd(endog=data[\"pdonset\"], groups=data[\"C\"]))"
   ]
  },
  {
   "cell_type": "markdown",
   "metadata": {},
   "source": [
    "#### 3.5 - PD duration"
   ]
  },
  {
   "cell_type": "markdown",
   "metadata": {},
   "source": [
    "##### Plot"
   ]
  },
  {
   "cell_type": "code",
   "execution_count": 65,
   "metadata": {},
   "outputs": [
    {
     "data": {
      "image/png": "[encoded data removed]",
      "text/plain": [
       "<Figure size 360x288 with 1 Axes>"
      ]
     },
     "metadata": {
      "needs_background": "light"
     },
     "output_type": "display_data"
    }
   ],
   "source": [
    "import matplotlib.pyplot as plt\n",
    "import seaborn as sns\n",
    "\n",
    "sex_colors = [\"#00A6D6\", \"#FF69B4\"]\n",
    "\n",
    "fig, axs = plt.subplots(ncols=1, nrows=1, figsize=(5, 4))\n",
    "\n",
    "sns.boxplot(x=\"C\", y=\"durat_pd\", data=data, showmeans= True, meanprops={\"marker\":\"o\",\n",
    "                       \"markerfacecolor\":\"white\", \n",
    "                       \"markeredgecolor\":\"black\",\n",
    "                      \"markersize\":\"8\"})\n",
    "axs.set_ylabel('PD duration', fontsize=12)\n",
    "axs.set_xlabel(\"cluster\", fontsize=12)\n",
    "\n",
    "plt.savefig(\"figures/durat_pd_C.pdf\", format=\"pdf\", bbox_inches='tight')"
   ]
  },
  {
   "cell_type": "markdown",
   "metadata": {},
   "source": [
    "##### Table"
   ]
  },
  {
   "cell_type": "code",
   "execution_count": 66,
   "metadata": {},
   "outputs": [
    {
     "data": {
      "text/html": [
       "<div>\n",
       "<style scoped>\n",
       "    .dataframe tbody tr th:only-of-type {\n",
       "        vertical-align: middle;\n",
       "    }\n",
       "\n",
       "    .dataframe tbody tr th {\n",
       "        vertical-align: top;\n",
       "    }\n",
       "\n",
       "    .dataframe thead th {\n",
       "        text-align: right;\n",
       "    }\n",
       "</style>\n",
       "<table border=\"1\" class=\"dataframe\">\n",
       "  <thead>\n",
       "    <tr style=\"text-align: right;\">\n",
       "      <th></th>\n",
       "      <th>durat_pd</th>\n",
       "    </tr>\n",
       "    <tr>\n",
       "      <th>C</th>\n",
       "      <th></th>\n",
       "    </tr>\n",
       "  </thead>\n",
       "  <tbody>\n",
       "    <tr>\n",
       "      <th>C1</th>\n",
       "      <td>5.35</td>\n",
       "    </tr>\n",
       "    <tr>\n",
       "      <th>C2</th>\n",
       "      <td>6.19</td>\n",
       "    </tr>\n",
       "    <tr>\n",
       "      <th>C3</th>\n",
       "      <td>5.73</td>\n",
       "    </tr>\n",
       "  </tbody>\n",
       "</table>\n",
       "</div>"
      ],
      "text/plain": [
       "    durat_pd\n",
       "C           \n",
       "C1      5.35\n",
       "C2      6.19\n",
       "C3      5.73"
      ]
     },
     "execution_count": 66,
     "metadata": {},
     "output_type": "execute_result"
    }
   ],
   "source": [
    "partition = \"C\"\n",
    "columns_1 = [\"durat_pd\", partition]\n",
    "\n",
    "data[columns_1].groupby([partition]).mean().round(2)\n",
    "data[columns_1].groupby([partition]).std().round(2)"
   ]
  },
  {
   "cell_type": "markdown",
   "metadata": {},
   "source": [
    "##### Hypothesis test"
   ]
  },
  {
   "cell_type": "code",
   "execution_count": 67,
   "metadata": {},
   "outputs": [
    {
     "data": {
      "text/plain": [
       "3.7196933738486685e-10"
      ]
     },
     "execution_count": 67,
     "metadata": {},
     "output_type": "execute_result"
    }
   ],
   "source": [
    "from scipy.stats import kruskal\n",
    "\n",
    "cluster_1_data = data.loc[data[\"C\"] == \"C1\", \"durat_pd\"]\n",
    "cluster_2_data = data.loc[data[\"C\"] == \"C2\", \"durat_pd\"]\n",
    "cluster_3_data = data.loc[data[\"C\"] == \"C3\", \"durat_pd\"]\n",
    "\n",
    "kruskal(cluster_1_data, cluster_2_data, cluster_3_data).pvalue"
   ]
  },
  {
   "cell_type": "code",
   "execution_count": 68,
   "metadata": {},
   "outputs": [
    {
     "name": "stdout",
     "output_type": "stream",
     "text": [
      "Multiple Comparison of Means - Tukey HSD, FWER=0.05\n",
      "===================================================\n",
      "group1 group2 meandiff p-adj   lower  upper  reject\n",
      "---------------------------------------------------\n",
      "    C1     C2   3.4177  0.001  1.9017 4.9337   True\n",
      "    C1     C3   4.5725  0.001  2.4765 6.6685   True\n",
      "    C2     C3   1.1548 0.4634 -1.1337 3.4433  False\n",
      "---------------------------------------------------\n"
     ]
    }
   ],
   "source": [
    "from statsmodels.stats.multicomp import pairwise_tukeyhsd\n",
    "\n",
    "print(pairwise_tukeyhsd(endog=data[\"durat_pd\"], groups=data[\"C\"]))"
   ]
  },
  {
   "cell_type": "markdown",
   "metadata": {},
   "source": [
    "#### 3.6 - Sex\n",
    "\n",
    "##### Proportion table\n",
    "\n",
    "Estimate the proportion of males and females in each cluster. The idea is to see if there are big proportional differences. This is not a hypothesis test."
   ]
  },
  {
   "cell_type": "code",
   "execution_count": 69,
   "metadata": {},
   "outputs": [
    {
     "data": {
      "text/plain": [
       "C   sex   \n",
       "C1  male      58.80\n",
       "    female    62.50\n",
       "C2  male      28.80\n",
       "    female    26.32\n",
       "C3  male      12.40\n",
       "    female    11.18\n",
       "Name: sex, dtype: float64"
      ]
     },
     "execution_count": 69,
     "metadata": {},
     "output_type": "execute_result"
    }
   ],
   "source": [
    "import numpy as np\n",
    "\n",
    "partition = \"C\"\n",
    "columns_1 = [\"sex\", partition]\n",
    "\n",
    "total_males = data[\"sex\"].value_counts()[0]\n",
    "total_females = data[\"sex\"].value_counts()[1]\n",
    "total = np.array([total_males, total_females, total_males, total_females, total_males, total_females])\n",
    "\n",
    "(data[columns_1].groupby([partition]).sex.value_counts()/total * 100).round(2)"
   ]
  },
  {
   "cell_type": "markdown",
   "metadata": {},
   "source": [
    "##### Table"
   ]
  },
  {
   "cell_type": "code",
   "execution_count": 70,
   "metadata": {},
   "outputs": [
    {
     "data": {
      "text/plain": [
       "C   sex   \n",
       "C1  male      60.74\n",
       "    female    39.26\n",
       "C2  male      64.29\n",
       "    female    35.71\n",
       "C3  male      64.58\n",
       "    female    35.42\n",
       "Name: sex, dtype: float64"
      ]
     },
     "execution_count": 70,
     "metadata": {},
     "output_type": "execute_result"
    }
   ],
   "source": [
    "import numpy as np\n",
    "\n",
    "partition = \"C\"\n",
    "columns_1 = [\"sex\", partition]\n",
    "\n",
    "cluster_1_total = data[columns_1].groupby([partition]).count().iloc[0,0]\n",
    "cluster_2_total = data[columns_1].groupby([partition]).count().iloc[1,0]\n",
    "cluster_3_total = data[columns_1].groupby([partition]).count().iloc[2,0]\n",
    "total = np.array([cluster_1_total, cluster_1_total, cluster_2_total, cluster_2_total, cluster_3_total, cluster_3_total])\n",
    "\n",
    "# Percentage\n",
    "(data[columns_1].groupby([partition]).sex.value_counts()/total * 100).round(2) \n",
    "# Counts\n",
    "#data[columns_1].groupby([partition]).sex.value_counts()"
   ]
  },
  {
   "cell_type": "markdown",
   "metadata": {},
   "source": [
    "##### Hypothesis test\n",
    "https://stats.stackexchange.com/questions/110718/chi-squared-test-with-scipy-whats-the-difference-between-chi2-contingency-and"
   ]
  },
  {
   "cell_type": "code",
   "execution_count": 71,
   "metadata": {},
   "outputs": [
    {
     "data": {
      "text/plain": [
       "0.7628567059418774"
      ]
     },
     "execution_count": 71,
     "metadata": {},
     "output_type": "execute_result"
    }
   ],
   "source": [
    "from scipy.stats import chi2_contingency \n",
    "\n",
    "cluster_1_data = data.loc[data[\"C\"] == \"C1\", \"sex\"].value_counts()\n",
    "cluster_2_data = data.loc[data[\"C\"] == \"C2\", \"sex\"].value_counts()\n",
    "cluster_3_data = data.loc[data[\"C\"] == \"C3\", \"sex\"].value_counts()\n",
    "\n",
    "cluster_1_data_array = [cluster_1_data[0], cluster_1_data[1]]\n",
    "cluster_2_data_array = [cluster_2_data[0], cluster_2_data[1]]\n",
    "cluster_3_data_array = [cluster_3_data[0], cluster_3_data[1]]\n",
    "contingency_table = [cluster_1_data_array, cluster_2_data_array, cluster_3_data_array]\n",
    "\n",
    "tat, p, dof, expected = chi2_contingency(contingency_table)\n",
    "p"
   ]
  },
  {
   "cell_type": "markdown",
   "metadata": {},
   "source": [
    "----\n",
    "## 4 - Clustering D\n",
    "\n",
    "* **Attributes:** mental_fatigue, physical_tiredness"
   ]
  },
  {
   "cell_type": "markdown",
   "metadata": {
    "pycharm": {
     "name": "#%% md\n"
    }
   },
   "source": [
    "#### 4.1 - Prepare data for analysis"
   ]
  },
  {
   "cell_type": "code",
   "execution_count": 72,
   "metadata": {
    "collapsed": false,
    "jupyter": {
     "outputs_hidden": false
    },
    "pycharm": {
     "name": "#%%\n"
    }
   },
   "outputs": [],
   "source": [
    "# First, we make this variable categorical so Pandas can order its states in the plot. Then we rename its categories accordingly (and reorder them if necessary)\n",
    "data[\"D\"] = data[\"D\"].astype(\"category\")\n",
    "data[\"D\"] = data[\"D\"].cat.rename_categories({\"0\":\"C2\", \"1\": \"C1\"})\n",
    "data[\"D\"] = data[\"D\"].cat.reorder_categories(['C1', 'C2'])"
   ]
  },
  {
   "cell_type": "markdown",
   "metadata": {},
   "source": [
    "#### 4.2 - Hoehn Yahr"
   ]
  },
  {
   "cell_type": "markdown",
   "metadata": {},
   "source": [
    "##### Plot"
   ]
  },
  {
   "cell_type": "code",
   "execution_count": 73,
   "metadata": {
    "collapsed": false,
    "jupyter": {
     "outputs_hidden": false
    },
    "pycharm": {
     "name": "#%%\n"
    }
   },
   "outputs": [
    {
     "data": {
      "image/png": "[encoded data removed]",
      "text/plain": [
       "<Figure size 360x288 with 1 Axes>"
      ]
     },
     "metadata": {
      "needs_background": "light"
     },
     "output_type": "display_data"
    }
   ],
   "source": [
    "import matplotlib.pyplot as plt\n",
    "import seaborn as sns\n",
    "\n",
    "sex_colors = [\"#00A6D6\", \"#FF69B4\"]\n",
    "\n",
    "fig, axs = plt.subplots(ncols=1, nrows=1, figsize=(5, 4))\n",
    "\n",
    "sns.boxplot(x=\"D\", y=\"hy\", data=data, showmeans=True, meanprops={\"marker\":\"o\",\n",
    "                       \"markerfacecolor\":\"white\", \n",
    "                       \"markeredgecolor\":\"black\",\n",
    "                      \"markersize\":\"8\"})\n",
    "axs.set_ylabel('HY', fontsize=12)\n",
    "axs.set_xlabel(\"cluster\", fontsize=12)\n",
    "\n",
    "plt.savefig(\"figures/hy_D.pdf\", format=\"pdf\", bbox_inches='tight')"
   ]
  },
  {
   "cell_type": "code",
   "execution_count": 74,
   "metadata": {},
   "outputs": [
    {
     "data": {
      "image/png": "[encoded data removed]",
      "text/plain": [
       "<Figure size 720x288 with 2 Axes>"
      ]
     },
     "metadata": {
      "needs_background": "light"
     },
     "output_type": "display_data"
    }
   ],
   "source": [
    "import matplotlib.pyplot as plt\n",
    "import seaborn as sns\n",
    "\n",
    "fig, axs = plt.subplots(ncols=2, nrows=1, figsize=(10, 4))\n",
    "\n",
    "sns.countplot(data.loc[data[\"D\"] == \"C1\", \"hy\"], ax = axs[0], order=[1,2,3,4,5])\n",
    "axs[0].set_xlabel(\"Cluster 1\", fontsize=12)\n",
    "axs[0].set_ylabel(\"HY count\", fontsize=12)\n",
    "\n",
    "sns.countplot(data.loc[data[\"D\"] == \"C2\", \"hy\"], ax = axs[1], order=[1,2,3,4,5])\n",
    "axs[1].set_xlabel(\"Cluster 2\", fontsize=12)\n",
    "axs[1].set_ylabel(\"HY count\", fontsize=12)\n",
    "\n",
    "plt.savefig(\"figures/hy_dists_D.pdf\", format=\"pdf\", bbox_inches='tight')"
   ]
  },
  {
   "cell_type": "markdown",
   "metadata": {},
   "source": [
    "##### Table"
   ]
  },
  {
   "cell_type": "code",
   "execution_count": 75,
   "metadata": {
    "collapsed": false,
    "jupyter": {
     "outputs_hidden": false
    },
    "pycharm": {
     "name": "#%%\n"
    }
   },
   "outputs": [
    {
     "data": {
      "text/html": [
       "<div>\n",
       "<style scoped>\n",
       "    .dataframe tbody tr th:only-of-type {\n",
       "        vertical-align: middle;\n",
       "    }\n",
       "\n",
       "    .dataframe tbody tr th {\n",
       "        vertical-align: top;\n",
       "    }\n",
       "\n",
       "    .dataframe thead th {\n",
       "        text-align: right;\n",
       "    }\n",
       "</style>\n",
       "<table border=\"1\" class=\"dataframe\">\n",
       "  <thead>\n",
       "    <tr style=\"text-align: right;\">\n",
       "      <th></th>\n",
       "      <th>hy</th>\n",
       "    </tr>\n",
       "    <tr>\n",
       "      <th>D</th>\n",
       "      <th></th>\n",
       "    </tr>\n",
       "  </thead>\n",
       "  <tbody>\n",
       "    <tr>\n",
       "      <th>C1</th>\n",
       "      <td>0.74</td>\n",
       "    </tr>\n",
       "    <tr>\n",
       "      <th>C2</th>\n",
       "      <td>0.72</td>\n",
       "    </tr>\n",
       "  </tbody>\n",
       "</table>\n",
       "</div>"
      ],
      "text/plain": [
       "      hy\n",
       "D       \n",
       "C1  0.74\n",
       "C2  0.72"
      ]
     },
     "execution_count": 75,
     "metadata": {},
     "output_type": "execute_result"
    }
   ],
   "source": [
    "partition = \"D\"\n",
    "columns_1 = [\"hy\", partition]\n",
    "\n",
    "data[columns_1].groupby([partition]).mean().round(2)\n",
    "data[columns_1].groupby([partition]).std().round(2)"
   ]
  },
  {
   "cell_type": "markdown",
   "metadata": {},
   "source": [
    "##### Hypothesis test (continuous)"
   ]
  },
  {
   "cell_type": "code",
   "execution_count": 76,
   "metadata": {
    "collapsed": false,
    "jupyter": {
     "outputs_hidden": false
    },
    "pycharm": {
     "name": "#%%\n"
    }
   },
   "outputs": [
    {
     "data": {
      "text/plain": [
       "0.0009361311751810131"
      ]
     },
     "execution_count": 76,
     "metadata": {},
     "output_type": "execute_result"
    }
   ],
   "source": [
    "from scipy.stats import mannwhitneyu as mw\n",
    "\n",
    "cluster_1_data = data.loc[data[\"D\"] == \"C1\", \"hy\"]\n",
    "cluster_2_data = data.loc[data[\"D\"] == \"C2\", \"hy\"]\n",
    "\n",
    "mw(cluster_1_data, cluster_2_data).pvalue"
   ]
  },
  {
   "cell_type": "markdown",
   "metadata": {},
   "source": [
    "##### Hypothesis test (discrete)"
   ]
  },
  {
   "cell_type": "code",
   "execution_count": 77,
   "metadata": {},
   "outputs": [
    {
     "data": {
      "text/plain": [
       "0.0609705810278397"
      ]
     },
     "execution_count": 77,
     "metadata": {},
     "output_type": "execute_result"
    }
   ],
   "source": [
    "from scipy.stats import chi2_contingency \n",
    "\n",
    "cluster_1_data = data.loc[data[\"D\"] == \"C1\", \"hy\"].value_counts()\n",
    "cluster_2_data = data.loc[data[\"D\"] == \"C2\", \"hy\"].value_counts()\n",
    "\n",
    "# Given that in this dataset there are no HY values of 5, we consider only 4\n",
    "cluster_1_data_array = [cluster_1_data.iloc[0], cluster_1_data.iloc[1], cluster_1_data.iloc[2], cluster_1_data.iloc[3]]\n",
    "cluster_2_data_array = [cluster_2_data.iloc[0], cluster_2_data.iloc[1], cluster_2_data.iloc[2], cluster_2_data.iloc[3]]\n",
    "\n",
    "contingency_table = [cluster_1_data_array, cluster_2_data_array]\n",
    "\n",
    "tat, p, dof, expected = chi2_contingency(contingency_table)\n",
    "p"
   ]
  },
  {
   "cell_type": "markdown",
   "metadata": {},
   "source": [
    "#### 4.3 - Age"
   ]
  },
  {
   "cell_type": "markdown",
   "metadata": {},
   "source": [
    "##### Plot"
   ]
  },
  {
   "cell_type": "code",
   "execution_count": 78,
   "metadata": {},
   "outputs": [
    {
     "data": {
      "image/png": "[encoded data removed]",
      "text/plain": [
       "<Figure size 360x288 with 1 Axes>"
      ]
     },
     "metadata": {
      "needs_background": "light"
     },
     "output_type": "display_data"
    }
   ],
   "source": [
    "import matplotlib.pyplot as plt\n",
    "import seaborn as sns\n",
    "\n",
    "sex_colors = [\"#00A6D6\", \"#FF69B4\"]\n",
    "\n",
    "fig, axs = plt.subplots(ncols=1, nrows=1, figsize=(5, 4))\n",
    "\n",
    "sns.boxplot(x=\"D\", y=\"age\", data=data, showmeans=True, meanprops={\"marker\":\"o\",\n",
    "                       \"markerfacecolor\":\"white\", \n",
    "                       \"markeredgecolor\":\"black\",\n",
    "                      \"markersize\":\"8\"})\n",
    "axs.set_ylabel('Age', fontsize=12)\n",
    "axs.set_xlabel(\"cluster\", fontsize=12)\n",
    "\n",
    "plt.savefig(\"figures/age_D.pdf\", format=\"pdf\", bbox_inches='tight')"
   ]
  },
  {
   "cell_type": "markdown",
   "metadata": {},
   "source": [
    "##### Table"
   ]
  },
  {
   "cell_type": "code",
   "execution_count": 79,
   "metadata": {},
   "outputs": [
    {
     "data": {
      "text/html": [
       "<div>\n",
       "<style scoped>\n",
       "    .dataframe tbody tr th:only-of-type {\n",
       "        vertical-align: middle;\n",
       "    }\n",
       "\n",
       "    .dataframe tbody tr th {\n",
       "        vertical-align: top;\n",
       "    }\n",
       "\n",
       "    .dataframe thead th {\n",
       "        text-align: right;\n",
       "    }\n",
       "</style>\n",
       "<table border=\"1\" class=\"dataframe\">\n",
       "  <thead>\n",
       "    <tr style=\"text-align: right;\">\n",
       "      <th></th>\n",
       "      <th>age</th>\n",
       "    </tr>\n",
       "    <tr>\n",
       "      <th>D</th>\n",
       "      <th></th>\n",
       "    </tr>\n",
       "  </thead>\n",
       "  <tbody>\n",
       "    <tr>\n",
       "      <th>C1</th>\n",
       "      <td>10.21</td>\n",
       "    </tr>\n",
       "    <tr>\n",
       "      <th>C2</th>\n",
       "      <td>9.27</td>\n",
       "    </tr>\n",
       "  </tbody>\n",
       "</table>\n",
       "</div>"
      ],
      "text/plain": [
       "      age\n",
       "D        \n",
       "C1  10.21\n",
       "C2   9.27"
      ]
     },
     "execution_count": 79,
     "metadata": {},
     "output_type": "execute_result"
    }
   ],
   "source": [
    "partition = \"D\"\n",
    "columns_1 = [\"age\", partition]\n",
    "\n",
    "data[columns_1].groupby([partition]).mean().round(2)\n",
    "data[columns_1].groupby([partition]).std().round(2)"
   ]
  },
  {
   "cell_type": "markdown",
   "metadata": {},
   "source": [
    "##### Hypothesis test"
   ]
  },
  {
   "cell_type": "code",
   "execution_count": 80,
   "metadata": {},
   "outputs": [
    {
     "data": {
      "text/plain": [
       "0.013954139662032242"
      ]
     },
     "execution_count": 80,
     "metadata": {},
     "output_type": "execute_result"
    }
   ],
   "source": [
    "from scipy.stats import mannwhitneyu as mw\n",
    "\n",
    "cluster_1_data = data.loc[data[\"D\"] == \"C1\", \"age\"]\n",
    "cluster_2_data = data.loc[data[\"D\"] == \"C2\", \"age\"]\n",
    "\n",
    "mw(cluster_1_data, cluster_2_data).pvalue"
   ]
  },
  {
   "cell_type": "markdown",
   "metadata": {},
   "source": [
    "#### 4.4 - PD onset"
   ]
  },
  {
   "cell_type": "markdown",
   "metadata": {},
   "source": [
    "##### Plot"
   ]
  },
  {
   "cell_type": "code",
   "execution_count": 81,
   "metadata": {},
   "outputs": [
    {
     "data": {
      "image/png": "[encoded data removed]",
      "text/plain": [
       "<Figure size 360x288 with 1 Axes>"
      ]
     },
     "metadata": {
      "needs_background": "light"
     },
     "output_type": "display_data"
    }
   ],
   "source": [
    "import matplotlib.pyplot as plt\n",
    "import seaborn as sns\n",
    "\n",
    "sex_colors = [\"#00A6D6\", \"#FF69B4\"]\n",
    "\n",
    "fig, axs = plt.subplots(ncols=1, nrows=1, figsize=(5, 4))\n",
    "\n",
    "sns.boxplot(x=\"D\", y=\"pdonset\", data=data, showmeans=True, meanprops={\"marker\":\"o\",\n",
    "                       \"markerfacecolor\":\"white\", \n",
    "                       \"markeredgecolor\":\"black\",\n",
    "                      \"markersize\":\"8\"})\n",
    "axs.set_ylabel('PD onset', fontsize=12)\n",
    "axs.set_xlabel(\"cluster\", fontsize=12)\n",
    "\n",
    "plt.savefig(\"figures/pdonset_D.pdf\", format=\"pdf\", bbox_inches='tight')"
   ]
  },
  {
   "cell_type": "markdown",
   "metadata": {},
   "source": [
    "##### Table"
   ]
  },
  {
   "cell_type": "code",
   "execution_count": 82,
   "metadata": {},
   "outputs": [
    {
     "data": {
      "text/html": [
       "<div>\n",
       "<style scoped>\n",
       "    .dataframe tbody tr th:only-of-type {\n",
       "        vertical-align: middle;\n",
       "    }\n",
       "\n",
       "    .dataframe tbody tr th {\n",
       "        vertical-align: top;\n",
       "    }\n",
       "\n",
       "    .dataframe thead th {\n",
       "        text-align: right;\n",
       "    }\n",
       "</style>\n",
       "<table border=\"1\" class=\"dataframe\">\n",
       "  <thead>\n",
       "    <tr style=\"text-align: right;\">\n",
       "      <th></th>\n",
       "      <th>pdonset</th>\n",
       "    </tr>\n",
       "    <tr>\n",
       "      <th>D</th>\n",
       "      <th></th>\n",
       "    </tr>\n",
       "  </thead>\n",
       "  <tbody>\n",
       "    <tr>\n",
       "      <th>C1</th>\n",
       "      <td>10.92</td>\n",
       "    </tr>\n",
       "    <tr>\n",
       "      <th>C2</th>\n",
       "      <td>9.66</td>\n",
       "    </tr>\n",
       "  </tbody>\n",
       "</table>\n",
       "</div>"
      ],
      "text/plain": [
       "    pdonset\n",
       "D          \n",
       "C1    10.92\n",
       "C2     9.66"
      ]
     },
     "execution_count": 82,
     "metadata": {},
     "output_type": "execute_result"
    }
   ],
   "source": [
    "partition = \"D\"\n",
    "columns_1 = [\"pdonset\", partition]\n",
    "\n",
    "data[columns_1].groupby([partition]).mean().round(2)\n",
    "data[columns_1].groupby([partition]).std().round(2)"
   ]
  },
  {
   "cell_type": "markdown",
   "metadata": {},
   "source": [
    "##### Hypothesis test"
   ]
  },
  {
   "cell_type": "code",
   "execution_count": 83,
   "metadata": {},
   "outputs": [
    {
     "data": {
      "text/plain": [
       "0.00033118614647478404"
      ]
     },
     "execution_count": 83,
     "metadata": {},
     "output_type": "execute_result"
    }
   ],
   "source": [
    "from scipy.stats import mannwhitneyu as mw\n",
    "\n",
    "cluster_1_data = data.loc[data[\"D\"] == \"C1\", \"pdonset\"]\n",
    "cluster_2_data = data.loc[data[\"D\"] == \"C2\", \"pdonset\"]\n",
    "\n",
    "mw(cluster_1_data, cluster_2_data).pvalue"
   ]
  },
  {
   "cell_type": "markdown",
   "metadata": {},
   "source": [
    "#### 4.5 - PD duration"
   ]
  },
  {
   "cell_type": "markdown",
   "metadata": {},
   "source": [
    "##### Plot"
   ]
  },
  {
   "cell_type": "code",
   "execution_count": 84,
   "metadata": {},
   "outputs": [
    {
     "data": {
      "image/png": "[encoded data removed]",
      "text/plain": [
       "<Figure size 360x288 with 1 Axes>"
      ]
     },
     "metadata": {
      "needs_background": "light"
     },
     "output_type": "display_data"
    }
   ],
   "source": [
    "import matplotlib.pyplot as plt\n",
    "import seaborn as sns\n",
    "\n",
    "sex_colors = [\"#00A6D6\", \"#FF69B4\"]\n",
    "\n",
    "fig, axs = plt.subplots(ncols=1, nrows=1, figsize=(5, 4))\n",
    "\n",
    "sns.boxplot(x=\"D\", y=\"durat_pd\", data=data, showmeans=True, meanprops={\"marker\":\"o\",\n",
    "                       \"markerfacecolor\":\"white\", \n",
    "                       \"markeredgecolor\":\"black\",\n",
    "                      \"markersize\":\"8\"})\n",
    "axs.set_ylabel('PD duration', fontsize=12)\n",
    "axs.set_xlabel(\"cluster\", fontsize=12)\n",
    "\n",
    "plt.savefig(\"figures/durat_pd_D.pdf\", format=\"pdf\", bbox_inches='tight')"
   ]
  },
  {
   "cell_type": "markdown",
   "metadata": {},
   "source": [
    "##### Table"
   ]
  },
  {
   "cell_type": "code",
   "execution_count": 85,
   "metadata": {},
   "outputs": [
    {
     "data": {
      "text/html": [
       "<div>\n",
       "<style scoped>\n",
       "    .dataframe tbody tr th:only-of-type {\n",
       "        vertical-align: middle;\n",
       "    }\n",
       "\n",
       "    .dataframe tbody tr th {\n",
       "        vertical-align: top;\n",
       "    }\n",
       "\n",
       "    .dataframe thead th {\n",
       "        text-align: right;\n",
       "    }\n",
       "</style>\n",
       "<table border=\"1\" class=\"dataframe\">\n",
       "  <thead>\n",
       "    <tr style=\"text-align: right;\">\n",
       "      <th></th>\n",
       "      <th>durat_pd</th>\n",
       "    </tr>\n",
       "    <tr>\n",
       "      <th>D</th>\n",
       "      <th></th>\n",
       "    </tr>\n",
       "  </thead>\n",
       "  <tbody>\n",
       "    <tr>\n",
       "      <th>C1</th>\n",
       "      <td>5.65</td>\n",
       "    </tr>\n",
       "    <tr>\n",
       "      <th>C2</th>\n",
       "      <td>6.36</td>\n",
       "    </tr>\n",
       "  </tbody>\n",
       "</table>\n",
       "</div>"
      ],
      "text/plain": [
       "    durat_pd\n",
       "D           \n",
       "C1      5.65\n",
       "C2      6.36"
      ]
     },
     "execution_count": 85,
     "metadata": {},
     "output_type": "execute_result"
    }
   ],
   "source": [
    "partition = \"D\"\n",
    "columns_1 = [\"durat_pd\", partition]\n",
    "\n",
    "data[columns_1].groupby([partition]).mean().round(2)\n",
    "data[columns_1].groupby([partition]).std().round(2)"
   ]
  },
  {
   "cell_type": "markdown",
   "metadata": {},
   "source": [
    "##### Hypothesis test"
   ]
  },
  {
   "cell_type": "code",
   "execution_count": 86,
   "metadata": {},
   "outputs": [
    {
     "data": {
      "text/plain": [
       "0.007678960831583254"
      ]
     },
     "execution_count": 86,
     "metadata": {},
     "output_type": "execute_result"
    }
   ],
   "source": [
    "from scipy.stats import mannwhitneyu as mw\n",
    "\n",
    "cluster_1_data = data.loc[data[\"D\"] == \"C1\", \"durat_pd\"]\n",
    "cluster_2_data = data.loc[data[\"D\"] == \"C2\", \"durat_pd\"]\n",
    "\n",
    "mw(cluster_1_data, cluster_2_data).pvalue"
   ]
  },
  {
   "cell_type": "markdown",
   "metadata": {},
   "source": [
    "#### 4.6 - Sex\n",
    "\n",
    "##### Proportion table\n",
    "\n",
    "Estimate the proportion of males and females in each cluster. The idea is to see if there are big proportional differences. This is not a hypothesis test."
   ]
  },
  {
   "cell_type": "code",
   "execution_count": 87,
   "metadata": {},
   "outputs": [
    {
     "data": {
      "text/plain": [
       "D   sex   \n",
       "C1  male      67.20\n",
       "    female    68.42\n",
       "C2  male      32.80\n",
       "    female    31.58\n",
       "Name: sex, dtype: float64"
      ]
     },
     "execution_count": 87,
     "metadata": {},
     "output_type": "execute_result"
    }
   ],
   "source": [
    "import numpy as np\n",
    "\n",
    "partition = \"D\"\n",
    "columns_1 = [\"sex\", partition]\n",
    "\n",
    "total_males = data[\"sex\"].value_counts()[0]\n",
    "total_females = data[\"sex\"].value_counts()[1]\n",
    "total = np.array([total_males, total_females, total_males, total_females])\n",
    "\n",
    "(data[columns_1].groupby([partition]).sex.value_counts()/total * 100).round(2)"
   ]
  },
  {
   "cell_type": "markdown",
   "metadata": {},
   "source": [
    "##### Table"
   ]
  },
  {
   "cell_type": "code",
   "execution_count": 88,
   "metadata": {},
   "outputs": [
    {
     "data": {
      "text/plain": [
       "D   sex   \n",
       "C1  male      61.76\n",
       "    female    38.24\n",
       "C2  male      63.08\n",
       "    female    36.92\n",
       "Name: sex, dtype: float64"
      ]
     },
     "execution_count": 88,
     "metadata": {},
     "output_type": "execute_result"
    }
   ],
   "source": [
    "import numpy as np\n",
    "\n",
    "partition = \"D\"\n",
    "columns_1 = [\"sex\", partition]\n",
    "\n",
    "cluster_1_total = data[columns_1].groupby([partition]).count().iloc[0,0]\n",
    "cluster_2_total = data[columns_1].groupby([partition]).count().iloc[1,0]\n",
    "total = np.array([cluster_1_total, cluster_1_total, cluster_2_total, cluster_2_total])\n",
    "\n",
    "# Percentage\n",
    "(data[columns_1].groupby([partition]).sex.value_counts()/total * 100).round(2) \n",
    "# Counts\n",
    "#data[columns_1].groupby([partition]).sex.value_counts()"
   ]
  },
  {
   "cell_type": "markdown",
   "metadata": {},
   "source": [
    "##### Hypothesis test\n",
    "https://stats.stackexchange.com/questions/110718/chi-squared-test-with-scipy-whats-the-difference-between-chi2-contingency-and"
   ]
  },
  {
   "cell_type": "code",
   "execution_count": 89,
   "metadata": {},
   "outputs": [
    {
     "data": {
      "text/plain": [
       "0.8856160465609243"
      ]
     },
     "execution_count": 89,
     "metadata": {},
     "output_type": "execute_result"
    }
   ],
   "source": [
    "from scipy.stats import chi2_contingency \n",
    "\n",
    "cluster_1_data = data.loc[data[\"D\"] == \"C1\", \"sex\"].value_counts()\n",
    "cluster_2_data = data.loc[data[\"D\"] == \"C2\", \"sex\"].value_counts()\n",
    "\n",
    "cluster_1_data_array = [cluster_1_data[0], cluster_1_data[1]]\n",
    "cluster_2_data_array = [cluster_2_data[0], cluster_2_data[1]]\n",
    "contingency_table = [cluster_1_data_array, cluster_2_data_array]\n",
    "\n",
    "tat, p, dof, expected = chi2_contingency(contingency_table)\n",
    "p"
   ]
  },
  {
   "cell_type": "markdown",
   "metadata": {},
   "source": [
    "----\n",
    "\n",
    "## 5 - Clustering E\n",
    "\n",
    "* **Attributes:** fluctuations, smell, axial_no_pigd, bradykinesia"
   ]
  },
  {
   "cell_type": "markdown",
   "metadata": {
    "pycharm": {
     "name": "#%% md\n"
    }
   },
   "source": [
    "#### 5.1 - Prepare data for analysis"
   ]
  },
  {
   "cell_type": "code",
   "execution_count": 90,
   "metadata": {
    "collapsed": false,
    "jupyter": {
     "outputs_hidden": false
    },
    "pycharm": {
     "name": "#%%\n"
    }
   },
   "outputs": [],
   "source": [
    "# First, we make this variable categorical so Pandas can order its states in the plot. Then we rename its categories accordingly (and reorder them if necessary)\n",
    "data[\"E\"] = data[\"E\"].astype(\"category\")\n",
    "data[\"E\"] = data[\"E\"].cat.rename_categories({\"0\":\"C2\", \"1\": \"C1\"})\n",
    "data[\"E\"] = data[\"E\"].cat.reorder_categories(['C1', 'C2'])"
   ]
  },
  {
   "cell_type": "markdown",
   "metadata": {},
   "source": [
    "#### 5.2 - Hoehn Yahr"
   ]
  },
  {
   "cell_type": "markdown",
   "metadata": {},
   "source": [
    "##### Plot"
   ]
  },
  {
   "cell_type": "code",
   "execution_count": 91,
   "metadata": {
    "collapsed": false,
    "jupyter": {
     "outputs_hidden": false
    },
    "pycharm": {
     "name": "#%%\n"
    }
   },
   "outputs": [
    {
     "data": {
      "image/png": "[encoded data removed]",
      "text/plain": [
       "<Figure size 360x288 with 1 Axes>"
      ]
     },
     "metadata": {
      "needs_background": "light"
     },
     "output_type": "display_data"
    }
   ],
   "source": [
    "import matplotlib.pyplot as plt\n",
    "import seaborn as sns\n",
    "\n",
    "sex_colors = [\"#00A6D6\", \"#FF69B4\"]\n",
    "\n",
    "fig, axs = plt.subplots(ncols=1, nrows=1, figsize=(5, 4))\n",
    "\n",
    "sns.boxplot(x=\"E\", y=\"hy\", data=data, showmeans=True, meanprops={\"marker\":\"o\",\n",
    "                       \"markerfacecolor\":\"white\", \n",
    "                       \"markeredgecolor\":\"black\",\n",
    "                      \"markersize\":\"8\"})\n",
    "axs.set_ylabel('HY', fontsize=12)\n",
    "axs.set_xlabel(\"cluster\", fontsize=12)\n",
    "\n",
    "plt.savefig(\"figures/hy_E.pdf\", format=\"pdf\", bbox_inches='tight')"
   ]
  },
  {
   "cell_type": "code",
   "execution_count": 92,
   "metadata": {},
   "outputs": [
    {
     "data": {
      "image/png": "[encoded data removed]",
      "text/plain": [
       "<Figure size 720x288 with 2 Axes>"
      ]
     },
     "metadata": {
      "needs_background": "light"
     },
     "output_type": "display_data"
    }
   ],
   "source": [
    "import matplotlib.pyplot as plt\n",
    "import seaborn as sns\n",
    "\n",
    "fig, axs = plt.subplots(ncols=2, nrows=1, figsize=(10, 4))\n",
    "\n",
    "sns.countplot(data.loc[data[\"E\"] == \"C1\", \"hy\"], ax = axs[0], order=[1,2,3,4,5])\n",
    "axs[0].set_xlabel(\"Cluster 1\", fontsize=12)\n",
    "axs[0].set_ylabel(\"HY count\", fontsize=12)\n",
    "\n",
    "sns.countplot(data.loc[data[\"E\"] == \"C2\", \"hy\"], ax = axs[1], order=[1,2,3,4,5])\n",
    "axs[1].set_xlabel(\"Cluster 2\", fontsize=12)\n",
    "axs[1].set_ylabel(\"HY count\", fontsize=12)\n",
    "\n",
    "plt.savefig(\"figures/hy_dists_E.pdf\", format=\"pdf\", bbox_inches='tight')"
   ]
  },
  {
   "cell_type": "markdown",
   "metadata": {},
   "source": [
    "##### Table"
   ]
  },
  {
   "cell_type": "code",
   "execution_count": 93,
   "metadata": {
    "collapsed": false,
    "jupyter": {
     "outputs_hidden": false
    },
    "pycharm": {
     "name": "#%%\n"
    }
   },
   "outputs": [
    {
     "data": {
      "text/html": [
       "<div>\n",
       "<style scoped>\n",
       "    .dataframe tbody tr th:only-of-type {\n",
       "        vertical-align: middle;\n",
       "    }\n",
       "\n",
       "    .dataframe tbody tr th {\n",
       "        vertical-align: top;\n",
       "    }\n",
       "\n",
       "    .dataframe thead th {\n",
       "        text-align: right;\n",
       "    }\n",
       "</style>\n",
       "<table border=\"1\" class=\"dataframe\">\n",
       "  <thead>\n",
       "    <tr style=\"text-align: right;\">\n",
       "      <th></th>\n",
       "      <th>hy</th>\n",
       "    </tr>\n",
       "    <tr>\n",
       "      <th>E</th>\n",
       "      <th></th>\n",
       "    </tr>\n",
       "  </thead>\n",
       "  <tbody>\n",
       "    <tr>\n",
       "      <th>C1</th>\n",
       "      <td>0.74</td>\n",
       "    </tr>\n",
       "    <tr>\n",
       "      <th>C2</th>\n",
       "      <td>0.72</td>\n",
       "    </tr>\n",
       "  </tbody>\n",
       "</table>\n",
       "</div>"
      ],
      "text/plain": [
       "      hy\n",
       "E       \n",
       "C1  0.74\n",
       "C2  0.72"
      ]
     },
     "execution_count": 93,
     "metadata": {},
     "output_type": "execute_result"
    }
   ],
   "source": [
    "partition = \"E\"\n",
    "columns_1 = [\"hy\", partition]\n",
    "\n",
    "data[columns_1].groupby([partition]).mean().round(2)\n",
    "data[columns_1].groupby([partition]).std().round(2)"
   ]
  },
  {
   "cell_type": "markdown",
   "metadata": {},
   "source": [
    "##### Hypothesis test (continuous)"
   ]
  },
  {
   "cell_type": "code",
   "execution_count": 94,
   "metadata": {
    "collapsed": false,
    "jupyter": {
     "outputs_hidden": false
    },
    "pycharm": {
     "name": "#%%\n"
    }
   },
   "outputs": [
    {
     "data": {
      "text/plain": [
       "0.0006496447371257652"
      ]
     },
     "execution_count": 94,
     "metadata": {},
     "output_type": "execute_result"
    }
   ],
   "source": [
    "from scipy.stats import mannwhitneyu as mw\n",
    "\n",
    "cluster_1_data = data.loc[data[\"E\"] == \"C1\", \"hy\"]\n",
    "cluster_2_data = data.loc[data[\"E\"] == \"C2\", \"hy\"]\n",
    "\n",
    "mw(cluster_1_data, cluster_2_data).pvalue"
   ]
  },
  {
   "cell_type": "markdown",
   "metadata": {},
   "source": [
    "##### Hypothesis test (discrete)"
   ]
  },
  {
   "cell_type": "code",
   "execution_count": 95,
   "metadata": {},
   "outputs": [
    {
     "data": {
      "text/plain": [
       "0.004615025031847256"
      ]
     },
     "execution_count": 95,
     "metadata": {},
     "output_type": "execute_result"
    }
   ],
   "source": [
    "from scipy.stats import chi2_contingency \n",
    "\n",
    "cluster_1_data = data.loc[data[\"E\"] == \"C1\", \"hy\"].value_counts()\n",
    "cluster_2_data = data.loc[data[\"E\"] == \"C2\", \"hy\"].value_counts()\n",
    "\n",
    "# Given that in this dataset there are no HY values of 5, we consider only 4\n",
    "cluster_1_data_array = [cluster_1_data.iloc[0], cluster_1_data.iloc[1], cluster_1_data.iloc[2], cluster_1_data.iloc[3]]\n",
    "cluster_2_data_array = [cluster_2_data.iloc[0], cluster_2_data.iloc[1], cluster_2_data.iloc[2], cluster_2_data.iloc[3]]\n",
    "\n",
    "contingency_table = [cluster_1_data_array, cluster_2_data_array]\n",
    "\n",
    "tat, p, dof, expected = chi2_contingency(contingency_table)\n",
    "p"
   ]
  },
  {
   "cell_type": "markdown",
   "metadata": {},
   "source": [
    "#### 5.3 - Age"
   ]
  },
  {
   "cell_type": "markdown",
   "metadata": {},
   "source": [
    "##### Plot"
   ]
  },
  {
   "cell_type": "code",
   "execution_count": 96,
   "metadata": {},
   "outputs": [
    {
     "data": {
      "image/png": "[encoded data removed]",
      "text/plain": [
       "<Figure size 360x288 with 1 Axes>"
      ]
     },
     "metadata": {
      "needs_background": "light"
     },
     "output_type": "display_data"
    }
   ],
   "source": [
    "import matplotlib.pyplot as plt\n",
    "import seaborn as sns\n",
    "\n",
    "sex_colors = [\"#00A6D6\", \"#FF69B4\"]\n",
    "\n",
    "fig, axs = plt.subplots(ncols=1, nrows=1, figsize=(5, 4))\n",
    "\n",
    "sns.boxplot(x=\"E\", y=\"age\", data=data, showmeans=True, meanprops={\"marker\":\"o\",\n",
    "                       \"markerfacecolor\":\"white\", \n",
    "                       \"markeredgecolor\":\"black\",\n",
    "                      \"markersize\":\"8\"})\n",
    "axs.set_ylabel('Age', fontsize=12)\n",
    "axs.set_xlabel(\"cluster\", fontsize=12)\n",
    "\n",
    "plt.savefig(\"figures/age_E.pdf\", format=\"pdf\", bbox_inches='tight')"
   ]
  },
  {
   "cell_type": "markdown",
   "metadata": {},
   "source": [
    "##### Table"
   ]
  },
  {
   "cell_type": "code",
   "execution_count": 97,
   "metadata": {},
   "outputs": [
    {
     "data": {
      "text/html": [
       "<div>\n",
       "<style scoped>\n",
       "    .dataframe tbody tr th:only-of-type {\n",
       "        vertical-align: middle;\n",
       "    }\n",
       "\n",
       "    .dataframe tbody tr th {\n",
       "        vertical-align: top;\n",
       "    }\n",
       "\n",
       "    .dataframe thead th {\n",
       "        text-align: right;\n",
       "    }\n",
       "</style>\n",
       "<table border=\"1\" class=\"dataframe\">\n",
       "  <thead>\n",
       "    <tr style=\"text-align: right;\">\n",
       "      <th></th>\n",
       "      <th>age</th>\n",
       "    </tr>\n",
       "    <tr>\n",
       "      <th>E</th>\n",
       "      <th></th>\n",
       "    </tr>\n",
       "  </thead>\n",
       "  <tbody>\n",
       "    <tr>\n",
       "      <th>C1</th>\n",
       "      <td>9.75</td>\n",
       "    </tr>\n",
       "    <tr>\n",
       "      <th>C2</th>\n",
       "      <td>10.05</td>\n",
       "    </tr>\n",
       "  </tbody>\n",
       "</table>\n",
       "</div>"
      ],
      "text/plain": [
       "      age\n",
       "E        \n",
       "C1   9.75\n",
       "C2  10.05"
      ]
     },
     "execution_count": 97,
     "metadata": {},
     "output_type": "execute_result"
    }
   ],
   "source": [
    "partition = \"E\"\n",
    "columns_1 = [\"age\", partition]\n",
    "\n",
    "data[columns_1].groupby([partition]).mean().round(2)\n",
    "data[columns_1].groupby([partition]).std().round(2)"
   ]
  },
  {
   "cell_type": "markdown",
   "metadata": {},
   "source": [
    "##### Hypothesis test"
   ]
  },
  {
   "cell_type": "code",
   "execution_count": 98,
   "metadata": {},
   "outputs": [
    {
     "data": {
      "text/plain": [
       "0.006664389275025448"
      ]
     },
     "execution_count": 98,
     "metadata": {},
     "output_type": "execute_result"
    }
   ],
   "source": [
    "from scipy.stats import mannwhitneyu as mw\n",
    "\n",
    "cluster_1_data = data.loc[data[\"E\"] == \"C1\", \"age\"]\n",
    "cluster_2_data = data.loc[data[\"E\"] == \"C2\", \"age\"]\n",
    "\n",
    "mw(cluster_1_data, cluster_2_data).pvalue"
   ]
  },
  {
   "cell_type": "markdown",
   "metadata": {},
   "source": [
    "#### 5.4 - PD onset"
   ]
  },
  {
   "cell_type": "markdown",
   "metadata": {},
   "source": [
    "##### Plot"
   ]
  },
  {
   "cell_type": "code",
   "execution_count": 99,
   "metadata": {},
   "outputs": [
    {
     "data": {
      "image/png": "[encoded data removed]",
      "text/plain": [
       "<Figure size 360x288 with 1 Axes>"
      ]
     },
     "metadata": {
      "needs_background": "light"
     },
     "output_type": "display_data"
    }
   ],
   "source": [
    "import matplotlib.pyplot as plt\n",
    "import seaborn as sns\n",
    "\n",
    "sex_colors = [\"#00A6D6\", \"#FF69B4\"]\n",
    "\n",
    "fig, axs = plt.subplots(ncols=1, nrows=1, figsize=(5, 4))\n",
    "\n",
    "sns.boxplot(x=\"E\", y=\"pdonset\", data=data, showmeans=True, meanprops={\"marker\":\"o\",\n",
    "                       \"markerfacecolor\":\"white\", \n",
    "                       \"markeredgecolor\":\"black\",\n",
    "                      \"markersize\":\"8\"})\n",
    "axs.set_ylabel('PD onset', fontsize=12)\n",
    "axs.set_xlabel(\"cluster\", fontsize=12)\n",
    "\n",
    "plt.savefig(\"figures/pdonset_E.pdf\", format=\"pdf\", bbox_inches='tight')"
   ]
  },
  {
   "cell_type": "markdown",
   "metadata": {},
   "source": [
    "##### Table"
   ]
  },
  {
   "cell_type": "code",
   "execution_count": 100,
   "metadata": {},
   "outputs": [
    {
     "data": {
      "text/html": [
       "<div>\n",
       "<style scoped>\n",
       "    .dataframe tbody tr th:only-of-type {\n",
       "        vertical-align: middle;\n",
       "    }\n",
       "\n",
       "    .dataframe tbody tr th {\n",
       "        vertical-align: top;\n",
       "    }\n",
       "\n",
       "    .dataframe thead th {\n",
       "        text-align: right;\n",
       "    }\n",
       "</style>\n",
       "<table border=\"1\" class=\"dataframe\">\n",
       "  <thead>\n",
       "    <tr style=\"text-align: right;\">\n",
       "      <th></th>\n",
       "      <th>pdonset</th>\n",
       "    </tr>\n",
       "    <tr>\n",
       "      <th>E</th>\n",
       "      <th></th>\n",
       "    </tr>\n",
       "  </thead>\n",
       "  <tbody>\n",
       "    <tr>\n",
       "      <th>C1</th>\n",
       "      <td>10.26</td>\n",
       "    </tr>\n",
       "    <tr>\n",
       "      <th>C2</th>\n",
       "      <td>10.26</td>\n",
       "    </tr>\n",
       "  </tbody>\n",
       "</table>\n",
       "</div>"
      ],
      "text/plain": [
       "    pdonset\n",
       "E          \n",
       "C1    10.26\n",
       "C2    10.26"
      ]
     },
     "execution_count": 100,
     "metadata": {},
     "output_type": "execute_result"
    }
   ],
   "source": [
    "partition = \"E\"\n",
    "columns_1 = [\"pdonset\", partition]\n",
    "\n",
    "data[columns_1].groupby([partition]).mean().round(2)\n",
    "data[columns_1].groupby([partition]).std().round(2)"
   ]
  },
  {
   "cell_type": "markdown",
   "metadata": {},
   "source": [
    "##### Hypothesis test"
   ]
  },
  {
   "cell_type": "code",
   "execution_count": 101,
   "metadata": {},
   "outputs": [
    {
     "data": {
      "text/plain": [
       "8.970386616526388e-09"
      ]
     },
     "execution_count": 101,
     "metadata": {},
     "output_type": "execute_result"
    }
   ],
   "source": [
    "from scipy.stats import mannwhitneyu as mw\n",
    "\n",
    "cluster_1_data = data.loc[data[\"E\"] == \"C1\", \"pdonset\"]\n",
    "cluster_2_data = data.loc[data[\"E\"] == \"C2\", \"pdonset\"]\n",
    "\n",
    "mw(cluster_1_data, cluster_2_data).pvalue"
   ]
  },
  {
   "cell_type": "markdown",
   "metadata": {},
   "source": [
    "#### 5.5 - PD duration"
   ]
  },
  {
   "cell_type": "markdown",
   "metadata": {},
   "source": [
    "##### Plot"
   ]
  },
  {
   "cell_type": "code",
   "execution_count": 102,
   "metadata": {},
   "outputs": [
    {
     "data": {
      "image/png": "[encoded data removed]",
      "text/plain": [
       "<Figure size 360x288 with 1 Axes>"
      ]
     },
     "metadata": {
      "needs_background": "light"
     },
     "output_type": "display_data"
    }
   ],
   "source": [
    "import matplotlib.pyplot as plt\n",
    "import seaborn as sns\n",
    "\n",
    "sex_colors = [\"#00A6D6\", \"#FF69B4\"]\n",
    "\n",
    "fig, axs = plt.subplots(ncols=1, nrows=1, figsize=(5, 4))\n",
    "\n",
    "sns.boxplot(x=\"E\", y=\"durat_pd\", data=data, showmeans=True, meanprops={\"marker\":\"o\",\n",
    "                       \"markerfacecolor\":\"white\", \n",
    "                       \"markeredgecolor\":\"black\",\n",
    "                      \"markersize\":\"8\"})\n",
    "axs.set_ylabel('PD duration', fontsize=12)\n",
    "axs.set_xlabel(\"cluster\", fontsize=12)\n",
    "\n",
    "plt.savefig(\"figures/durat_pd_E.pdf\", format=\"pdf\", bbox_inches='tight')"
   ]
  },
  {
   "cell_type": "markdown",
   "metadata": {},
   "source": [
    "##### Table"
   ]
  },
  {
   "cell_type": "code",
   "execution_count": 103,
   "metadata": {},
   "outputs": [
    {
     "data": {
      "text/html": [
       "<div>\n",
       "<style scoped>\n",
       "    .dataframe tbody tr th:only-of-type {\n",
       "        vertical-align: middle;\n",
       "    }\n",
       "\n",
       "    .dataframe tbody tr th {\n",
       "        vertical-align: top;\n",
       "    }\n",
       "\n",
       "    .dataframe thead th {\n",
       "        text-align: right;\n",
       "    }\n",
       "</style>\n",
       "<table border=\"1\" class=\"dataframe\">\n",
       "  <thead>\n",
       "    <tr style=\"text-align: right;\">\n",
       "      <th></th>\n",
       "      <th>durat_pd</th>\n",
       "    </tr>\n",
       "    <tr>\n",
       "      <th>E</th>\n",
       "      <th></th>\n",
       "    </tr>\n",
       "  </thead>\n",
       "  <tbody>\n",
       "    <tr>\n",
       "      <th>C1</th>\n",
       "      <td>5.18</td>\n",
       "    </tr>\n",
       "    <tr>\n",
       "      <th>C2</th>\n",
       "      <td>6.08</td>\n",
       "    </tr>\n",
       "  </tbody>\n",
       "</table>\n",
       "</div>"
      ],
      "text/plain": [
       "    durat_pd\n",
       "E           \n",
       "C1      5.18\n",
       "C2      6.08"
      ]
     },
     "execution_count": 103,
     "metadata": {},
     "output_type": "execute_result"
    }
   ],
   "source": [
    "partition = \"E\"\n",
    "columns_1 = [\"durat_pd\", partition]\n",
    "\n",
    "data[columns_1].groupby([partition]).mean().round(2)\n",
    "data[columns_1].groupby([partition]).std().round(2)"
   ]
  },
  {
   "cell_type": "markdown",
   "metadata": {},
   "source": [
    "##### Hypothesis test"
   ]
  },
  {
   "cell_type": "code",
   "execution_count": 104,
   "metadata": {},
   "outputs": [
    {
     "data": {
      "text/plain": [
       "3.414042691767772e-11"
      ]
     },
     "execution_count": 104,
     "metadata": {},
     "output_type": "execute_result"
    }
   ],
   "source": [
    "from scipy.stats import mannwhitneyu as mw\n",
    "\n",
    "cluster_1_data = data.loc[data[\"E\"] == \"C1\", \"durat_pd\"]\n",
    "cluster_2_data = data.loc[data[\"E\"] == \"C2\", \"durat_pd\"]\n",
    "\n",
    "mw(cluster_1_data, cluster_2_data).pvalue"
   ]
  },
  {
   "cell_type": "markdown",
   "metadata": {},
   "source": [
    "#### 5.6 - Sex\n",
    "\n",
    "##### Proportion table\n",
    "\n",
    "Estimate the proportion of males and females in each cluster. The idea is to see if there are big proportional differences. This is not a hypothesis test."
   ]
  },
  {
   "cell_type": "code",
   "execution_count": 105,
   "metadata": {},
   "outputs": [
    {
     "data": {
      "text/plain": [
       "E   sex   \n",
       "C1  male      50.40\n",
       "    female    48.03\n",
       "C2  male      49.60\n",
       "    female    51.97\n",
       "Name: sex, dtype: float64"
      ]
     },
     "execution_count": 105,
     "metadata": {},
     "output_type": "execute_result"
    }
   ],
   "source": [
    "import numpy as np\n",
    "\n",
    "partition = \"E\"\n",
    "columns_1 = [\"sex\", partition]\n",
    "\n",
    "total_males = data[\"sex\"].value_counts()[0]\n",
    "total_females = data[\"sex\"].value_counts()[1]\n",
    "total = np.array([total_males, total_females, total_males, total_females])\n",
    "\n",
    "(data[columns_1].groupby([partition]).sex.value_counts()/total * 100).round(2)"
   ]
  },
  {
   "cell_type": "markdown",
   "metadata": {},
   "source": [
    "##### Table"
   ]
  },
  {
   "cell_type": "code",
   "execution_count": 106,
   "metadata": {},
   "outputs": [
    {
     "data": {
      "text/plain": [
       "E   sex   \n",
       "C1  male      63.32\n",
       "    female    36.68\n",
       "C2  male      61.08\n",
       "    female    38.92\n",
       "Name: sex, dtype: float64"
      ]
     },
     "execution_count": 106,
     "metadata": {},
     "output_type": "execute_result"
    }
   ],
   "source": [
    "import numpy as np\n",
    "\n",
    "partition = \"E\"\n",
    "columns_1 = [\"sex\", partition]\n",
    "\n",
    "cluster_1_total = data[columns_1].groupby([partition]).count().iloc[0,0]\n",
    "cluster_2_total = data[columns_1].groupby([partition]).count().iloc[1,0]\n",
    "total = np.array([cluster_1_total, cluster_1_total, cluster_2_total, cluster_2_total])\n",
    "\n",
    "# Percentage\n",
    "(data[columns_1].groupby([partition]).sex.value_counts()/total * 100).round(2) \n",
    "# Counts\n",
    "#data[columns_1].groupby([partition]).sex.value_counts()"
   ]
  },
  {
   "cell_type": "markdown",
   "metadata": {},
   "source": [
    "##### Hypothesis test\n",
    "\n",
    "https://stats.stackexchange.com/questions/110718/chi-squared-test-with-scipy-whats-the-difference-between-chi2-contingency-and"
   ]
  },
  {
   "cell_type": "code",
   "execution_count": 107,
   "metadata": {},
   "outputs": [
    {
     "data": {
      "text/plain": [
       "0.719798942589975"
      ]
     },
     "execution_count": 107,
     "metadata": {},
     "output_type": "execute_result"
    }
   ],
   "source": [
    "from scipy.stats import chi2_contingency \n",
    "\n",
    "cluster_1_data = data.loc[data[\"E\"] == \"C1\", \"sex\"].value_counts()\n",
    "cluster_2_data = data.loc[data[\"E\"] == \"C2\", \"sex\"].value_counts()\n",
    "\n",
    "cluster_1_data_array = [cluster_1_data[0], cluster_1_data[1]]\n",
    "cluster_2_data_array = [cluster_2_data[0], cluster_2_data[1]]\n",
    "contingency_table = [cluster_1_data_array, cluster_2_data_array]\n",
    "\n",
    "tat, p, dof, expected = chi2_contingency(contingency_table)\n",
    "p"
   ]
  },
  {
   "cell_type": "markdown",
   "metadata": {},
   "source": [
    "----\n",
    "\n",
    "## 6 - Clustering F\n",
    "\n",
    "* **Attributes:** hypotension, sexual"
   ]
  },
  {
   "cell_type": "markdown",
   "metadata": {
    "pycharm": {
     "name": "#%% md\n"
    }
   },
   "source": [
    "#### 6.1 - Prepare data for analysis"
   ]
  },
  {
   "cell_type": "code",
   "execution_count": 108,
   "metadata": {
    "collapsed": false,
    "jupyter": {
     "outputs_hidden": false
    },
    "pycharm": {
     "name": "#%%\n"
    }
   },
   "outputs": [],
   "source": [
    "# First, we make this variable categorical so Pandas can order its states in the plot. Then we rename its categories accordingly (and reorder them if necessary)\n",
    "data[\"F\"] = data[\"F\"].astype(\"category\")\n",
    "data[\"F\"] = data[\"F\"].cat.rename_categories({\"0\":\"C2\", \"1\": \"C1\"})\n",
    "data[\"F\"] = data[\"F\"].cat.reorder_categories(['C1', 'C2'])"
   ]
  },
  {
   "cell_type": "markdown",
   "metadata": {},
   "source": [
    "#### 6.2 - Hoehn Yahr"
   ]
  },
  {
   "cell_type": "code",
   "execution_count": 109,
   "metadata": {
    "collapsed": false,
    "jupyter": {
     "outputs_hidden": false
    },
    "pycharm": {
     "name": "#%%\n"
    }
   },
   "outputs": [
    {
     "data": {
      "image/png": "[encoded data removed]",
      "text/plain": [
       "<Figure size 360x288 with 1 Axes>"
      ]
     },
     "metadata": {
      "needs_background": "light"
     },
     "output_type": "display_data"
    }
   ],
   "source": [
    "import matplotlib.pyplot as plt\n",
    "import seaborn as sns\n",
    "\n",
    "sex_colors = [\"#00A6D6\", \"#FF69B4\"]\n",
    "\n",
    "fig, axs = plt.subplots(ncols=1, nrows=1, figsize=(5, 4))\n",
    "\n",
    "sns.boxplot(x=\"F\", y=\"hy\", data=data, showmeans=True, meanprops={\"marker\":\"o\",\n",
    "                       \"markerfacecolor\":\"white\", \n",
    "                       \"markeredgecolor\":\"black\",\n",
    "                      \"markersize\":\"8\"})\n",
    "axs.set_ylabel('HY', fontsize=12)\n",
    "axs.set_xlabel(\"cluster\", fontsize=12)\n",
    "\n",
    "plt.savefig(\"figures/hy_F.pdf\", format=\"pdf\", bbox_inches='tight')"
   ]
  },
  {
   "cell_type": "code",
   "execution_count": 110,
   "metadata": {},
   "outputs": [
    {
     "data": {
      "image/png": "[encoded data removed]",
      "text/plain": [
       "<Figure size 720x288 with 2 Axes>"
      ]
     },
     "metadata": {
      "needs_background": "light"
     },
     "output_type": "display_data"
    }
   ],
   "source": [
    "import matplotlib.pyplot as plt\n",
    "import seaborn as sns\n",
    "\n",
    "fig, axs = plt.subplots(ncols=2, nrows=1, figsize=(10, 4))\n",
    "\n",
    "sns.countplot(data.loc[data[\"F\"] == \"C1\", \"hy\"], ax = axs[0], order=[1,2,3,4,5])\n",
    "axs[0].set_xlabel(\"Cluster 1\", fontsize=12)\n",
    "axs[0].set_ylabel(\"HY count\", fontsize=12)\n",
    "\n",
    "sns.countplot(data.loc[data[\"F\"] == \"C2\", \"hy\"], ax = axs[1], order=[1,2,3,4,5])\n",
    "axs[1].set_xlabel(\"Cluster 2\", fontsize=12)\n",
    "axs[1].set_ylabel(\"HY count\", fontsize=12)\n",
    "\n",
    "plt.savefig(\"figures/hy_dists_F.pdf\", format=\"pdf\", bbox_inches='tight')"
   ]
  },
  {
   "cell_type": "markdown",
   "metadata": {},
   "source": [
    "##### Table"
   ]
  },
  {
   "cell_type": "code",
   "execution_count": 111,
   "metadata": {
    "collapsed": false,
    "jupyter": {
     "outputs_hidden": false
    },
    "pycharm": {
     "name": "#%%\n"
    }
   },
   "outputs": [
    {
     "data": {
      "text/html": [
       "<div>\n",
       "<style scoped>\n",
       "    .dataframe tbody tr th:only-of-type {\n",
       "        vertical-align: middle;\n",
       "    }\n",
       "\n",
       "    .dataframe tbody tr th {\n",
       "        vertical-align: top;\n",
       "    }\n",
       "\n",
       "    .dataframe thead th {\n",
       "        text-align: right;\n",
       "    }\n",
       "</style>\n",
       "<table border=\"1\" class=\"dataframe\">\n",
       "  <thead>\n",
       "    <tr style=\"text-align: right;\">\n",
       "      <th></th>\n",
       "      <th>hy</th>\n",
       "    </tr>\n",
       "    <tr>\n",
       "      <th>F</th>\n",
       "      <th></th>\n",
       "    </tr>\n",
       "  </thead>\n",
       "  <tbody>\n",
       "    <tr>\n",
       "      <th>C1</th>\n",
       "      <td>0.75</td>\n",
       "    </tr>\n",
       "    <tr>\n",
       "      <th>C2</th>\n",
       "      <td>0.69</td>\n",
       "    </tr>\n",
       "  </tbody>\n",
       "</table>\n",
       "</div>"
      ],
      "text/plain": [
       "      hy\n",
       "F       \n",
       "C1  0.75\n",
       "C2  0.69"
      ]
     },
     "execution_count": 111,
     "metadata": {},
     "output_type": "execute_result"
    }
   ],
   "source": [
    "partition = \"F\"\n",
    "columns_1 = [\"hy\", partition]\n",
    "\n",
    "data[columns_1].groupby([partition]).mean().round(2)\n",
    "data[columns_1].groupby([partition]).std().round(2)"
   ]
  },
  {
   "cell_type": "markdown",
   "metadata": {},
   "source": [
    "##### Hypothesis test (continuous)"
   ]
  },
  {
   "cell_type": "code",
   "execution_count": 112,
   "metadata": {
    "collapsed": false,
    "jupyter": {
     "outputs_hidden": false
    },
    "pycharm": {
     "name": "#%%\n"
    }
   },
   "outputs": [
    {
     "data": {
      "text/plain": [
       "2.685258542887098e-05"
      ]
     },
     "execution_count": 112,
     "metadata": {},
     "output_type": "execute_result"
    }
   ],
   "source": [
    "from scipy.stats import mannwhitneyu as mw\n",
    "\n",
    "cluster_1_data = data.loc[data[\"F\"] == \"C1\", \"hy\"]\n",
    "cluster_2_data = data.loc[data[\"F\"] == \"C2\", \"hy\"]\n",
    "\n",
    "mw(cluster_1_data, cluster_2_data).pvalue"
   ]
  },
  {
   "cell_type": "markdown",
   "metadata": {},
   "source": [
    "##### Hypothesis test (discrete)"
   ]
  },
  {
   "cell_type": "code",
   "execution_count": 113,
   "metadata": {},
   "outputs": [
    {
     "data": {
      "text/plain": [
       "0.0016599900433275343"
      ]
     },
     "execution_count": 113,
     "metadata": {},
     "output_type": "execute_result"
    }
   ],
   "source": [
    "from scipy.stats import chi2_contingency \n",
    "\n",
    "cluster_1_data = data.loc[data[\"F\"] == \"C1\", \"hy\"].value_counts()\n",
    "cluster_2_data = data.loc[data[\"F\"] == \"C2\", \"hy\"].value_counts()\n",
    "\n",
    "# Given that in this dataset there are no HY values of 5, we consider only 4\n",
    "cluster_1_data_array = [cluster_1_data.iloc[0], cluster_1_data.iloc[1], cluster_1_data.iloc[2], cluster_1_data.iloc[3]]\n",
    "cluster_2_data_array = [cluster_2_data.iloc[0], cluster_2_data.iloc[1], cluster_2_data.iloc[2], cluster_2_data.iloc[3]]\n",
    "\n",
    "contingency_table = [cluster_1_data_array, cluster_2_data_array]\n",
    "\n",
    "tat, p, dof, expected = chi2_contingency(contingency_table)\n",
    "p"
   ]
  },
  {
   "cell_type": "markdown",
   "metadata": {},
   "source": [
    "#### 6.3 - Age"
   ]
  },
  {
   "cell_type": "markdown",
   "metadata": {},
   "source": [
    "##### Plot"
   ]
  },
  {
   "cell_type": "code",
   "execution_count": 114,
   "metadata": {},
   "outputs": [
    {
     "data": {
      "image/png": "[encoded data removed]",
      "text/plain": [
       "<Figure size 360x288 with 1 Axes>"
      ]
     },
     "metadata": {
      "needs_background": "light"
     },
     "output_type": "display_data"
    }
   ],
   "source": [
    "import matplotlib.pyplot as plt\n",
    "import seaborn as sns\n",
    "\n",
    "sex_colors = [\"#00A6D6\", \"#FF69B4\"]\n",
    "\n",
    "fig, axs = plt.subplots(ncols=1, nrows=1, figsize=(5, 4))\n",
    "\n",
    "sns.boxplot(x=\"F\", y=\"age\", data=data, showmeans=True, meanprops={\"marker\":\"o\",\n",
    "                       \"markerfacecolor\":\"white\", \n",
    "                       \"markeredgecolor\":\"black\",\n",
    "                      \"markersize\":\"8\"})\n",
    "axs.set_ylabel('Age', fontsize=12)\n",
    "axs.set_xlabel(\"cluster\", fontsize=12)\n",
    "\n",
    "plt.savefig(\"figures/age_F.pdf\", format=\"pdf\", bbox_inches='tight')"
   ]
  },
  {
   "cell_type": "markdown",
   "metadata": {},
   "source": [
    "##### Table"
   ]
  },
  {
   "cell_type": "code",
   "execution_count": 115,
   "metadata": {},
   "outputs": [
    {
     "data": {
      "text/html": [
       "<div>\n",
       "<style scoped>\n",
       "    .dataframe tbody tr th:only-of-type {\n",
       "        vertical-align: middle;\n",
       "    }\n",
       "\n",
       "    .dataframe tbody tr th {\n",
       "        vertical-align: top;\n",
       "    }\n",
       "\n",
       "    .dataframe thead th {\n",
       "        text-align: right;\n",
       "    }\n",
       "</style>\n",
       "<table border=\"1\" class=\"dataframe\">\n",
       "  <thead>\n",
       "    <tr style=\"text-align: right;\">\n",
       "      <th></th>\n",
       "      <th>age</th>\n",
       "    </tr>\n",
       "    <tr>\n",
       "      <th>F</th>\n",
       "      <th></th>\n",
       "    </tr>\n",
       "  </thead>\n",
       "  <tbody>\n",
       "    <tr>\n",
       "      <th>C1</th>\n",
       "      <td>10.49</td>\n",
       "    </tr>\n",
       "    <tr>\n",
       "      <th>C2</th>\n",
       "      <td>9.26</td>\n",
       "    </tr>\n",
       "  </tbody>\n",
       "</table>\n",
       "</div>"
      ],
      "text/plain": [
       "      age\n",
       "F        \n",
       "C1  10.49\n",
       "C2   9.26"
      ]
     },
     "execution_count": 115,
     "metadata": {},
     "output_type": "execute_result"
    }
   ],
   "source": [
    "partition = \"F\"\n",
    "columns_1 = [\"age\", partition]\n",
    "\n",
    "data[columns_1].groupby([partition]).mean().round(2)\n",
    "data[columns_1].groupby([partition]).std().round(2)"
   ]
  },
  {
   "cell_type": "markdown",
   "metadata": {},
   "source": [
    "##### Hypothesis test"
   ]
  },
  {
   "cell_type": "code",
   "execution_count": 116,
   "metadata": {},
   "outputs": [
    {
     "data": {
      "text/plain": [
       "0.055834386821742195"
      ]
     },
     "execution_count": 116,
     "metadata": {},
     "output_type": "execute_result"
    }
   ],
   "source": [
    "from scipy.stats import mannwhitneyu as mw\n",
    "\n",
    "cluster_1_data = data.loc[data[\"F\"] == \"C1\", \"age\"]\n",
    "cluster_2_data = data.loc[data[\"F\"] == \"C2\", \"age\"]\n",
    "\n",
    "mw(cluster_1_data, cluster_2_data).pvalue"
   ]
  },
  {
   "cell_type": "markdown",
   "metadata": {},
   "source": [
    "#### 6.4 - PD onset"
   ]
  },
  {
   "cell_type": "markdown",
   "metadata": {},
   "source": [
    "##### Plot"
   ]
  },
  {
   "cell_type": "code",
   "execution_count": 117,
   "metadata": {},
   "outputs": [
    {
     "data": {
      "image/png": "[encoded data removed]",
      "text/plain": [
       "<Figure size 360x288 with 1 Axes>"
      ]
     },
     "metadata": {
      "needs_background": "light"
     },
     "output_type": "display_data"
    }
   ],
   "source": [
    "import matplotlib.pyplot as plt\n",
    "import seaborn as sns\n",
    "\n",
    "sex_colors = [\"#00A6D6\", \"#FF69B4\"]\n",
    "\n",
    "fig, axs = plt.subplots(ncols=1, nrows=1, figsize=(5, 4))\n",
    "\n",
    "sns.boxplot(x=\"F\", y=\"pdonset\", data=data, showmeans=True, meanprops={\"marker\":\"o\",\n",
    "                       \"markerfacecolor\":\"white\", \n",
    "                       \"markeredgecolor\":\"black\",\n",
    "                      \"markersize\":\"8\"})\n",
    "axs.set_ylabel('PD onset', fontsize=12)\n",
    "axs.set_xlabel(\"cluster\", fontsize=12)\n",
    "\n",
    "plt.savefig(\"figures/pdonset_F.pdf\", format=\"pdf\", bbox_inches='tight')"
   ]
  },
  {
   "cell_type": "markdown",
   "metadata": {},
   "source": [
    "##### Table"
   ]
  },
  {
   "cell_type": "code",
   "execution_count": 118,
   "metadata": {},
   "outputs": [
    {
     "data": {
      "text/html": [
       "<div>\n",
       "<style scoped>\n",
       "    .dataframe tbody tr th:only-of-type {\n",
       "        vertical-align: middle;\n",
       "    }\n",
       "\n",
       "    .dataframe tbody tr th {\n",
       "        vertical-align: top;\n",
       "    }\n",
       "\n",
       "    .dataframe thead th {\n",
       "        text-align: right;\n",
       "    }\n",
       "</style>\n",
       "<table border=\"1\" class=\"dataframe\">\n",
       "  <thead>\n",
       "    <tr style=\"text-align: right;\">\n",
       "      <th></th>\n",
       "      <th>pdonset</th>\n",
       "    </tr>\n",
       "    <tr>\n",
       "      <th>F</th>\n",
       "      <th></th>\n",
       "    </tr>\n",
       "  </thead>\n",
       "  <tbody>\n",
       "    <tr>\n",
       "      <th>C1</th>\n",
       "      <td>11.04</td>\n",
       "    </tr>\n",
       "    <tr>\n",
       "      <th>C2</th>\n",
       "      <td>10.27</td>\n",
       "    </tr>\n",
       "  </tbody>\n",
       "</table>\n",
       "</div>"
      ],
      "text/plain": [
       "    pdonset\n",
       "F          \n",
       "C1    11.04\n",
       "C2    10.27"
      ]
     },
     "execution_count": 118,
     "metadata": {},
     "output_type": "execute_result"
    }
   ],
   "source": [
    "partition = \"F\"\n",
    "columns_1 = [\"pdonset\", partition]\n",
    "\n",
    "data[columns_1].groupby([partition]).mean().round(2)\n",
    "data[columns_1].groupby([partition]).std().round(2)"
   ]
  },
  {
   "cell_type": "markdown",
   "metadata": {},
   "source": [
    "##### Hypothesis test"
   ]
  },
  {
   "cell_type": "code",
   "execution_count": 119,
   "metadata": {},
   "outputs": [
    {
     "data": {
      "text/plain": [
       "0.3936460089674513"
      ]
     },
     "execution_count": 119,
     "metadata": {},
     "output_type": "execute_result"
    }
   ],
   "source": [
    "from scipy.stats import mannwhitneyu as mw\n",
    "\n",
    "cluster_1_data = data.loc[data[\"F\"] == \"C1\", \"pdonset\"]\n",
    "cluster_2_data = data.loc[data[\"F\"] == \"C2\", \"pdonset\"]\n",
    "\n",
    "mw(cluster_1_data, cluster_2_data).pvalue"
   ]
  },
  {
   "cell_type": "markdown",
   "metadata": {},
   "source": [
    "#### 6.5 - PD duration"
   ]
  },
  {
   "cell_type": "markdown",
   "metadata": {},
   "source": [
    "##### Plot"
   ]
  },
  {
   "cell_type": "code",
   "execution_count": 120,
   "metadata": {},
   "outputs": [
    {
     "data": {
      "image/png": "[encoded data removed]",
      "text/plain": [
       "<Figure size 360x288 with 1 Axes>"
      ]
     },
     "metadata": {
      "needs_background": "light"
     },
     "output_type": "display_data"
    }
   ],
   "source": [
    "import matplotlib.pyplot as plt\n",
    "import seaborn as sns\n",
    "\n",
    "sex_colors = [\"#00A6D6\", \"#FF69B4\"]\n",
    "\n",
    "fig, axs = plt.subplots(ncols=1, nrows=1, figsize=(5, 4))\n",
    "\n",
    "sns.boxplot(x=\"F\", y=\"durat_pd\", data=data, showmeans=True, meanprops={\"marker\":\"o\",\n",
    "                       \"markerfacecolor\":\"white\", \n",
    "                       \"markeredgecolor\":\"black\",\n",
    "                      \"markersize\":\"8\"})\n",
    "axs.set_ylabel('PD duration', fontsize=12)\n",
    "axs.set_xlabel(\"cluster\", fontsize=12)\n",
    "\n",
    "plt.savefig(\"figures/durat_pd_F.pdf\", format=\"pdf\", bbox_inches='tight')"
   ]
  },
  {
   "cell_type": "markdown",
   "metadata": {},
   "source": [
    "##### Table"
   ]
  },
  {
   "cell_type": "code",
   "execution_count": 121,
   "metadata": {},
   "outputs": [
    {
     "data": {
      "text/html": [
       "<div>\n",
       "<style scoped>\n",
       "    .dataframe tbody tr th:only-of-type {\n",
       "        vertical-align: middle;\n",
       "    }\n",
       "\n",
       "    .dataframe tbody tr th {\n",
       "        vertical-align: top;\n",
       "    }\n",
       "\n",
       "    .dataframe thead th {\n",
       "        text-align: right;\n",
       "    }\n",
       "</style>\n",
       "<table border=\"1\" class=\"dataframe\">\n",
       "  <thead>\n",
       "    <tr style=\"text-align: right;\">\n",
       "      <th></th>\n",
       "      <th>durat_pd</th>\n",
       "    </tr>\n",
       "    <tr>\n",
       "      <th>F</th>\n",
       "      <th></th>\n",
       "    </tr>\n",
       "  </thead>\n",
       "  <tbody>\n",
       "    <tr>\n",
       "      <th>C1</th>\n",
       "      <td>5.29</td>\n",
       "    </tr>\n",
       "    <tr>\n",
       "      <th>C2</th>\n",
       "      <td>6.46</td>\n",
       "    </tr>\n",
       "  </tbody>\n",
       "</table>\n",
       "</div>"
      ],
      "text/plain": [
       "    durat_pd\n",
       "F           \n",
       "C1      5.29\n",
       "C2      6.46"
      ]
     },
     "execution_count": 121,
     "metadata": {},
     "output_type": "execute_result"
    }
   ],
   "source": [
    "partition = \"F\"\n",
    "columns_1 = [\"durat_pd\", partition]\n",
    "\n",
    "data[columns_1].groupby([partition]).mean().round(2)\n",
    "data[columns_1].groupby([partition]).std().round(2)"
   ]
  },
  {
   "cell_type": "markdown",
   "metadata": {},
   "source": [
    "##### Hypothesis test"
   ]
  },
  {
   "cell_type": "code",
   "execution_count": 122,
   "metadata": {},
   "outputs": [
    {
     "data": {
      "text/plain": [
       "0.0031834268225661385"
      ]
     },
     "execution_count": 122,
     "metadata": {},
     "output_type": "execute_result"
    }
   ],
   "source": [
    "from scipy.stats import mannwhitneyu as mw\n",
    "\n",
    "cluster_1_data = data.loc[data[\"F\"] == \"C1\", \"durat_pd\"]\n",
    "cluster_2_data = data.loc[data[\"F\"] == \"C2\", \"durat_pd\"]\n",
    "\n",
    "mw(cluster_1_data, cluster_2_data).pvalue"
   ]
  },
  {
   "cell_type": "markdown",
   "metadata": {},
   "source": [
    "#### 6.6 - Sex\n",
    "\n",
    "##### Proportion table\n",
    "\n",
    "Estimate the proportion of males and females in each cluster. The idea is to see if there are big proportional differences. This is not a hypothesis test."
   ]
  },
  {
   "cell_type": "code",
   "execution_count": 123,
   "metadata": {},
   "outputs": [
    {
     "data": {
      "text/plain": [
       "F   sex   \n",
       "C1  male      46.80\n",
       "    female    63.82\n",
       "C2  male      53.20\n",
       "    female    36.18\n",
       "Name: sex, dtype: float64"
      ]
     },
     "execution_count": 123,
     "metadata": {},
     "output_type": "execute_result"
    }
   ],
   "source": [
    "import numpy as np\n",
    "\n",
    "partition = \"F\"\n",
    "columns_1 = [\"sex\", partition]\n",
    "\n",
    "total_males = data[\"sex\"].value_counts()[0]\n",
    "total_females = data[\"sex\"].value_counts()[1]\n",
    "total = np.array([total_males, total_females, total_males, total_females])\n",
    "\n",
    "(data[columns_1].groupby([partition]).sex.value_counts()/total * 100).round(2)"
   ]
  },
  {
   "cell_type": "markdown",
   "metadata": {},
   "source": [
    "##### Table"
   ]
  },
  {
   "cell_type": "code",
   "execution_count": 124,
   "metadata": {},
   "outputs": [
    {
     "data": {
      "text/plain": [
       "F   sex   \n",
       "C1  male      54.67\n",
       "    female    45.33\n",
       "C2  male      70.74\n",
       "    female    29.26\n",
       "Name: sex, dtype: float64"
      ]
     },
     "execution_count": 124,
     "metadata": {},
     "output_type": "execute_result"
    }
   ],
   "source": [
    "import numpy as np\n",
    "\n",
    "partition = \"F\"\n",
    "columns_1 = [\"sex\", partition]\n",
    "\n",
    "cluster_1_total = data[columns_1].groupby([partition]).count().iloc[0,0]\n",
    "cluster_2_total = data[columns_1].groupby([partition]).count().iloc[1,0]\n",
    "total = np.array([cluster_1_total, cluster_1_total, cluster_2_total, cluster_2_total])\n",
    "\n",
    "# Percentage\n",
    "(data[columns_1].groupby([partition]).sex.value_counts()/total * 100).round(2) \n",
    "# Counts\n",
    "#data[columns_1].groupby([partition]).sex.value_counts()"
   ]
  },
  {
   "cell_type": "markdown",
   "metadata": {},
   "source": [
    "##### Hypothesis test\n",
    "\n",
    "https://stats.stackexchange.com/questions/110718/chi-squared-test-with-scipy-whats-the-difference-between-chi2-contingency-and"
   ]
  },
  {
   "cell_type": "code",
   "execution_count": 125,
   "metadata": {},
   "outputs": [
    {
     "data": {
      "text/plain": [
       "0.0013153989866391096"
      ]
     },
     "execution_count": 125,
     "metadata": {},
     "output_type": "execute_result"
    }
   ],
   "source": [
    "from scipy.stats import chi2_contingency \n",
    "\n",
    "cluster_1_data = data.loc[data[\"F\"] == \"C1\", \"sex\"].value_counts()\n",
    "cluster_2_data = data.loc[data[\"F\"] == \"C2\", \"sex\"].value_counts()\n",
    "\n",
    "cluster_1_data_array = [cluster_1_data[0], cluster_1_data[1]]\n",
    "cluster_2_data_array = [cluster_2_data[0], cluster_2_data[1]]\n",
    "contingency_table = [cluster_1_data_array, cluster_2_data_array]\n",
    "\n",
    "tat, p, dof, expected = chi2_contingency(contingency_table)\n",
    "p"
   ]
  },
  {
   "cell_type": "markdown",
   "metadata": {},
   "source": [
    "## 7 - Clustering G\n",
    "\n",
    "* **Attributes:** depression, weight_loss"
   ]
  },
  {
   "cell_type": "markdown",
   "metadata": {
    "pycharm": {
     "name": "#%% md\n"
    }
   },
   "source": [
    "#### 7.1 - Prepare data for analysis"
   ]
  },
  {
   "cell_type": "code",
   "execution_count": 126,
   "metadata": {
    "collapsed": false,
    "jupyter": {
     "outputs_hidden": false
    },
    "pycharm": {
     "name": "#%%\n"
    }
   },
   "outputs": [],
   "source": [
    "# First, we make this variable categorical so Pandas can order its states in the plot. Then we rename its categories accordingly (and reorder them if necessary)\n",
    "data[\"G\"] = data[\"G\"].astype(\"category\")\n",
    "data[\"G\"] = data[\"G\"].cat.rename_categories({\"0\":\"C1\", \"1\": \"C2\"})\n",
    "data[\"G\"] = data[\"G\"].cat.reorder_categories(['C1', 'C2'])"
   ]
  },
  {
   "cell_type": "markdown",
   "metadata": {},
   "source": [
    "#### 7.2 - Hoehn Yahr"
   ]
  },
  {
   "cell_type": "code",
   "execution_count": 127,
   "metadata": {
    "collapsed": false,
    "jupyter": {
     "outputs_hidden": false
    },
    "pycharm": {
     "name": "#%%\n"
    }
   },
   "outputs": [
    {
     "data": {
      "image/png": "[encoded data removed]",
      "text/plain": [
       "<Figure size 360x288 with 1 Axes>"
      ]
     },
     "metadata": {
      "needs_background": "light"
     },
     "output_type": "display_data"
    }
   ],
   "source": [
    "import matplotlib.pyplot as plt\n",
    "import seaborn as sns\n",
    "\n",
    "sex_colors = [\"#00A6D6\", \"#FF69B4\"]\n",
    "\n",
    "fig, axs = plt.subplots(ncols=1, nrows=1, figsize=(5, 4))\n",
    "\n",
    "sns.boxplot(x=\"G\", y=\"hy\", data=data)\n",
    "axs.set_ylabel('hy', fontsize=12)\n",
    "axs.set_xlabel(\"cluster\", fontsize=12)\n",
    "\n",
    "plt.savefig(\"figures/hy_G.pdf\", format=\"pdf\", bbox_inches='tight')"
   ]
  },
  {
   "cell_type": "code",
   "execution_count": 128,
   "metadata": {},
   "outputs": [
    {
     "data": {
      "image/png": "[encoded data removed]",
      "text/plain": [
       "<Figure size 720x288 with 2 Axes>"
      ]
     },
     "metadata": {
      "needs_background": "light"
     },
     "output_type": "display_data"
    }
   ],
   "source": [
    "import matplotlib.pyplot as plt\n",
    "import seaborn as sns\n",
    "\n",
    "fig, axs = plt.subplots(ncols=2, nrows=1, figsize=(10, 4))\n",
    "\n",
    "sns.countplot(data.loc[data[\"G\"] == \"C1\", \"hy\"], ax = axs[0], order=[1,2,3,4,5])\n",
    "axs[0].set_xlabel(\"Cluster 1\", fontsize=12)\n",
    "axs[0].set_ylabel(\"HY count\", fontsize=12)\n",
    "\n",
    "sns.countplot(data.loc[data[\"G\"] == \"C2\", \"hy\"], ax = axs[1], order=[1,2,3,4,5])\n",
    "axs[1].set_xlabel(\"Cluster 2\", fontsize=12)\n",
    "axs[1].set_ylabel(\"HY count\", fontsize=12)\n",
    "\n",
    "plt.savefig(\"figures/hy_dists_G.pdf\", format=\"pdf\", bbox_inches='tight')"
   ]
  },
  {
   "cell_type": "markdown",
   "metadata": {},
   "source": [
    "##### Table"
   ]
  },
  {
   "cell_type": "code",
   "execution_count": 129,
   "metadata": {
    "collapsed": false,
    "jupyter": {
     "outputs_hidden": false
    },
    "pycharm": {
     "name": "#%%\n"
    }
   },
   "outputs": [
    {
     "data": {
      "text/html": [
       "<div>\n",
       "<style scoped>\n",
       "    .dataframe tbody tr th:only-of-type {\n",
       "        vertical-align: middle;\n",
       "    }\n",
       "\n",
       "    .dataframe tbody tr th {\n",
       "        vertical-align: top;\n",
       "    }\n",
       "\n",
       "    .dataframe thead th {\n",
       "        text-align: right;\n",
       "    }\n",
       "</style>\n",
       "<table border=\"1\" class=\"dataframe\">\n",
       "  <thead>\n",
       "    <tr style=\"text-align: right;\">\n",
       "      <th></th>\n",
       "      <th>hy</th>\n",
       "    </tr>\n",
       "    <tr>\n",
       "      <th>G</th>\n",
       "      <th></th>\n",
       "    </tr>\n",
       "  </thead>\n",
       "  <tbody>\n",
       "    <tr>\n",
       "      <th>C1</th>\n",
       "      <td>0.74</td>\n",
       "    </tr>\n",
       "    <tr>\n",
       "      <th>C2</th>\n",
       "      <td>0.72</td>\n",
       "    </tr>\n",
       "  </tbody>\n",
       "</table>\n",
       "</div>"
      ],
      "text/plain": [
       "      hy\n",
       "G       \n",
       "C1  0.74\n",
       "C2  0.72"
      ]
     },
     "execution_count": 129,
     "metadata": {},
     "output_type": "execute_result"
    }
   ],
   "source": [
    "partition = \"G\"\n",
    "columns_1 = [\"hy\", partition]\n",
    "\n",
    "data[columns_1].groupby([partition]).mean().round(2)\n",
    "data[columns_1].groupby([partition]).std().round(2)"
   ]
  },
  {
   "cell_type": "markdown",
   "metadata": {},
   "source": [
    "##### Hypothesis test (continuous)"
   ]
  },
  {
   "cell_type": "code",
   "execution_count": 130,
   "metadata": {
    "collapsed": false,
    "jupyter": {
     "outputs_hidden": false
    },
    "pycharm": {
     "name": "#%%\n"
    }
   },
   "outputs": [
    {
     "data": {
      "text/plain": [
       "0.002426401294127859"
      ]
     },
     "execution_count": 130,
     "metadata": {},
     "output_type": "execute_result"
    }
   ],
   "source": [
    "from scipy.stats import mannwhitneyu as mw\n",
    "\n",
    "cluster_1_data = data.loc[data[\"G\"] == \"C1\", \"hy\"]\n",
    "cluster_2_data = data.loc[data[\"G\"] == \"C2\", \"hy\"]\n",
    "\n",
    "mw(cluster_1_data, cluster_2_data).pvalue"
   ]
  },
  {
   "cell_type": "markdown",
   "metadata": {},
   "source": [
    "##### Hypothesis test (discrete)"
   ]
  },
  {
   "cell_type": "code",
   "execution_count": 131,
   "metadata": {},
   "outputs": [
    {
     "data": {
      "text/plain": [
       "0.27479777294557"
      ]
     },
     "execution_count": 131,
     "metadata": {},
     "output_type": "execute_result"
    }
   ],
   "source": [
    "from scipy.stats import chi2_contingency \n",
    "\n",
    "cluster_1_data = data.loc[data[\"G\"] == \"C1\", \"hy\"].value_counts()\n",
    "cluster_2_data = data.loc[data[\"G\"] == \"C2\", \"hy\"].value_counts()\n",
    "\n",
    "# Given that in this dataset there are no HY values of 5, we consider only 4\n",
    "cluster_1_data_array = [cluster_1_data.iloc[0], cluster_1_data.iloc[1], cluster_1_data.iloc[2], cluster_1_data.iloc[3]]\n",
    "cluster_2_data_array = [cluster_2_data.iloc[0], cluster_2_data.iloc[1], cluster_2_data.iloc[2], cluster_2_data.iloc[3]]\n",
    "\n",
    "contingency_table = [cluster_1_data_array, cluster_2_data_array]\n",
    "\n",
    "tat, p, dof, expected = chi2_contingency(contingency_table)\n",
    "p"
   ]
  },
  {
   "cell_type": "markdown",
   "metadata": {},
   "source": [
    "#### 7.3 - Age"
   ]
  },
  {
   "cell_type": "markdown",
   "metadata": {},
   "source": [
    "##### Plot"
   ]
  },
  {
   "cell_type": "code",
   "execution_count": 132,
   "metadata": {},
   "outputs": [
    {
     "data": {
      "image/png": "[encoded data removed]",
      "text/plain": [
       "<Figure size 360x288 with 1 Axes>"
      ]
     },
     "metadata": {
      "needs_background": "light"
     },
     "output_type": "display_data"
    }
   ],
   "source": [
    "import matplotlib.pyplot as plt\n",
    "import seaborn as sns\n",
    "\n",
    "sex_colors = [\"#00A6D6\", \"#FF69B4\"]\n",
    "\n",
    "fig, axs = plt.subplots(ncols=1, nrows=1, figsize=(5, 4))\n",
    "\n",
    "sns.boxplot(x=\"G\", y=\"age\", data=data, showmeans=True, meanprops={\"marker\":\"o\",\n",
    "                       \"markerfacecolor\":\"white\", \n",
    "                       \"markeredgecolor\":\"black\",\n",
    "                      \"markersize\":\"8\"})\n",
    "axs.set_ylabel('Age', fontsize=12)\n",
    "axs.set_xlabel(\"cluster\", fontsize=12)\n",
    "\n",
    "plt.savefig(\"figures/age_G.pdf\", format=\"pdf\", bbox_inches='tight')"
   ]
  },
  {
   "cell_type": "markdown",
   "metadata": {},
   "source": [
    "##### Table"
   ]
  },
  {
   "cell_type": "code",
   "execution_count": 133,
   "metadata": {},
   "outputs": [
    {
     "data": {
      "text/html": [
       "<div>\n",
       "<style scoped>\n",
       "    .dataframe tbody tr th:only-of-type {\n",
       "        vertical-align: middle;\n",
       "    }\n",
       "\n",
       "    .dataframe tbody tr th {\n",
       "        vertical-align: top;\n",
       "    }\n",
       "\n",
       "    .dataframe thead th {\n",
       "        text-align: right;\n",
       "    }\n",
       "</style>\n",
       "<table border=\"1\" class=\"dataframe\">\n",
       "  <thead>\n",
       "    <tr style=\"text-align: right;\">\n",
       "      <th></th>\n",
       "      <th>age</th>\n",
       "    </tr>\n",
       "    <tr>\n",
       "      <th>G</th>\n",
       "      <th></th>\n",
       "    </tr>\n",
       "  </thead>\n",
       "  <tbody>\n",
       "    <tr>\n",
       "      <th>C1</th>\n",
       "      <td>10.16</td>\n",
       "    </tr>\n",
       "    <tr>\n",
       "      <th>C2</th>\n",
       "      <td>9.24</td>\n",
       "    </tr>\n",
       "  </tbody>\n",
       "</table>\n",
       "</div>"
      ],
      "text/plain": [
       "      age\n",
       "G        \n",
       "C1  10.16\n",
       "C2   9.24"
      ]
     },
     "execution_count": 133,
     "metadata": {},
     "output_type": "execute_result"
    }
   ],
   "source": [
    "partition = \"G\"\n",
    "columns_1 = [\"age\", partition]\n",
    "\n",
    "data[columns_1].groupby([partition]).mean().round(2)\n",
    "data[columns_1].groupby([partition]).std().round(2)"
   ]
  },
  {
   "cell_type": "markdown",
   "metadata": {},
   "source": [
    "##### Hypothesis test"
   ]
  },
  {
   "cell_type": "code",
   "execution_count": 134,
   "metadata": {},
   "outputs": [
    {
     "data": {
      "text/plain": [
       "0.4298694845433284"
      ]
     },
     "execution_count": 134,
     "metadata": {},
     "output_type": "execute_result"
    }
   ],
   "source": [
    "from scipy.stats import mannwhitneyu as mw\n",
    "\n",
    "cluster_1_data = data.loc[data[\"G\"] == \"C1\", \"age\"]\n",
    "cluster_2_data = data.loc[data[\"G\"] == \"C2\", \"age\"]\n",
    "\n",
    "mw(cluster_1_data, cluster_2_data).pvalue"
   ]
  },
  {
   "cell_type": "markdown",
   "metadata": {},
   "source": [
    "#### 7.4 - PD onset"
   ]
  },
  {
   "cell_type": "markdown",
   "metadata": {},
   "source": [
    "##### Plot"
   ]
  },
  {
   "cell_type": "code",
   "execution_count": 135,
   "metadata": {},
   "outputs": [
    {
     "data": {
      "image/png": "[encoded data removed]",
      "text/plain": [
       "<Figure size 360x288 with 1 Axes>"
      ]
     },
     "metadata": {
      "needs_background": "light"
     },
     "output_type": "display_data"
    }
   ],
   "source": [
    "import matplotlib.pyplot as plt\n",
    "import seaborn as sns\n",
    "\n",
    "sex_colors = [\"#00A6D6\", \"#FF69B4\"]\n",
    "\n",
    "fig, axs = plt.subplots(ncols=1, nrows=1, figsize=(5, 4))\n",
    "\n",
    "sns.boxplot(x=\"G\", y=\"pdonset\", data=data, showmeans=True, meanprops={\"marker\":\"o\",\n",
    "                       \"markerfacecolor\":\"white\", \n",
    "                       \"markeredgecolor\":\"black\",\n",
    "                      \"markersize\":\"8\"})\n",
    "axs.set_ylabel('PD onset', fontsize=12)\n",
    "axs.set_xlabel(\"cluster\", fontsize=12)\n",
    "\n",
    "plt.savefig(\"figures/pdonset_G.pdf\", format=\"pdf\", bbox_inches='tight')"
   ]
  },
  {
   "cell_type": "markdown",
   "metadata": {},
   "source": [
    "##### Table"
   ]
  },
  {
   "cell_type": "code",
   "execution_count": 136,
   "metadata": {},
   "outputs": [
    {
     "data": {
      "text/html": [
       "<div>\n",
       "<style scoped>\n",
       "    .dataframe tbody tr th:only-of-type {\n",
       "        vertical-align: middle;\n",
       "    }\n",
       "\n",
       "    .dataframe tbody tr th {\n",
       "        vertical-align: top;\n",
       "    }\n",
       "\n",
       "    .dataframe thead th {\n",
       "        text-align: right;\n",
       "    }\n",
       "</style>\n",
       "<table border=\"1\" class=\"dataframe\">\n",
       "  <thead>\n",
       "    <tr style=\"text-align: right;\">\n",
       "      <th></th>\n",
       "      <th>pdonset</th>\n",
       "    </tr>\n",
       "    <tr>\n",
       "      <th>G</th>\n",
       "      <th></th>\n",
       "    </tr>\n",
       "  </thead>\n",
       "  <tbody>\n",
       "    <tr>\n",
       "      <th>C1</th>\n",
       "      <td>10.86</td>\n",
       "    </tr>\n",
       "    <tr>\n",
       "      <th>C2</th>\n",
       "      <td>10.02</td>\n",
       "    </tr>\n",
       "  </tbody>\n",
       "</table>\n",
       "</div>"
      ],
      "text/plain": [
       "    pdonset\n",
       "G          \n",
       "C1    10.86\n",
       "C2    10.02"
      ]
     },
     "execution_count": 136,
     "metadata": {},
     "output_type": "execute_result"
    }
   ],
   "source": [
    "partition = \"G\"\n",
    "columns_1 = [\"pdonset\", partition]\n",
    "\n",
    "data[columns_1].groupby([partition]).mean().round(2)\n",
    "data[columns_1].groupby([partition]).std().round(2)"
   ]
  },
  {
   "cell_type": "markdown",
   "metadata": {},
   "source": [
    "##### Hypothesis test"
   ]
  },
  {
   "cell_type": "code",
   "execution_count": 137,
   "metadata": {},
   "outputs": [
    {
     "data": {
      "text/plain": [
       "0.35248622762809545"
      ]
     },
     "execution_count": 137,
     "metadata": {},
     "output_type": "execute_result"
    }
   ],
   "source": [
    "from scipy.stats import mannwhitneyu as mw\n",
    "\n",
    "cluster_1_data = data.loc[data[\"G\"] == \"C1\", \"pdonset\"]\n",
    "cluster_2_data = data.loc[data[\"G\"] == \"C2\", \"pdonset\"]\n",
    "\n",
    "mw(cluster_1_data, cluster_2_data).pvalue"
   ]
  },
  {
   "cell_type": "markdown",
   "metadata": {},
   "source": [
    "#### 7.5 - PD duration"
   ]
  },
  {
   "cell_type": "markdown",
   "metadata": {},
   "source": [
    "##### Plot"
   ]
  },
  {
   "cell_type": "code",
   "execution_count": 138,
   "metadata": {},
   "outputs": [
    {
     "data": {
      "image/png": "[encoded data removed]",
      "text/plain": [
       "<Figure size 360x288 with 1 Axes>"
      ]
     },
     "metadata": {
      "needs_background": "light"
     },
     "output_type": "display_data"
    }
   ],
   "source": [
    "import matplotlib.pyplot as plt\n",
    "import seaborn as sns\n",
    "\n",
    "sex_colors = [\"#00A6D6\", \"#FF69B4\"]\n",
    "\n",
    "fig, axs = plt.subplots(ncols=1, nrows=1, figsize=(5, 4))\n",
    "\n",
    "sns.boxplot(x=\"G\", y=\"durat_pd\", data=data, showmeans=True, meanprops={\"marker\":\"o\",\n",
    "                       \"markerfacecolor\":\"white\", \n",
    "                       \"markeredgecolor\":\"black\",\n",
    "                      \"markersize\":\"8\"})\n",
    "axs.set_ylabel('PD duration', fontsize=12)\n",
    "axs.set_xlabel(\"cluster\", fontsize=12)\n",
    "\n",
    "plt.savefig(\"figures/durat_pd_G.pdf\", format=\"pdf\", bbox_inches='tight')"
   ]
  },
  {
   "cell_type": "markdown",
   "metadata": {},
   "source": [
    "##### Table"
   ]
  },
  {
   "cell_type": "code",
   "execution_count": 139,
   "metadata": {},
   "outputs": [
    {
     "data": {
      "text/html": [
       "<div>\n",
       "<style scoped>\n",
       "    .dataframe tbody tr th:only-of-type {\n",
       "        vertical-align: middle;\n",
       "    }\n",
       "\n",
       "    .dataframe tbody tr th {\n",
       "        vertical-align: top;\n",
       "    }\n",
       "\n",
       "    .dataframe thead th {\n",
       "        text-align: right;\n",
       "    }\n",
       "</style>\n",
       "<table border=\"1\" class=\"dataframe\">\n",
       "  <thead>\n",
       "    <tr style=\"text-align: right;\">\n",
       "      <th></th>\n",
       "      <th>durat_pd</th>\n",
       "    </tr>\n",
       "    <tr>\n",
       "      <th>G</th>\n",
       "      <th></th>\n",
       "    </tr>\n",
       "  </thead>\n",
       "  <tbody>\n",
       "    <tr>\n",
       "      <th>C1</th>\n",
       "      <td>5.93</td>\n",
       "    </tr>\n",
       "    <tr>\n",
       "      <th>C2</th>\n",
       "      <td>5.93</td>\n",
       "    </tr>\n",
       "  </tbody>\n",
       "</table>\n",
       "</div>"
      ],
      "text/plain": [
       "    durat_pd\n",
       "G           \n",
       "C1      5.93\n",
       "C2      5.93"
      ]
     },
     "execution_count": 139,
     "metadata": {},
     "output_type": "execute_result"
    }
   ],
   "source": [
    "partition = \"G\"\n",
    "columns_1 = [\"durat_pd\", partition]\n",
    "\n",
    "data[columns_1].groupby([partition]).mean().round(2)\n",
    "data[columns_1].groupby([partition]).std().round(2)"
   ]
  },
  {
   "cell_type": "markdown",
   "metadata": {},
   "source": [
    "##### Hypothesis test"
   ]
  },
  {
   "cell_type": "code",
   "execution_count": 140,
   "metadata": {},
   "outputs": [
    {
     "data": {
      "text/plain": [
       "0.13497531794015516"
      ]
     },
     "execution_count": 140,
     "metadata": {},
     "output_type": "execute_result"
    }
   ],
   "source": [
    "from scipy.stats import mannwhitneyu as mw\n",
    "\n",
    "cluster_1_data = data.loc[data[\"G\"] == \"C1\", \"durat_pd\"]\n",
    "cluster_2_data = data.loc[data[\"G\"] == \"C2\", \"durat_pd\"]\n",
    "\n",
    "mw(cluster_1_data, cluster_2_data).pvalue"
   ]
  },
  {
   "cell_type": "markdown",
   "metadata": {},
   "source": [
    "#### 7.6 - Sex\n",
    "\n",
    "##### Proportion table\n",
    "\n",
    "Estimate the proportion of males and females in each cluster. The idea is to see if there are big proportional differences. This is not a hypothesis test."
   ]
  },
  {
   "cell_type": "code",
   "execution_count": 141,
   "metadata": {},
   "outputs": [
    {
     "data": {
      "text/plain": [
       "G   sex   \n",
       "C1  male      80.00\n",
       "    female    76.97\n",
       "C2  male      20.00\n",
       "    female    23.03\n",
       "Name: sex, dtype: float64"
      ]
     },
     "execution_count": 141,
     "metadata": {},
     "output_type": "execute_result"
    }
   ],
   "source": [
    "import numpy as np\n",
    "\n",
    "partition = \"G\"\n",
    "columns_1 = [\"sex\", partition]\n",
    "\n",
    "total_males = data[\"sex\"].value_counts()[0]\n",
    "total_females = data[\"sex\"].value_counts()[1]\n",
    "total = np.array([total_males, total_females, total_males, total_females])\n",
    "\n",
    "(data[columns_1].groupby([partition]).sex.value_counts()/total * 100).round(2)"
   ]
  },
  {
   "cell_type": "markdown",
   "metadata": {},
   "source": [
    "##### Table"
   ]
  },
  {
   "cell_type": "code",
   "execution_count": 142,
   "metadata": {},
   "outputs": [
    {
     "data": {
      "text/plain": [
       "G   sex   \n",
       "C1  male      63.09\n",
       "    female    36.91\n",
       "C2  male      58.82\n",
       "    female    41.18\n",
       "Name: sex, dtype: float64"
      ]
     },
     "execution_count": 142,
     "metadata": {},
     "output_type": "execute_result"
    }
   ],
   "source": [
    "import numpy as np\n",
    "\n",
    "partition = \"G\"\n",
    "columns_1 = [\"sex\", partition]\n",
    "\n",
    "cluster_1_total = data[columns_1].groupby([partition]).count().iloc[0,0]\n",
    "cluster_2_total = data[columns_1].groupby([partition]).count().iloc[1,0]\n",
    "total = np.array([cluster_1_total, cluster_1_total, cluster_2_total, cluster_2_total])\n",
    "\n",
    "# Percentage\n",
    "(data[columns_1].groupby([partition]).sex.value_counts()/total * 100).round(2) \n",
    "# Counts\n",
    "#data[columns_1].groupby([partition]).sex.value_counts()"
   ]
  },
  {
   "cell_type": "markdown",
   "metadata": {},
   "source": [
    "##### Hypothesis test\n",
    "\n",
    "https://stats.stackexchange.com/questions/110718/chi-squared-test-with-scipy-whats-the-difference-between-chi2-contingency-and"
   ]
  },
  {
   "cell_type": "code",
   "execution_count": 143,
   "metadata": {},
   "outputs": [
    {
     "data": {
      "text/plain": [
       "0.5520894211782261"
      ]
     },
     "execution_count": 143,
     "metadata": {},
     "output_type": "execute_result"
    }
   ],
   "source": [
    "from scipy.stats import chi2_contingency \n",
    "\n",
    "cluster_1_data = data.loc[data[\"G\"] == \"C1\", \"sex\"].value_counts()\n",
    "cluster_2_data = data.loc[data[\"G\"] == \"C2\", \"sex\"].value_counts()\n",
    "\n",
    "cluster_1_data_array = [cluster_1_data[0], cluster_1_data[1]]\n",
    "cluster_2_data_array = [cluster_2_data[0], cluster_2_data[1]]\n",
    "contingency_table = [cluster_1_data_array, cluster_2_data_array]\n",
    "\n",
    "tat, p, dof, expected = chi2_contingency(contingency_table)\n",
    "p"
   ]
  },
  {
   "cell_type": "markdown",
   "metadata": {},
   "source": [
    "-----\n",
    "\n",
    "## 8 - Clustering H\n",
    "\n",
    "* This latent variable has no directly associated attributes, it simlpy relates partitions G and I."
   ]
  },
  {
   "cell_type": "markdown",
   "metadata": {
    "pycharm": {
     "name": "#%% md\n"
    }
   },
   "source": [
    "#### 8.1 - Prepare data for analysis"
   ]
  },
  {
   "cell_type": "code",
   "execution_count": 144,
   "metadata": {
    "collapsed": false,
    "jupyter": {
     "outputs_hidden": false
    },
    "pycharm": {
     "name": "#%%\n"
    }
   },
   "outputs": [],
   "source": [
    "# First, we make this variable categorical so Pandas can order its states in the plot. Then we rename its categories accordingly (and reorder them if necessary)\n",
    "data[\"H\"] = data[\"H\"].astype(\"category\")\n",
    "data[\"H\"] = data[\"H\"].cat.rename_categories({\"0\":\"C1\", \"1\": \"C2\"})\n",
    "data[\"H\"] = data[\"H\"].cat.reorder_categories(['C1', 'C2'])"
   ]
  },
  {
   "cell_type": "markdown",
   "metadata": {},
   "source": [
    "#### 8.2 - Hoehn Yahr"
   ]
  },
  {
   "cell_type": "markdown",
   "metadata": {},
   "source": [
    "##### Plot"
   ]
  },
  {
   "cell_type": "code",
   "execution_count": 145,
   "metadata": {
    "collapsed": false,
    "jupyter": {
     "outputs_hidden": false
    },
    "pycharm": {
     "name": "#%%\n"
    }
   },
   "outputs": [
    {
     "data": {
      "image/png": "[encoded data removed]",
      "text/plain": [
       "<Figure size 360x288 with 1 Axes>"
      ]
     },
     "metadata": {
      "needs_background": "light"
     },
     "output_type": "display_data"
    }
   ],
   "source": [
    "import matplotlib.pyplot as plt\n",
    "import seaborn as sns\n",
    "\n",
    "sex_colors = [\"#00A6D6\", \"#FF69B4\"]\n",
    "\n",
    "fig, axs = plt.subplots(ncols=1, nrows=1, figsize=(5, 4))\n",
    "\n",
    "sns.boxplot(x=\"H\", y=\"hy\", data=data, showmeans=True, meanprops={\"marker\":\"o\",\n",
    "                       \"markerfacecolor\":\"white\", \n",
    "                       \"markeredgecolor\":\"black\",\n",
    "                      \"markersize\":\"8\"})\n",
    "axs.set_ylabel('HY', fontsize=12)\n",
    "axs.set_xlabel(\"cluster\", fontsize=12)\n",
    "\n",
    "plt.savefig(\"figures/hy_H.pdf\", format=\"pdf\", bbox_inches='tight')"
   ]
  },
  {
   "cell_type": "code",
   "execution_count": 146,
   "metadata": {},
   "outputs": [
    {
     "data": {
      "image/png": "[encoded data removed]",
      "text/plain": [
       "<Figure size 720x288 with 2 Axes>"
      ]
     },
     "metadata": {
      "needs_background": "light"
     },
     "output_type": "display_data"
    }
   ],
   "source": [
    "import matplotlib.pyplot as plt\n",
    "import seaborn as sns\n",
    "\n",
    "fig, axs = plt.subplots(ncols=2, nrows=1, figsize=(10, 4))\n",
    "\n",
    "sns.countplot(data.loc[data[\"H\"] == \"C1\", \"hy\"], ax = axs[0], order=[1,2,3,4,5])\n",
    "axs[0].set_xlabel(\"Cluster 1\", fontsize=12)\n",
    "axs[0].set_ylabel(\"HY count\", fontsize=12)\n",
    "\n",
    "sns.countplot(data.loc[data[\"H\"] == \"C2\", \"hy\"], ax = axs[1], order=[1,2,3,4,5])\n",
    "axs[1].set_xlabel(\"Cluster 2\", fontsize=12)\n",
    "axs[1].set_ylabel(\"HY count\", fontsize=12)\n",
    "\n",
    "plt.savefig(\"figures/hy_dists_H.pdf\", format=\"pdf\", bbox_inches='tight')"
   ]
  },
  {
   "cell_type": "markdown",
   "metadata": {},
   "source": [
    "##### Table"
   ]
  },
  {
   "cell_type": "code",
   "execution_count": 147,
   "metadata": {
    "collapsed": false,
    "jupyter": {
     "outputs_hidden": false
    },
    "pycharm": {
     "name": "#%%\n"
    }
   },
   "outputs": [
    {
     "data": {
      "text/html": [
       "<div>\n",
       "<style scoped>\n",
       "    .dataframe tbody tr th:only-of-type {\n",
       "        vertical-align: middle;\n",
       "    }\n",
       "\n",
       "    .dataframe tbody tr th {\n",
       "        vertical-align: top;\n",
       "    }\n",
       "\n",
       "    .dataframe thead th {\n",
       "        text-align: right;\n",
       "    }\n",
       "</style>\n",
       "<table border=\"1\" class=\"dataframe\">\n",
       "  <thead>\n",
       "    <tr style=\"text-align: right;\">\n",
       "      <th></th>\n",
       "      <th>hy</th>\n",
       "    </tr>\n",
       "    <tr>\n",
       "      <th>H</th>\n",
       "      <th></th>\n",
       "    </tr>\n",
       "  </thead>\n",
       "  <tbody>\n",
       "    <tr>\n",
       "      <th>C1</th>\n",
       "      <td>0.75</td>\n",
       "    </tr>\n",
       "    <tr>\n",
       "      <th>C2</th>\n",
       "      <td>0.70</td>\n",
       "    </tr>\n",
       "  </tbody>\n",
       "</table>\n",
       "</div>"
      ],
      "text/plain": [
       "      hy\n",
       "H       \n",
       "C1  0.75\n",
       "C2  0.70"
      ]
     },
     "execution_count": 147,
     "metadata": {},
     "output_type": "execute_result"
    }
   ],
   "source": [
    "partition = \"H\"\n",
    "columns_1 = [\"hy\", partition]\n",
    "\n",
    "data[columns_1].groupby([partition]).mean().round(2)\n",
    "data[columns_1].groupby([partition]).std().round(2)"
   ]
  },
  {
   "cell_type": "markdown",
   "metadata": {},
   "source": [
    "##### Hypothesis test (continuous)"
   ]
  },
  {
   "cell_type": "code",
   "execution_count": 148,
   "metadata": {
    "collapsed": false,
    "jupyter": {
     "outputs_hidden": false
    },
    "pycharm": {
     "name": "#%%\n"
    }
   },
   "outputs": [
    {
     "data": {
      "text/plain": [
       "0.41773337444528524"
      ]
     },
     "execution_count": 148,
     "metadata": {},
     "output_type": "execute_result"
    }
   ],
   "source": [
    "from scipy.stats import mannwhitneyu as mw\n",
    "\n",
    "cluster_1_data = data.loc[data[\"H\"] == \"C1\", \"hy\"]\n",
    "cluster_2_data = data.loc[data[\"H\"] == \"C2\", \"hy\"]\n",
    "\n",
    "mw(cluster_1_data, cluster_2_data).pvalue"
   ]
  },
  {
   "cell_type": "markdown",
   "metadata": {},
   "source": [
    "##### Hypothesis test (discrete)"
   ]
  },
  {
   "cell_type": "code",
   "execution_count": 149,
   "metadata": {},
   "outputs": [
    {
     "data": {
      "text/plain": [
       "0.5214307126264315"
      ]
     },
     "execution_count": 149,
     "metadata": {},
     "output_type": "execute_result"
    }
   ],
   "source": [
    "from scipy.stats import chi2_contingency \n",
    "\n",
    "cluster_1_data = data.loc[data[\"H\"] == \"C1\", \"hy\"].value_counts()\n",
    "cluster_2_data = data.loc[data[\"H\"] == \"C2\", \"hy\"].value_counts()\n",
    "\n",
    "# Given that in this dataset there are no HY values of 5, we consider only 4\n",
    "cluster_1_data_array = [cluster_1_data.iloc[0], cluster_1_data.iloc[1], cluster_1_data.iloc[2], cluster_1_data.iloc[3]]\n",
    "cluster_2_data_array = [cluster_2_data.iloc[0], cluster_2_data.iloc[1], cluster_2_data.iloc[2], cluster_2_data.iloc[3]]\n",
    "\n",
    "contingency_table = [cluster_1_data_array, cluster_2_data_array]\n",
    "\n",
    "tat, p, dof, expected = chi2_contingency(contingency_table)\n",
    "p"
   ]
  },
  {
   "cell_type": "markdown",
   "metadata": {},
   "source": [
    "#### 8.3 - Age"
   ]
  },
  {
   "cell_type": "markdown",
   "metadata": {},
   "source": [
    "##### Plot"
   ]
  },
  {
   "cell_type": "code",
   "execution_count": 150,
   "metadata": {},
   "outputs": [
    {
     "data": {
      "image/png": "[encoded data removed]",
      "text/plain": [
       "<Figure size 360x288 with 1 Axes>"
      ]
     },
     "metadata": {
      "needs_background": "light"
     },
     "output_type": "display_data"
    }
   ],
   "source": [
    "import matplotlib.pyplot as plt\n",
    "import seaborn as sns\n",
    "\n",
    "sex_colors = [\"#00A6D6\", \"#FF69B4\"]\n",
    "\n",
    "fig, axs = plt.subplots(ncols=1, nrows=1, figsize=(5, 4))\n",
    "\n",
    "sns.boxplot(x=\"H\", y=\"age\", data=data, showmeans=True, meanprops={\"marker\":\"o\",\n",
    "                       \"markerfacecolor\":\"white\", \n",
    "                       \"markeredgecolor\":\"black\",\n",
    "                      \"markersize\":\"8\"})\n",
    "axs.set_ylabel('Age', fontsize=12)\n",
    "axs.set_xlabel(\"cluster\", fontsize=12)\n",
    "\n",
    "plt.savefig(\"figures/age_H.pdf\", format=\"pdf\", bbox_inches='tight')"
   ]
  },
  {
   "cell_type": "markdown",
   "metadata": {},
   "source": [
    "##### Table"
   ]
  },
  {
   "cell_type": "code",
   "execution_count": 151,
   "metadata": {},
   "outputs": [
    {
     "data": {
      "text/html": [
       "<div>\n",
       "<style scoped>\n",
       "    .dataframe tbody tr th:only-of-type {\n",
       "        vertical-align: middle;\n",
       "    }\n",
       "\n",
       "    .dataframe tbody tr th {\n",
       "        vertical-align: top;\n",
       "    }\n",
       "\n",
       "    .dataframe thead th {\n",
       "        text-align: right;\n",
       "    }\n",
       "</style>\n",
       "<table border=\"1\" class=\"dataframe\">\n",
       "  <thead>\n",
       "    <tr style=\"text-align: right;\">\n",
       "      <th></th>\n",
       "      <th>age</th>\n",
       "    </tr>\n",
       "    <tr>\n",
       "      <th>H</th>\n",
       "      <th></th>\n",
       "    </tr>\n",
       "  </thead>\n",
       "  <tbody>\n",
       "    <tr>\n",
       "      <th>C1</th>\n",
       "      <td>9.9</td>\n",
       "    </tr>\n",
       "    <tr>\n",
       "      <th>C2</th>\n",
       "      <td>9.3</td>\n",
       "    </tr>\n",
       "  </tbody>\n",
       "</table>\n",
       "</div>"
      ],
      "text/plain": [
       "    age\n",
       "H      \n",
       "C1  9.9\n",
       "C2  9.3"
      ]
     },
     "execution_count": 151,
     "metadata": {},
     "output_type": "execute_result"
    }
   ],
   "source": [
    "partition = \"H\"\n",
    "columns_1 = [\"age\", partition]\n",
    "\n",
    "data[columns_1].groupby([partition]).mean().round(2)\n",
    "data[columns_1].groupby([partition]).std().round(2)"
   ]
  },
  {
   "cell_type": "markdown",
   "metadata": {},
   "source": [
    "##### Hypothesis test"
   ]
  },
  {
   "cell_type": "code",
   "execution_count": 152,
   "metadata": {},
   "outputs": [
    {
     "data": {
      "text/plain": [
       "6.822394190680047e-05"
      ]
     },
     "execution_count": 152,
     "metadata": {},
     "output_type": "execute_result"
    }
   ],
   "source": [
    "from scipy.stats import mannwhitneyu as mw\n",
    "\n",
    "cluster_1_data = data.loc[data[\"H\"] == \"C1\", \"age\"]\n",
    "cluster_2_data = data.loc[data[\"H\"] == \"C2\", \"age\"]\n",
    "\n",
    "mw(cluster_1_data, cluster_2_data).pvalue"
   ]
  },
  {
   "cell_type": "markdown",
   "metadata": {},
   "source": [
    "#### 8.4 - PD onset"
   ]
  },
  {
   "cell_type": "markdown",
   "metadata": {},
   "source": [
    "##### Plot"
   ]
  },
  {
   "cell_type": "code",
   "execution_count": 153,
   "metadata": {},
   "outputs": [
    {
     "data": {
      "image/png": "[encoded data removed]",
      "text/plain": [
       "<Figure size 360x288 with 1 Axes>"
      ]
     },
     "metadata": {
      "needs_background": "light"
     },
     "output_type": "display_data"
    }
   ],
   "source": [
    "import matplotlib.pyplot as plt\n",
    "import seaborn as sns\n",
    "\n",
    "sex_colors = [\"#00A6D6\", \"#FF69B4\"]\n",
    "\n",
    "fig, axs = plt.subplots(ncols=1, nrows=1, figsize=(5, 4))\n",
    "\n",
    "sns.boxplot(x=\"H\", y=\"pdonset\", data=data, showmeans=True, meanprops={\"marker\":\"o\",\n",
    "                       \"markerfacecolor\":\"white\", \n",
    "                       \"markeredgecolor\":\"black\",\n",
    "                      \"markersize\":\"8\"})\n",
    "axs.set_ylabel('PD onset', fontsize=12)\n",
    "axs.set_xlabel(\"cluster\", fontsize=12)\n",
    "\n",
    "plt.savefig(\"figures/pdonset_H.pdf\", format=\"pdf\", bbox_inches='tight')"
   ]
  },
  {
   "cell_type": "markdown",
   "metadata": {},
   "source": [
    "##### Table"
   ]
  },
  {
   "cell_type": "code",
   "execution_count": 154,
   "metadata": {},
   "outputs": [
    {
     "data": {
      "text/html": [
       "<div>\n",
       "<style scoped>\n",
       "    .dataframe tbody tr th:only-of-type {\n",
       "        vertical-align: middle;\n",
       "    }\n",
       "\n",
       "    .dataframe tbody tr th {\n",
       "        vertical-align: top;\n",
       "    }\n",
       "\n",
       "    .dataframe thead th {\n",
       "        text-align: right;\n",
       "    }\n",
       "</style>\n",
       "<table border=\"1\" class=\"dataframe\">\n",
       "  <thead>\n",
       "    <tr style=\"text-align: right;\">\n",
       "      <th></th>\n",
       "      <th>pdonset</th>\n",
       "    </tr>\n",
       "    <tr>\n",
       "      <th>H</th>\n",
       "      <th></th>\n",
       "    </tr>\n",
       "  </thead>\n",
       "  <tbody>\n",
       "    <tr>\n",
       "      <th>C1</th>\n",
       "      <td>10.63</td>\n",
       "    </tr>\n",
       "    <tr>\n",
       "      <th>C2</th>\n",
       "      <td>9.34</td>\n",
       "    </tr>\n",
       "  </tbody>\n",
       "</table>\n",
       "</div>"
      ],
      "text/plain": [
       "    pdonset\n",
       "H          \n",
       "C1    10.63\n",
       "C2     9.34"
      ]
     },
     "execution_count": 154,
     "metadata": {},
     "output_type": "execute_result"
    }
   ],
   "source": [
    "partition = \"H\"\n",
    "columns_1 = [\"pdonset\", partition]\n",
    "\n",
    "data[columns_1].groupby([partition]).mean().round(2)\n",
    "data[columns_1].groupby([partition]).std().round(2)"
   ]
  },
  {
   "cell_type": "markdown",
   "metadata": {},
   "source": [
    "##### Hypothesis test"
   ]
  },
  {
   "cell_type": "code",
   "execution_count": 155,
   "metadata": {},
   "outputs": [
    {
     "data": {
      "text/plain": [
       "3.162400122975115e-06"
      ]
     },
     "execution_count": 155,
     "metadata": {},
     "output_type": "execute_result"
    }
   ],
   "source": [
    "from scipy.stats import mannwhitneyu as mw\n",
    "\n",
    "cluster_1_data = data.loc[data[\"H\"] == \"C1\", \"pdonset\"]\n",
    "cluster_2_data = data.loc[data[\"H\"] == \"C2\", \"pdonset\"]\n",
    "\n",
    "mw(cluster_1_data, cluster_2_data).pvalue"
   ]
  },
  {
   "cell_type": "markdown",
   "metadata": {},
   "source": [
    "#### 8.5 - PD duration"
   ]
  },
  {
   "cell_type": "markdown",
   "metadata": {},
   "source": [
    "##### Plot"
   ]
  },
  {
   "cell_type": "code",
   "execution_count": 156,
   "metadata": {},
   "outputs": [
    {
     "data": {
      "image/png": "[encoded data removed]",
      "text/plain": [
       "<Figure size 360x288 with 1 Axes>"
      ]
     },
     "metadata": {
      "needs_background": "light"
     },
     "output_type": "display_data"
    }
   ],
   "source": [
    "import matplotlib.pyplot as plt\n",
    "import seaborn as sns\n",
    "\n",
    "sex_colors = [\"#00A6D6\", \"#FF69B4\"]\n",
    "\n",
    "fig, axs = plt.subplots(ncols=1, nrows=1, figsize=(5, 4))\n",
    "\n",
    "sns.boxplot(x=\"H\", y=\"durat_pd\", data=data, showmeans=True, meanprops={\"marker\":\"o\",\n",
    "                       \"markerfacecolor\":\"white\", \n",
    "                       \"markeredgecolor\":\"black\",\n",
    "                      \"markersize\":\"8\"})\n",
    "axs.set_ylabel('PD duration', fontsize=12)\n",
    "axs.set_xlabel(\"cluster\", fontsize=12)\n",
    "\n",
    "plt.savefig(\"figures/durat_pd_H.pdf\", format=\"pdf\", bbox_inches='tight')"
   ]
  },
  {
   "cell_type": "markdown",
   "metadata": {},
   "source": [
    "##### Table"
   ]
  },
  {
   "cell_type": "code",
   "execution_count": 157,
   "metadata": {},
   "outputs": [
    {
     "data": {
      "text/html": [
       "<div>\n",
       "<style scoped>\n",
       "    .dataframe tbody tr th:only-of-type {\n",
       "        vertical-align: middle;\n",
       "    }\n",
       "\n",
       "    .dataframe tbody tr th {\n",
       "        vertical-align: top;\n",
       "    }\n",
       "\n",
       "    .dataframe thead th {\n",
       "        text-align: right;\n",
       "    }\n",
       "</style>\n",
       "<table border=\"1\" class=\"dataframe\">\n",
       "  <thead>\n",
       "    <tr style=\"text-align: right;\">\n",
       "      <th></th>\n",
       "      <th>durat_pd</th>\n",
       "    </tr>\n",
       "    <tr>\n",
       "      <th>H</th>\n",
       "      <th></th>\n",
       "    </tr>\n",
       "  </thead>\n",
       "  <tbody>\n",
       "    <tr>\n",
       "      <th>C1</th>\n",
       "      <td>6.00</td>\n",
       "    </tr>\n",
       "    <tr>\n",
       "      <th>C2</th>\n",
       "      <td>5.46</td>\n",
       "    </tr>\n",
       "  </tbody>\n",
       "</table>\n",
       "</div>"
      ],
      "text/plain": [
       "    durat_pd\n",
       "H           \n",
       "C1      6.00\n",
       "C2      5.46"
      ]
     },
     "execution_count": 157,
     "metadata": {},
     "output_type": "execute_result"
    }
   ],
   "source": [
    "partition = \"H\"\n",
    "columns_1 = [\"durat_pd\", partition]\n",
    "\n",
    "data[columns_1].groupby([partition]).mean().round(2)\n",
    "data[columns_1].groupby([partition]).std().round(2)"
   ]
  },
  {
   "cell_type": "markdown",
   "metadata": {},
   "source": [
    "##### Hypothesis test"
   ]
  },
  {
   "cell_type": "code",
   "execution_count": 158,
   "metadata": {},
   "outputs": [
    {
     "data": {
      "text/plain": [
       "0.008196387929786808"
      ]
     },
     "execution_count": 158,
     "metadata": {},
     "output_type": "execute_result"
    }
   ],
   "source": [
    "from scipy.stats import mannwhitneyu as mw\n",
    "\n",
    "cluster_1_data = data.loc[data[\"H\"] == \"C1\", \"durat_pd\"]\n",
    "cluster_2_data = data.loc[data[\"H\"] == \"C2\", \"durat_pd\"]\n",
    "\n",
    "mw(cluster_1_data, cluster_2_data).pvalue"
   ]
  },
  {
   "cell_type": "markdown",
   "metadata": {},
   "source": [
    "#### 8.6 - Sex\n",
    "\n",
    "##### Proportion table\n",
    "\n",
    "Estimate the proportion of males and females in each cluster. The idea is to see if there are big proportional differences. This is not a hypothesis test."
   ]
  },
  {
   "cell_type": "code",
   "execution_count": 159,
   "metadata": {},
   "outputs": [
    {
     "data": {
      "text/plain": [
       "H   sex   \n",
       "C1  male      83.20\n",
       "    female    80.26\n",
       "C2  male      16.80\n",
       "    female    19.74\n",
       "Name: sex, dtype: float64"
      ]
     },
     "execution_count": 159,
     "metadata": {},
     "output_type": "execute_result"
    }
   ],
   "source": [
    "import numpy as np\n",
    "\n",
    "partition = \"H\"\n",
    "columns_1 = [\"sex\", partition]\n",
    "\n",
    "total_males = data[\"sex\"].value_counts()[0]\n",
    "total_females = data[\"sex\"].value_counts()[1]\n",
    "total = np.array([total_males, total_females, total_males, total_females])\n",
    "\n",
    "(data[columns_1].groupby([partition]).sex.value_counts()/total * 100).round(2)"
   ]
  },
  {
   "cell_type": "markdown",
   "metadata": {},
   "source": [
    "##### Table"
   ]
  },
  {
   "cell_type": "code",
   "execution_count": 160,
   "metadata": {},
   "outputs": [
    {
     "data": {
      "text/plain": [
       "H   sex   \n",
       "C1  male      63.03\n",
       "    female    36.97\n",
       "C2  male      58.33\n",
       "    female    41.67\n",
       "Name: sex, dtype: float64"
      ]
     },
     "execution_count": 160,
     "metadata": {},
     "output_type": "execute_result"
    }
   ],
   "source": [
    "import numpy as np\n",
    "\n",
    "partition = \"H\"\n",
    "columns_1 = [\"sex\", partition]\n",
    "\n",
    "cluster_1_total = data[columns_1].groupby([partition]).count().iloc[0,0]\n",
    "cluster_2_total = data[columns_1].groupby([partition]).count().iloc[1,0]\n",
    "total = np.array([cluster_1_total, cluster_1_total, cluster_2_total, cluster_2_total])\n",
    "\n",
    "# Percentage\n",
    "(data[columns_1].groupby([partition]).sex.value_counts()/total * 100).round(2) \n",
    "# Counts\n",
    "#data[columns_1].groupby([partition]).sex.value_counts()"
   ]
  },
  {
   "cell_type": "markdown",
   "metadata": {},
   "source": [
    "##### Hypothesis test\n",
    "\n",
    "https://stats.stackexchange.com/questions/110718/chi-squared-test-with-scipy-whats-the-difference-between-chi2-contingency-and"
   ]
  },
  {
   "cell_type": "code",
   "execution_count": 161,
   "metadata": {},
   "outputs": [
    {
     "data": {
      "text/plain": [
       "0.5414995168206"
      ]
     },
     "execution_count": 161,
     "metadata": {},
     "output_type": "execute_result"
    }
   ],
   "source": [
    "from scipy.stats import chi2_contingency \n",
    "\n",
    "cluster_1_data = data.loc[data[\"H\"] == \"C1\", \"sex\"].value_counts()\n",
    "cluster_2_data = data.loc[data[\"H\"] == \"C2\", \"sex\"].value_counts()\n",
    "\n",
    "cluster_1_data_array = [cluster_1_data[0], cluster_1_data[1]]\n",
    "cluster_2_data_array = [cluster_2_data[0], cluster_2_data[1]]\n",
    "contingency_table = [cluster_1_data_array, cluster_2_data_array]\n",
    "\n",
    "tat, p, dof, expected = chi2_contingency(contingency_table)\n",
    "p"
   ]
  },
  {
   "cell_type": "markdown",
   "metadata": {},
   "source": [
    "## 9 - Clustering I\n",
    "\n",
    "* **Attributes:** sweating, anxiety"
   ]
  },
  {
   "cell_type": "markdown",
   "metadata": {
    "pycharm": {
     "name": "#%% md\n"
    }
   },
   "source": [
    "#### 9.1 - Prepare data for analysis"
   ]
  },
  {
   "cell_type": "code",
   "execution_count": 162,
   "metadata": {
    "collapsed": false,
    "jupyter": {
     "outputs_hidden": false
    },
    "pycharm": {
     "name": "#%%\n"
    }
   },
   "outputs": [],
   "source": [
    "# First, we make this variable categorical so Pandas can order its states in the plot. Then we rename its categories accordingly (and reorder them if necessary)\n",
    "data[\"I\"] = data[\"I\"].astype(\"category\")\n",
    "data[\"I\"] = data[\"I\"].cat.rename_categories({\"0\":\"C2\", \"1\": \"C1\"})\n",
    "data[\"I\"] = data[\"I\"].cat.reorder_categories(['C1', 'C2'])"
   ]
  },
  {
   "cell_type": "markdown",
   "metadata": {},
   "source": [
    "#### 9.2 - Hoehn Yahr"
   ]
  },
  {
   "cell_type": "code",
   "execution_count": 163,
   "metadata": {
    "collapsed": false,
    "jupyter": {
     "outputs_hidden": false
    },
    "pycharm": {
     "name": "#%%\n"
    }
   },
   "outputs": [
    {
     "data": {
      "image/png": "[encoded data removed]",
      "text/plain": [
       "<Figure size 360x288 with 1 Axes>"
      ]
     },
     "metadata": {
      "needs_background": "light"
     },
     "output_type": "display_data"
    }
   ],
   "source": [
    "import matplotlib.pyplot as plt\n",
    "import seaborn as sns\n",
    "\n",
    "sex_colors = [\"#00A6D6\", \"#FF69B4\"]\n",
    "\n",
    "fig, axs = plt.subplots(ncols=1, nrows=1, figsize=(5, 4))\n",
    "\n",
    "sns.boxplot(x=\"I\", y=\"hy\", data=data, showmeans=True, meanprops={\"marker\":\"o\",\n",
    "                       \"markerfacecolor\":\"white\", \n",
    "                       \"markeredgecolor\":\"black\",\n",
    "                      \"markersize\":\"8\"})\n",
    "axs.set_ylabel('HY', fontsize=12)\n",
    "axs.set_xlabel(\"cluster\", fontsize=12)\n",
    "\n",
    "plt.savefig(\"figures/hy_I.pdf\", format=\"pdf\", bbox_inches='tight')"
   ]
  },
  {
   "cell_type": "code",
   "execution_count": 164,
   "metadata": {},
   "outputs": [
    {
     "data": {
      "image/png": "[encoded data removed]",
      "text/plain": [
       "<Figure size 720x288 with 2 Axes>"
      ]
     },
     "metadata": {
      "needs_background": "light"
     },
     "output_type": "display_data"
    }
   ],
   "source": [
    "import matplotlib.pyplot as plt\n",
    "import seaborn as sns\n",
    "\n",
    "fig, axs = plt.subplots(ncols=2, nrows=1, figsize=(10, 4))\n",
    "\n",
    "sns.countplot(data.loc[data[\"I\"] == \"C1\", \"hy\"], ax = axs[0], order=[1,2,3,4,5])\n",
    "axs[0].set_xlabel(\"Cluster 1\", fontsize=12)\n",
    "axs[0].set_ylabel(\"HY count\", fontsize=12)\n",
    "\n",
    "sns.countplot(data.loc[data[\"I\"] == \"C2\", \"hy\"], ax = axs[1], order=[1,2,3,4,5])\n",
    "axs[1].set_xlabel(\"Cluster 2\", fontsize=12)\n",
    "axs[1].set_ylabel(\"HY count\", fontsize=12)\n",
    "\n",
    "plt.savefig(\"figures/hy_dists_I.pdf\", format=\"pdf\", bbox_inches='tight')"
   ]
  },
  {
   "cell_type": "markdown",
   "metadata": {},
   "source": [
    "##### Hoehn Yahr table"
   ]
  },
  {
   "cell_type": "code",
   "execution_count": 165,
   "metadata": {
    "collapsed": false,
    "jupyter": {
     "outputs_hidden": false
    },
    "pycharm": {
     "name": "#%%\n"
    }
   },
   "outputs": [
    {
     "data": {
      "text/html": [
       "<div>\n",
       "<style scoped>\n",
       "    .dataframe tbody tr th:only-of-type {\n",
       "        vertical-align: middle;\n",
       "    }\n",
       "\n",
       "    .dataframe tbody tr th {\n",
       "        vertical-align: top;\n",
       "    }\n",
       "\n",
       "    .dataframe thead th {\n",
       "        text-align: right;\n",
       "    }\n",
       "</style>\n",
       "<table border=\"1\" class=\"dataframe\">\n",
       "  <thead>\n",
       "    <tr style=\"text-align: right;\">\n",
       "      <th></th>\n",
       "      <th>hy</th>\n",
       "    </tr>\n",
       "    <tr>\n",
       "      <th>I</th>\n",
       "      <th></th>\n",
       "    </tr>\n",
       "  </thead>\n",
       "  <tbody>\n",
       "    <tr>\n",
       "      <th>C1</th>\n",
       "      <td>0.76</td>\n",
       "    </tr>\n",
       "    <tr>\n",
       "      <th>C2</th>\n",
       "      <td>0.69</td>\n",
       "    </tr>\n",
       "  </tbody>\n",
       "</table>\n",
       "</div>"
      ],
      "text/plain": [
       "      hy\n",
       "I       \n",
       "C1  0.76\n",
       "C2  0.69"
      ]
     },
     "execution_count": 165,
     "metadata": {},
     "output_type": "execute_result"
    }
   ],
   "source": [
    "partition = \"I\"\n",
    "columns_1 = [\"hy\", partition]\n",
    "\n",
    "data[columns_1].groupby([partition]).mean().round(2)\n",
    "data[columns_1].groupby([partition]).std().round(2)"
   ]
  },
  {
   "cell_type": "markdown",
   "metadata": {},
   "source": [
    "##### Hypothesis test (continuous)"
   ]
  },
  {
   "cell_type": "code",
   "execution_count": 166,
   "metadata": {
    "collapsed": false,
    "jupyter": {
     "outputs_hidden": false
    },
    "pycharm": {
     "name": "#%%\n"
    }
   },
   "outputs": [
    {
     "data": {
      "text/plain": [
       "0.17643647380845184"
      ]
     },
     "execution_count": 166,
     "metadata": {},
     "output_type": "execute_result"
    }
   ],
   "source": [
    "from scipy.stats import mannwhitneyu as mw\n",
    "\n",
    "cluster_1_data = data.loc[data[\"I\"] == \"C1\", \"hy\"]\n",
    "cluster_2_data = data.loc[data[\"I\"] == \"C2\", \"hy\"]\n",
    "\n",
    "mw(cluster_1_data, cluster_2_data).pvalue"
   ]
  },
  {
   "cell_type": "markdown",
   "metadata": {},
   "source": [
    "##### Hypothesis test (discrete)"
   ]
  },
  {
   "cell_type": "code",
   "execution_count": 167,
   "metadata": {},
   "outputs": [
    {
     "data": {
      "text/plain": [
       "0.36830502266705945"
      ]
     },
     "execution_count": 167,
     "metadata": {},
     "output_type": "execute_result"
    }
   ],
   "source": [
    "from scipy.stats import chi2_contingency \n",
    "\n",
    "cluster_1_data = data.loc[data[\"I\"] == \"C1\", \"hy\"].value_counts()\n",
    "cluster_2_data = data.loc[data[\"I\"] == \"C2\", \"hy\"].value_counts()\n",
    "\n",
    "# Given that in this dataset there are no HY values of 5, we consider only 4\n",
    "cluster_1_data_array = [cluster_1_data.iloc[0], cluster_1_data.iloc[1], cluster_1_data.iloc[2], cluster_1_data.iloc[3]]\n",
    "cluster_2_data_array = [cluster_2_data.iloc[0], cluster_2_data.iloc[1], cluster_2_data.iloc[2], cluster_2_data.iloc[3]]\n",
    "\n",
    "contingency_table = [cluster_1_data_array, cluster_2_data_array]\n",
    "\n",
    "tat, p, dof, expected = chi2_contingency(contingency_table)\n",
    "p"
   ]
  },
  {
   "cell_type": "markdown",
   "metadata": {},
   "source": [
    "#### 9.3 - Age"
   ]
  },
  {
   "cell_type": "markdown",
   "metadata": {},
   "source": [
    "##### Plot"
   ]
  },
  {
   "cell_type": "code",
   "execution_count": 168,
   "metadata": {},
   "outputs": [
    {
     "data": {
      "image/png": "[encoded data removed]",
      "text/plain": [
       "<Figure size 360x288 with 1 Axes>"
      ]
     },
     "metadata": {
      "needs_background": "light"
     },
     "output_type": "display_data"
    }
   ],
   "source": [
    "import matplotlib.pyplot as plt\n",
    "import seaborn as sns\n",
    "\n",
    "sex_colors = [\"#00A6D6\", \"#FF69B4\"]\n",
    "\n",
    "fig, axs = plt.subplots(ncols=1, nrows=1, figsize=(5, 4))\n",
    "\n",
    "sns.boxplot(x=\"I\", y=\"age\", data=data, showmeans=True, meanprops={\"marker\":\"o\",\n",
    "                       \"markerfacecolor\":\"white\", \n",
    "                       \"markeredgecolor\":\"black\",\n",
    "                      \"markersize\":\"8\"})\n",
    "axs.set_ylabel('Age', fontsize=12)\n",
    "axs.set_xlabel(\"cluster\", fontsize=12)\n",
    "\n",
    "plt.savefig(\"figures/age_I.pdf\", format=\"pdf\", bbox_inches='tight')"
   ]
  },
  {
   "cell_type": "markdown",
   "metadata": {},
   "source": [
    "##### Table"
   ]
  },
  {
   "cell_type": "code",
   "execution_count": 169,
   "metadata": {},
   "outputs": [
    {
     "data": {
      "text/html": [
       "<div>\n",
       "<style scoped>\n",
       "    .dataframe tbody tr th:only-of-type {\n",
       "        vertical-align: middle;\n",
       "    }\n",
       "\n",
       "    .dataframe tbody tr th {\n",
       "        vertical-align: top;\n",
       "    }\n",
       "\n",
       "    .dataframe thead th {\n",
       "        text-align: right;\n",
       "    }\n",
       "</style>\n",
       "<table border=\"1\" class=\"dataframe\">\n",
       "  <thead>\n",
       "    <tr style=\"text-align: right;\">\n",
       "      <th></th>\n",
       "      <th>age</th>\n",
       "    </tr>\n",
       "    <tr>\n",
       "      <th>I</th>\n",
       "      <th></th>\n",
       "    </tr>\n",
       "  </thead>\n",
       "  <tbody>\n",
       "    <tr>\n",
       "      <th>C1</th>\n",
       "      <td>9.67</td>\n",
       "    </tr>\n",
       "    <tr>\n",
       "      <th>C2</th>\n",
       "      <td>10.44</td>\n",
       "    </tr>\n",
       "  </tbody>\n",
       "</table>\n",
       "</div>"
      ],
      "text/plain": [
       "      age\n",
       "I        \n",
       "C1   9.67\n",
       "C2  10.44"
      ]
     },
     "execution_count": 169,
     "metadata": {},
     "output_type": "execute_result"
    }
   ],
   "source": [
    "partition = \"I\"\n",
    "columns_1 = [\"age\", partition]\n",
    "\n",
    "data[columns_1].groupby([partition]).mean().round(2)\n",
    "data[columns_1].groupby([partition]).std().round(2)"
   ]
  },
  {
   "cell_type": "markdown",
   "metadata": {},
   "source": [
    "##### Hypothesis test"
   ]
  },
  {
   "cell_type": "code",
   "execution_count": 170,
   "metadata": {},
   "outputs": [
    {
     "data": {
      "text/plain": [
       "0.00077269290506343"
      ]
     },
     "execution_count": 170,
     "metadata": {},
     "output_type": "execute_result"
    }
   ],
   "source": [
    "from scipy.stats import mannwhitneyu as mw\n",
    "\n",
    "cluster_1_data = data.loc[data[\"I\"] == \"C1\", \"age\"]\n",
    "cluster_2_data = data.loc[data[\"I\"] == \"C2\", \"age\"]\n",
    "\n",
    "mw(cluster_1_data, cluster_2_data).pvalue"
   ]
  },
  {
   "cell_type": "markdown",
   "metadata": {},
   "source": [
    "#### 9.4 - PD onset"
   ]
  },
  {
   "cell_type": "markdown",
   "metadata": {},
   "source": [
    "##### Plot"
   ]
  },
  {
   "cell_type": "code",
   "execution_count": 171,
   "metadata": {},
   "outputs": [
    {
     "data": {
      "image/png": "[encoded data removed]",
      "text/plain": [
       "<Figure size 360x288 with 1 Axes>"
      ]
     },
     "metadata": {
      "needs_background": "light"
     },
     "output_type": "display_data"
    }
   ],
   "source": [
    "import matplotlib.pyplot as plt\n",
    "import seaborn as sns\n",
    "\n",
    "sex_colors = [\"#00A6D6\", \"#FF69B4\"]\n",
    "\n",
    "fig, axs = plt.subplots(ncols=1, nrows=1, figsize=(5, 4))\n",
    "\n",
    "sns.boxplot(x=\"I\", y=\"pdonset\", data=data, showmeans=True, meanprops={\"marker\":\"o\",\n",
    "                       \"markerfacecolor\":\"white\", \n",
    "                       \"markeredgecolor\":\"black\",\n",
    "                      \"markersize\":\"8\"})\n",
    "axs.set_ylabel('PD onset', fontsize=12)\n",
    "axs.set_xlabel(\"cluster\", fontsize=12)\n",
    "\n",
    "plt.savefig(\"figures/pdonset_I.pdf\", format=\"pdf\", bbox_inches='tight')"
   ]
  },
  {
   "cell_type": "markdown",
   "metadata": {},
   "source": [
    "##### Table"
   ]
  },
  {
   "cell_type": "code",
   "execution_count": 172,
   "metadata": {},
   "outputs": [
    {
     "data": {
      "text/html": [
       "<div>\n",
       "<style scoped>\n",
       "    .dataframe tbody tr th:only-of-type {\n",
       "        vertical-align: middle;\n",
       "    }\n",
       "\n",
       "    .dataframe tbody tr th {\n",
       "        vertical-align: top;\n",
       "    }\n",
       "\n",
       "    .dataframe thead th {\n",
       "        text-align: right;\n",
       "    }\n",
       "</style>\n",
       "<table border=\"1\" class=\"dataframe\">\n",
       "  <thead>\n",
       "    <tr style=\"text-align: right;\">\n",
       "      <th></th>\n",
       "      <th>pdonset</th>\n",
       "    </tr>\n",
       "    <tr>\n",
       "      <th>I</th>\n",
       "      <th></th>\n",
       "    </tr>\n",
       "  </thead>\n",
       "  <tbody>\n",
       "    <tr>\n",
       "      <th>C1</th>\n",
       "      <td>10.31</td>\n",
       "    </tr>\n",
       "    <tr>\n",
       "      <th>C2</th>\n",
       "      <td>11.06</td>\n",
       "    </tr>\n",
       "  </tbody>\n",
       "</table>\n",
       "</div>"
      ],
      "text/plain": [
       "    pdonset\n",
       "I          \n",
       "C1    10.31\n",
       "C2    11.06"
      ]
     },
     "execution_count": 172,
     "metadata": {},
     "output_type": "execute_result"
    }
   ],
   "source": [
    "partition = \"I\"\n",
    "columns_1 = [\"pdonset\", partition]\n",
    "\n",
    "data[columns_1].groupby([partition]).mean().round(2)\n",
    "data[columns_1].groupby([partition]).std().round(2)"
   ]
  },
  {
   "cell_type": "markdown",
   "metadata": {},
   "source": [
    "##### Hypothesis test"
   ]
  },
  {
   "cell_type": "code",
   "execution_count": 173,
   "metadata": {},
   "outputs": [
    {
     "data": {
      "text/plain": [
       "4.168754591909975e-05"
      ]
     },
     "execution_count": 173,
     "metadata": {},
     "output_type": "execute_result"
    }
   ],
   "source": [
    "from scipy.stats import mannwhitneyu as mw\n",
    "\n",
    "cluster_1_data = data.loc[data[\"I\"] == \"C1\", \"pdonset\"]\n",
    "cluster_2_data = data.loc[data[\"I\"] == \"C2\", \"pdonset\"]\n",
    "\n",
    "mw(cluster_1_data, cluster_2_data).pvalue"
   ]
  },
  {
   "cell_type": "markdown",
   "metadata": {},
   "source": [
    "#### 9.5 - PD duration"
   ]
  },
  {
   "cell_type": "markdown",
   "metadata": {},
   "source": [
    "##### Plot"
   ]
  },
  {
   "cell_type": "code",
   "execution_count": 174,
   "metadata": {},
   "outputs": [
    {
     "data": {
      "image/png": "[encoded data removed]",
      "text/plain": [
       "<Figure size 360x288 with 1 Axes>"
      ]
     },
     "metadata": {
      "needs_background": "light"
     },
     "output_type": "display_data"
    }
   ],
   "source": [
    "import matplotlib.pyplot as plt\n",
    "import seaborn as sns\n",
    "\n",
    "sex_colors = [\"#00A6D6\", \"#FF69B4\"]\n",
    "\n",
    "fig, axs = plt.subplots(ncols=1, nrows=1, figsize=(5, 4))\n",
    "\n",
    "sns.boxplot(x=\"I\", y=\"durat_pd\", data=data, showmeans=True, meanprops={\"marker\":\"o\",\n",
    "                       \"markerfacecolor\":\"white\", \n",
    "                       \"markeredgecolor\":\"black\",\n",
    "                      \"markersize\":\"8\"})\n",
    "axs.set_ylabel('PD duration', fontsize=12)\n",
    "axs.set_xlabel(\"cluster\", fontsize=12)\n",
    "\n",
    "plt.savefig(\"figures/durat_pd_I.pdf\", format=\"pdf\", bbox_inches='tight')"
   ]
  },
  {
   "cell_type": "markdown",
   "metadata": {},
   "source": [
    "##### Table"
   ]
  },
  {
   "cell_type": "code",
   "execution_count": 175,
   "metadata": {},
   "outputs": [
    {
     "data": {
      "text/html": [
       "<div>\n",
       "<style scoped>\n",
       "    .dataframe tbody tr th:only-of-type {\n",
       "        vertical-align: middle;\n",
       "    }\n",
       "\n",
       "    .dataframe tbody tr th {\n",
       "        vertical-align: top;\n",
       "    }\n",
       "\n",
       "    .dataframe thead th {\n",
       "        text-align: right;\n",
       "    }\n",
       "</style>\n",
       "<table border=\"1\" class=\"dataframe\">\n",
       "  <thead>\n",
       "    <tr style=\"text-align: right;\">\n",
       "      <th></th>\n",
       "      <th>durat_pd</th>\n",
       "    </tr>\n",
       "    <tr>\n",
       "      <th>I</th>\n",
       "      <th></th>\n",
       "    </tr>\n",
       "  </thead>\n",
       "  <tbody>\n",
       "    <tr>\n",
       "      <th>C1</th>\n",
       "      <td>5.99</td>\n",
       "    </tr>\n",
       "    <tr>\n",
       "      <th>C2</th>\n",
       "      <td>5.67</td>\n",
       "    </tr>\n",
       "  </tbody>\n",
       "</table>\n",
       "</div>"
      ],
      "text/plain": [
       "    durat_pd\n",
       "I           \n",
       "C1      5.99\n",
       "C2      5.67"
      ]
     },
     "execution_count": 175,
     "metadata": {},
     "output_type": "execute_result"
    }
   ],
   "source": [
    "partition = \"I\"\n",
    "columns_1 = [\"durat_pd\", partition]\n",
    "\n",
    "data[columns_1].groupby([partition]).mean().round(2)\n",
    "data[columns_1].groupby([partition]).std().round(2)"
   ]
  },
  {
   "cell_type": "markdown",
   "metadata": {},
   "source": [
    "##### Hypothesis test"
   ]
  },
  {
   "cell_type": "code",
   "execution_count": 176,
   "metadata": {},
   "outputs": [
    {
     "data": {
      "text/plain": [
       "0.00925264930724717"
      ]
     },
     "execution_count": 176,
     "metadata": {},
     "output_type": "execute_result"
    }
   ],
   "source": [
    "from scipy.stats import mannwhitneyu as mw\n",
    "\n",
    "cluster_1_data = data.loc[data[\"I\"] == \"C1\", \"durat_pd\"]\n",
    "cluster_2_data = data.loc[data[\"I\"] == \"C2\", \"durat_pd\"]\n",
    "\n",
    "mw(cluster_1_data, cluster_2_data).pvalue"
   ]
  },
  {
   "cell_type": "markdown",
   "metadata": {},
   "source": [
    "#### 9.6 - Sex\n",
    "\n",
    "##### Proportion table\n",
    "\n",
    "Estimate the proportion of males and females in each cluster. The idea is to see if there are big proportional differences. This is not a hypothesis test."
   ]
  },
  {
   "cell_type": "code",
   "execution_count": 177,
   "metadata": {},
   "outputs": [
    {
     "data": {
      "text/plain": [
       "I   sex   \n",
       "C1  male      76.00\n",
       "    female    71.71\n",
       "C2  male      24.00\n",
       "    female    28.29\n",
       "Name: sex, dtype: float64"
      ]
     },
     "execution_count": 177,
     "metadata": {},
     "output_type": "execute_result"
    }
   ],
   "source": [
    "import numpy as np\n",
    "\n",
    "partition = \"I\"\n",
    "columns_1 = [\"sex\", partition]\n",
    "\n",
    "total_males = data[\"sex\"].value_counts()[0]\n",
    "total_females = data[\"sex\"].value_counts()[1]\n",
    "total = np.array([total_males, total_females, total_males, total_females])\n",
    "\n",
    "(data[columns_1].groupby([partition]).sex.value_counts()/total * 100).round(2)"
   ]
  },
  {
   "cell_type": "markdown",
   "metadata": {},
   "source": [
    "##### Table"
   ]
  },
  {
   "cell_type": "code",
   "execution_count": 178,
   "metadata": {},
   "outputs": [
    {
     "data": {
      "text/plain": [
       "I   sex   \n",
       "C1  male      63.55\n",
       "    female    36.45\n",
       "C2  male      58.25\n",
       "    female    41.75\n",
       "Name: sex, dtype: float64"
      ]
     },
     "execution_count": 178,
     "metadata": {},
     "output_type": "execute_result"
    }
   ],
   "source": [
    "import numpy as np\n",
    "\n",
    "partition = \"I\"\n",
    "columns_1 = [\"sex\", partition]\n",
    "\n",
    "cluster_1_total = data[columns_1].groupby([partition]).count().iloc[0,0]\n",
    "cluster_2_total = data[columns_1].groupby([partition]).count().iloc[1,0]\n",
    "total = np.array([cluster_1_total, cluster_1_total, cluster_2_total, cluster_2_total])\n",
    "\n",
    "# Percentage\n",
    "(data[columns_1].groupby([partition]).sex.value_counts()/total * 100).round(2) \n",
    "# Counts\n",
    "#data[columns_1].groupby([partition]).sex.value_counts()"
   ]
  },
  {
   "cell_type": "markdown",
   "metadata": {},
   "source": [
    "##### Hypothesis test\n",
    "\n",
    "https://stats.stackexchange.com/questions/110718/chi-squared-test-with-scipy-whats-the-difference-between-chi2-contingency-and"
   ]
  },
  {
   "cell_type": "code",
   "execution_count": 179,
   "metadata": {},
   "outputs": [
    {
     "data": {
      "text/plain": [
       "0.4022959366479697"
      ]
     },
     "execution_count": 179,
     "metadata": {},
     "output_type": "execute_result"
    }
   ],
   "source": [
    "from scipy.stats import chi2_contingency \n",
    "\n",
    "cluster_1_data = data.loc[data[\"I\"] == \"C1\", \"sex\"].value_counts()\n",
    "cluster_2_data = data.loc[data[\"I\"] == \"C2\", \"sex\"].value_counts()\n",
    "\n",
    "cluster_1_data_array = [cluster_1_data[0], cluster_1_data[1]]\n",
    "cluster_2_data_array = [cluster_2_data[0], cluster_2_data[1]]\n",
    "contingency_table = [cluster_1_data_array, cluster_2_data_array]\n",
    "\n",
    "tat, p, dof, expected = chi2_contingency(contingency_table)\n",
    "p"
   ]
  }
 ],
 "metadata": {
  "kernelspec": {
   "display_name": "Python 3",
   "language": "python",
   "name": "python3"
  },
  "language_info": {
   "codemirror_mode": {
    "name": "ipython",
    "version": 3
   },
   "file_extension": ".py",
   "mimetype": "text/x-python",
   "name": "python",
   "nbconvert_exporter": "python",
   "pygments_lexer": "ipython3",
   "version": "3.7.7"
  }
 },
 "nbformat": 4,
 "nbformat_minor": 4
}
